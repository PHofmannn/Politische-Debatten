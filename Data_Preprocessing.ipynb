{
 "cells": [
  {
   "attachments": {},
   "cell_type": "markdown",
   "metadata": {},
   "source": [
    "# **Seminar: Politische Debatten & Polarisierung im Bundestag**\n",
    "## Sentimentanalyse im Kontext von Corona"
   ]
  },
  {
   "attachments": {},
   "cell_type": "markdown",
   "metadata": {},
   "source": [
    "## 1. Packages installieren"
   ]
  },
  {
   "cell_type": "code",
   "execution_count": 6,
   "metadata": {},
   "outputs": [],
   "source": [
    "# Import Basic Packagesw\n",
    "import numpy as np                 # Numpy\n",
    "import pandas as pd                 #Datafrane\n",
    "\n",
    "# Import Visualization Packages\n",
    "from collections import Counter     # um worte zu zählen\n",
    "#import matplotlib.pyplot as plt   # Für Visualisierung\n",
    "from wordcloud import WordCloud, STOPWORDS, ImageColorGenerator #Wordcloud erstellen\n",
    "import plotly.express as px\n",
    "import plotly.graph_objs as go\n",
    "import plotly.subplots as sp\n",
    "\n",
    "\n",
    "# Import NLP Packages\n",
    "import nltk\n",
    "pd.options.mode.chained_assignment = None\n",
    "import spacy\n",
    "\n",
    "# Methoden aus anderem Modul importieren\n",
    "import Sentiment_Methods"
   ]
  },
  {
   "attachments": {},
   "cell_type": "markdown",
   "metadata": {},
   "source": [
    "## 2. Datensatz vorbereiten"
   ]
  },
  {
   "attachments": {},
   "cell_type": "markdown",
   "metadata": {},
   "source": [
    "### Datensatz einlesen"
   ]
  },
  {
   "cell_type": "code",
   "execution_count": 8,
   "metadata": {},
   "outputs": [
    {
     "data": {
      "text/html": [
       "<div>\n",
       "<style scoped>\n",
       "    .dataframe tbody tr th:only-of-type {\n",
       "        vertical-align: middle;\n",
       "    }\n",
       "\n",
       "    .dataframe tbody tr th {\n",
       "        vertical-align: top;\n",
       "    }\n",
       "\n",
       "    .dataframe thead th {\n",
       "        text-align: right;\n",
       "    }\n",
       "</style>\n",
       "<table border=\"1\" class=\"dataframe\">\n",
       "  <thead>\n",
       "    <tr style=\"text-align: right;\">\n",
       "      <th></th>\n",
       "      <th>text</th>\n",
       "      <th>id</th>\n",
       "      <th>period</th>\n",
       "      <th>date</th>\n",
       "      <th>name</th>\n",
       "      <th>party</th>\n",
       "      <th>redner_id</th>\n",
       "      <th>discussion_title</th>\n",
       "    </tr>\n",
       "  </thead>\n",
       "  <tbody>\n",
       "    <tr>\n",
       "      <th>8620</th>\n",
       "      <td>Frau Präsidentin, ich nehme die Wahl an und fr...</td>\n",
       "      <td>ID20101400</td>\n",
       "      <td>18</td>\n",
       "      <td>2021-10-26</td>\n",
       "      <td>Petra Pau</td>\n",
       "      <td>DIE LINKE</td>\n",
       "      <td>11003206</td>\n",
       "      <td>Tagesordnungspunkt 6 2021-10-26</td>\n",
       "    </tr>\n",
       "    <tr>\n",
       "      <th>8607</th>\n",
       "      <td>Sehr geehrter Herr Alterspräsident! So muss ic...</td>\n",
       "      <td>ID20100100</td>\n",
       "      <td>18</td>\n",
       "      <td>2021-10-26</td>\n",
       "      <td>Gabriele Katzmarek</td>\n",
       "      <td>SPD</td>\n",
       "      <td>11004325</td>\n",
       "      <td>Tagesordnungspunkt 2 2021-10-26</td>\n",
       "    </tr>\n",
       "    <tr>\n",
       "      <th>8608</th>\n",
       "      <td>Herr Präsident! Liebe Kolleginnen und Kollegen...</td>\n",
       "      <td>ID20100200</td>\n",
       "      <td>18</td>\n",
       "      <td>2021-10-26</td>\n",
       "      <td>Stefan Müller</td>\n",
       "      <td>CDU/CSU</td>\n",
       "      <td>11003597</td>\n",
       "      <td>Tagesordnungspunkt 2 2021-10-26</td>\n",
       "    </tr>\n",
       "    <tr>\n",
       "      <th>8609</th>\n",
       "      <td>Sehr geehrter Herr Alterspräsident Wolfgang Sc...</td>\n",
       "      <td>ID20100300</td>\n",
       "      <td>18</td>\n",
       "      <td>2021-10-26</td>\n",
       "      <td>Britta Haßelmann</td>\n",
       "      <td>BÜNDNIS 90/DIE GRÜNEN</td>\n",
       "      <td>11003764</td>\n",
       "      <td>Tagesordnungspunkt 2 2021-10-26</td>\n",
       "    </tr>\n",
       "    <tr>\n",
       "      <th>8610</th>\n",
       "      <td>Sehr geehrter Herr Präsident! Meine lieben Kol...</td>\n",
       "      <td>ID20100400</td>\n",
       "      <td>18</td>\n",
       "      <td>2021-10-26</td>\n",
       "      <td>Marco Buschmann</td>\n",
       "      <td>FDP</td>\n",
       "      <td>11004023</td>\n",
       "      <td>Tagesordnungspunkt 2 2021-10-26</td>\n",
       "    </tr>\n",
       "    <tr>\n",
       "      <th>...</th>\n",
       "      <td>...</td>\n",
       "      <td>...</td>\n",
       "      <td>...</td>\n",
       "      <td>...</td>\n",
       "      <td>...</td>\n",
       "      <td>...</td>\n",
       "      <td>...</td>\n",
       "      <td>...</td>\n",
       "    </tr>\n",
       "    <tr>\n",
       "      <th>9145</th>\n",
       "      <td>Vielen Dank. – Frau Präsidentin! Meine sehr ve...</td>\n",
       "      <td>ID209804700</td>\n",
       "      <td>18</td>\n",
       "      <td>2023-04-21</td>\n",
       "      <td>Caren Lay</td>\n",
       "      <td>DIE LINKE</td>\n",
       "      <td>11004088</td>\n",
       "      <td>Tagesordnungspunkt 24 2023-04-21</td>\n",
       "    </tr>\n",
       "    <tr>\n",
       "      <th>9146</th>\n",
       "      <td>Sehr geehrte Frau Präsidentin! Werte Kolleginn...</td>\n",
       "      <td>ID209804800</td>\n",
       "      <td>18</td>\n",
       "      <td>2023-04-21</td>\n",
       "      <td>Daniel Föst</td>\n",
       "      <td>FDP</td>\n",
       "      <td>11004716</td>\n",
       "      <td>Tagesordnungspunkt 24 2023-04-21</td>\n",
       "    </tr>\n",
       "    <tr>\n",
       "      <th>9147</th>\n",
       "      <td>Sehr geehrte Frau Präsidentin! Liebe Kolleginn...</td>\n",
       "      <td>ID209804900</td>\n",
       "      <td>18</td>\n",
       "      <td>2023-04-21</td>\n",
       "      <td>Petra Nicolaisen</td>\n",
       "      <td>CDU/CSU</td>\n",
       "      <td>11004841</td>\n",
       "      <td>Tagesordnungspunkt 24 2023-04-21</td>\n",
       "    </tr>\n",
       "    <tr>\n",
       "      <th>9138</th>\n",
       "      <td>Frau Präsidentin! Herr Staatssekretär! Meine l...</td>\n",
       "      <td>ID209804000</td>\n",
       "      <td>18</td>\n",
       "      <td>2023-04-21</td>\n",
       "      <td>Mechthilde Wittmann</td>\n",
       "      <td>CDU/CSU</td>\n",
       "      <td>11005261</td>\n",
       "      <td>Tagesordnungspunkt 13 2023-04-21</td>\n",
       "    </tr>\n",
       "    <tr>\n",
       "      <th>9164</th>\n",
       "      <td>Frau Präsidentin! Meine Damen und Herren! Die ...</td>\n",
       "      <td>ID209806600</td>\n",
       "      <td>18</td>\n",
       "      <td>2023-04-21</td>\n",
       "      <td>Sascha Müller</td>\n",
       "      <td>BÜNDNIS 90/DIE GRÜNEN</td>\n",
       "      <td>11005162</td>\n",
       "      <td>Tagesordnungspunkt 22 2023-04-21</td>\n",
       "    </tr>\n",
       "  </tbody>\n",
       "</table>\n",
       "<p>10791 rows × 8 columns</p>\n",
       "</div>"
      ],
      "text/plain": [
       "                                                   text           id  period  \\\n",
       "8620  Frau Präsidentin, ich nehme die Wahl an und fr...   ID20101400      18   \n",
       "8607  Sehr geehrter Herr Alterspräsident! So muss ic...   ID20100100      18   \n",
       "8608  Herr Präsident! Liebe Kolleginnen und Kollegen...   ID20100200      18   \n",
       "8609  Sehr geehrter Herr Alterspräsident Wolfgang Sc...   ID20100300      18   \n",
       "8610  Sehr geehrter Herr Präsident! Meine lieben Kol...   ID20100400      18   \n",
       "...                                                 ...          ...     ...   \n",
       "9145  Vielen Dank. – Frau Präsidentin! Meine sehr ve...  ID209804700      18   \n",
       "9146  Sehr geehrte Frau Präsidentin! Werte Kolleginn...  ID209804800      18   \n",
       "9147  Sehr geehrte Frau Präsidentin! Liebe Kolleginn...  ID209804900      18   \n",
       "9138  Frau Präsidentin! Herr Staatssekretär! Meine l...  ID209804000      18   \n",
       "9164  Frau Präsidentin! Meine Damen und Herren! Die ...  ID209806600      18   \n",
       "\n",
       "           date                 name                  party  redner_id  \\\n",
       "8620 2021-10-26            Petra Pau              DIE LINKE   11003206   \n",
       "8607 2021-10-26   Gabriele Katzmarek                    SPD   11004325   \n",
       "8608 2021-10-26        Stefan Müller                CDU/CSU   11003597   \n",
       "8609 2021-10-26     Britta Haßelmann  BÜNDNIS 90/DIE GRÜNEN   11003764   \n",
       "8610 2021-10-26      Marco Buschmann                    FDP   11004023   \n",
       "...         ...                  ...                    ...        ...   \n",
       "9145 2023-04-21            Caren Lay              DIE LINKE   11004088   \n",
       "9146 2023-04-21          Daniel Föst                    FDP   11004716   \n",
       "9147 2023-04-21     Petra Nicolaisen                CDU/CSU   11004841   \n",
       "9138 2023-04-21  Mechthilde Wittmann                CDU/CSU   11005261   \n",
       "9164 2023-04-21        Sascha Müller  BÜNDNIS 90/DIE GRÜNEN   11005162   \n",
       "\n",
       "                      discussion_title  \n",
       "8620   Tagesordnungspunkt 6 2021-10-26  \n",
       "8607   Tagesordnungspunkt 2 2021-10-26  \n",
       "8608   Tagesordnungspunkt 2 2021-10-26  \n",
       "8609   Tagesordnungspunkt 2 2021-10-26  \n",
       "8610   Tagesordnungspunkt 2 2021-10-26  \n",
       "...                                ...  \n",
       "9145  Tagesordnungspunkt 24 2023-04-21  \n",
       "9146  Tagesordnungspunkt 24 2023-04-21  \n",
       "9147  Tagesordnungspunkt 24 2023-04-21  \n",
       "9138  Tagesordnungspunkt 13 2023-04-21  \n",
       "9164  Tagesordnungspunkt 22 2023-04-21  \n",
       "\n",
       "[10791 rows x 8 columns]"
      ]
     },
     "execution_count": 8,
     "metadata": {},
     "output_type": "execute_result"
    }
   ],
   "source": [
    "# df Legislaturperiode 2019 (24.10.2017-26.09.21)\n",
    "df19 = pd.read_json(r\"C:\\Users\\paula\\OneDrive\\Uni\\2. Lernpools Master\\3. Semester\\Soziologie\\Data_Speeches\\speeches_19.jsonl\", lines=True)\n",
    "df19['date'] = pd.to_datetime(df19['date'])\n",
    "df19.sort_values(by='date')\n",
    "\n",
    "\n",
    "# df Legislaturperiode 2020 (24.10.2017-26.09.21)\n",
    "df20 = pd.read_json(r\"C:\\Users\\paula\\OneDrive\\Uni\\2. Lernpools Master\\3. Semester\\Soziologie\\Data_Speeches\\speeches_20.jsonl\", lines=True)\n",
    "df20['date'] = pd.to_datetime(df20['date'])\n",
    "df20.sort_values(by='date')\n"
   ]
  },
  {
   "cell_type": "code",
   "execution_count": 9,
   "metadata": {},
   "outputs": [],
   "source": [
    "# Im Nächsten Schritt filtern wir den Dataframe aus der 19 Periode auf die passenden Zeiträume, da wir nur die Reden im Zeitraum von Corona erhalten wollen 09.03.2020\n",
    "start_date = pd.to_datetime('2020-02-25')\n",
    "df19_filtered = df19[df19['date'] >= start_date]"
   ]
  },
  {
   "cell_type": "code",
   "execution_count": 10,
   "metadata": {},
   "outputs": [
    {
     "data": {
      "text/html": [
       "<div>\n",
       "<style scoped>\n",
       "    .dataframe tbody tr th:only-of-type {\n",
       "        vertical-align: middle;\n",
       "    }\n",
       "\n",
       "    .dataframe tbody tr th {\n",
       "        vertical-align: top;\n",
       "    }\n",
       "\n",
       "    .dataframe thead th {\n",
       "        text-align: right;\n",
       "    }\n",
       "</style>\n",
       "<table border=\"1\" class=\"dataframe\">\n",
       "  <thead>\n",
       "    <tr style=\"text-align: right;\">\n",
       "      <th></th>\n",
       "      <th>text</th>\n",
       "      <th>id</th>\n",
       "      <th>period</th>\n",
       "      <th>date</th>\n",
       "      <th>name</th>\n",
       "      <th>party</th>\n",
       "      <th>redner_id</th>\n",
       "      <th>discussion_title</th>\n",
       "    </tr>\n",
       "  </thead>\n",
       "  <tbody>\n",
       "    <tr>\n",
       "      <th>523</th>\n",
       "      <td>Herr Präsident! Liebe Kolleginnen und Kollegen...</td>\n",
       "      <td>ID1919000100</td>\n",
       "      <td>19</td>\n",
       "      <td>2020-11-06</td>\n",
       "      <td>Jens Spahn</td>\n",
       "      <td>CDU/CSU</td>\n",
       "      <td>11003638</td>\n",
       "      <td>Tagesordnungspunkt 27 2020-11-06</td>\n",
       "    </tr>\n",
       "    <tr>\n",
       "      <th>524</th>\n",
       "      <td>Herr Präsident! Sehr geehrte Damen und Herren!...</td>\n",
       "      <td>ID1919000200</td>\n",
       "      <td>19</td>\n",
       "      <td>2020-11-06</td>\n",
       "      <td>Detlev Spangenberg</td>\n",
       "      <td>AfD</td>\n",
       "      <td>11004898</td>\n",
       "      <td>Tagesordnungspunkt 27 2020-11-06</td>\n",
       "    </tr>\n",
       "    <tr>\n",
       "      <th>528</th>\n",
       "      <td>Sehr geehrter Herr Präsident! Sehr geehrte Kol...</td>\n",
       "      <td>ID1919000600</td>\n",
       "      <td>19</td>\n",
       "      <td>2020-11-06</td>\n",
       "      <td>Manuela Rottmann</td>\n",
       "      <td>BÜNDNIS 90/DIE GRÜNEN</td>\n",
       "      <td>11004866</td>\n",
       "      <td>Tagesordnungspunkt 27 2020-11-06</td>\n",
       "    </tr>\n",
       "    <tr>\n",
       "      <th>544</th>\n",
       "      <td>Sehr geehrte Frau Präsidentin! Meine sehr geeh...</td>\n",
       "      <td>ID1919002200</td>\n",
       "      <td>19</td>\n",
       "      <td>2020-11-06</td>\n",
       "      <td>Gabriele Katzmarek</td>\n",
       "      <td>SPD</td>\n",
       "      <td>11004325</td>\n",
       "      <td>Tagesordnungspunkt 28 2020-11-06</td>\n",
       "    </tr>\n",
       "  </tbody>\n",
       "</table>\n",
       "</div>"
      ],
      "text/plain": [
       "                                                  text            id  period  \\\n",
       "523  Herr Präsident! Liebe Kolleginnen und Kollegen...  ID1919000100      19   \n",
       "524  Herr Präsident! Sehr geehrte Damen und Herren!...  ID1919000200      19   \n",
       "528  Sehr geehrter Herr Präsident! Sehr geehrte Kol...  ID1919000600      19   \n",
       "544  Sehr geehrte Frau Präsidentin! Meine sehr geeh...  ID1919002200      19   \n",
       "\n",
       "          date                name                  party redner_id  \\\n",
       "523 2020-11-06          Jens Spahn                CDU/CSU  11003638   \n",
       "524 2020-11-06  Detlev Spangenberg                    AfD  11004898   \n",
       "528 2020-11-06    Manuela Rottmann  BÜNDNIS 90/DIE GRÜNEN  11004866   \n",
       "544 2020-11-06  Gabriele Katzmarek                    SPD  11004325   \n",
       "\n",
       "                     discussion_title  \n",
       "523  Tagesordnungspunkt 27 2020-11-06  \n",
       "524  Tagesordnungspunkt 27 2020-11-06  \n",
       "528  Tagesordnungspunkt 27 2020-11-06  \n",
       "544  Tagesordnungspunkt 28 2020-11-06  "
      ]
     },
     "execution_count": 10,
     "metadata": {},
     "output_type": "execute_result"
    }
   ],
   "source": [
    "# Festlegung der Keywords nach den gesucht werden soll\n",
    "keywords = ['Covid-19']\n",
    "\n",
    "# Aufruf der Methode, um die Reden zu erhalten, die entsprechende Keywords haben.\n",
    "df19_Covid = Sentiment_Methods.filter_dataframe_by_keywords_with_synonyms(df19_filtered, keywords)\n",
    "\n",
    "#\n",
    "df20_Covid = Sentiment_Methods.filter_dataframe_by_keywords_with_synonyms(df20, keywords)\n",
    "\n",
    "# Ausgabe der gefundenen Reden\n",
    "df19_Covid.head(4)"
   ]
  },
  {
   "cell_type": "code",
   "execution_count": 43,
   "metadata": {},
   "outputs": [
    {
     "name": "stdout",
     "output_type": "stream",
     "text": [
      "                                                    text           id  period  \\\n",
      "1      Frau Präsidentin! Sehr geehrte Kolleginnen und...  ID203000200      18   \n",
      "5      Ich beantworte angesichts der Zeit zunächst di...  ID203000600      18   \n",
      "16     Frau Bundesministerin, neben den Krisen und He...  ID203001700      18   \n",
      "25     Vielleicht zum ersten Teil Ihrer Frage bzw. An...  ID203002600      18   \n",
      "27     Auch wenn Sie lauter fragen, ist es mein Recht...  ID203002800      18   \n",
      "...                                                  ...          ...     ...   \n",
      "10773  Sehr geehrte Frau Präsidentin! Liebe Kolleginn...  ID205507500      18   \n",
      "10785  Vielen Dank. – Frau Präsidentin! Wenn deutsche...  ID205508700      18   \n",
      "10787  Vielen Dank. – Sehr geehrte Frau Präsidentin! ...  ID205508900      18   \n",
      "10788  Sehr geehrte Frau Präsidentin! Liebe Kolleginn...  ID205509000      18   \n",
      "10790  Frau Präsidentin, ich freue mich sehr, Sie zu ...  ID205509200      18   \n",
      "\n",
      "            date                     name                  party  redner_id  \\\n",
      "1     2022-04-27        Annalena Baerbock  BÜNDNIS 90/DIE GRÜNEN   11004245   \n",
      "5     2022-04-27        Annalena Baerbock  BÜNDNIS 90/DIE GRÜNEN   11004245   \n",
      "16    2022-04-27            Karamba Diaby                    SPD   11004259   \n",
      "25    2022-04-27        Annalena Baerbock  BÜNDNIS 90/DIE GRÜNEN   11004245   \n",
      "27    2022-04-27        Annalena Baerbock  BÜNDNIS 90/DIE GRÜNEN   11004245   \n",
      "...          ...                      ...                    ...        ...   \n",
      "10773 2022-09-23       Martin Diedenhofen                    SPD   11005040   \n",
      "10785 2022-09-23       Matthias Helferich                    AfD   11005079   \n",
      "10787 2022-09-23             Lamya Kaddor  BÜNDNIS 90/DIE GRÜNEN   11005095   \n",
      "10788 2022-09-23  Maximilian Funke-Kaiser                    FDP   11005058   \n",
      "10790 2022-09-23    Matthias David Mieves                    SPD   11005154   \n",
      "\n",
      "                       discussion_title  occurrences  \n",
      "1       Tagesordnungspunkt 2 2022-04-27            0  \n",
      "5       Tagesordnungspunkt 2 2022-04-27            0  \n",
      "16      Tagesordnungspunkt 2 2022-04-27            0  \n",
      "25      Tagesordnungspunkt 2 2022-04-27            0  \n",
      "27      Tagesordnungspunkt 2 2022-04-27            0  \n",
      "...                                 ...          ...  \n",
      "10773  Tagesordnungspunkt 34 2022-09-23            0  \n",
      "10785          Zusatzpunkt 8 2022-09-23            0  \n",
      "10787          Zusatzpunkt 8 2022-09-23            0  \n",
      "10788          Zusatzpunkt 8 2022-09-23            0  \n",
      "10790          Zusatzpunkt 8 2022-09-23            0  \n",
      "\n",
      "[2387 rows x 9 columns]\n"
     ]
    }
   ],
   "source": [
    "\n",
    "\n",
    "import pandas as pd\n",
    "from nltk.tokenize import word_tokenize\n",
    "from nltk.corpus import wordnet\n",
    "\n",
    "def get_synonyms(word):\n",
    "    synonyms = []\n",
    "    for syn in wordnet.synsets(word):\n",
    "        for lemma in syn.lemmas():\n",
    "            synonyms.append(lemma.name())\n",
    "    return synonyms\n",
    "\n",
    "def count_occurrences_of_keywords(df, keywords):\n",
    "    def count_occurrences(text):\n",
    "        word_tokens = word_tokenize(text.lower())\n",
    "        keyword_occurrences = [1 for word in word_tokens if word in keywords]\n",
    "        synonym_occurrences = [1 for word in word_tokens for keyword in keywords if word in get_synonyms(keyword)]\n",
    "        return sum(keyword_occurrences) + sum(synonym_occurrences)\n",
    "    \n",
    "    df['occurrences'] = df['text'].apply(count_occurrences)\n",
    "    return df\n",
    "\n",
    "\n",
    "# List of keywords (including 'corona')\n",
    "keywords = ['covid-19']\n",
    "\n",
    "# Count occurrences of keywords and synonyms in each cell of 'text'\n",
    "df_with_occurrences = count_occurrences_of_keywords(df20_Covid, keywords)\n",
    "\n",
    "# Display the DataFrame with the occurrence count\n",
    "print(df_with_occurrences)\n",
    "\n"
   ]
  },
  {
   "attachments": {},
   "cell_type": "markdown",
   "metadata": {},
   "source": [
    "### Datensatz bearbeiten"
   ]
  },
  {
   "cell_type": "code",
   "execution_count": 11,
   "metadata": {},
   "outputs": [],
   "source": [
    "#Methodenaufruf, indem df durch Satztokenisierung umgewandelt wird und in neuen df_grundrechte gespeichert wird: Jede Zeile enthält einen Satz\n",
    "df19_Covid_Split = Sentiment_Methods.tokenize_and_split_sentences (df19_Covid)\n",
    "df20_Covid_Split = Sentiment_Methods.tokenize_and_split_sentences (df20_Covid)"
   ]
  },
  {
   "attachments": {},
   "cell_type": "markdown",
   "metadata": {},
   "source": [
    "## Daten bereinigen"
   ]
  },
  {
   "cell_type": "code",
   "execution_count": 12,
   "metadata": {},
   "outputs": [
    {
     "name": "stderr",
     "output_type": "stream",
     "text": [
      "[nltk_data] Downloading package stopwords to\n",
      "[nltk_data]     C:\\Users\\paula\\AppData\\Roaming\\nltk_data...\n",
      "[nltk_data]   Package stopwords is already up-to-date!\n"
     ]
    },
    {
     "data": {
      "text/html": [
       "<div>\n",
       "<style scoped>\n",
       "    .dataframe tbody tr th:only-of-type {\n",
       "        vertical-align: middle;\n",
       "    }\n",
       "\n",
       "    .dataframe tbody tr th {\n",
       "        vertical-align: top;\n",
       "    }\n",
       "\n",
       "    .dataframe thead th {\n",
       "        text-align: right;\n",
       "    }\n",
       "</style>\n",
       "<table border=\"1\" class=\"dataframe\">\n",
       "  <thead>\n",
       "    <tr style=\"text-align: right;\">\n",
       "      <th></th>\n",
       "      <th>satz</th>\n",
       "      <th>id</th>\n",
       "      <th>period</th>\n",
       "      <th>date</th>\n",
       "      <th>name</th>\n",
       "      <th>party</th>\n",
       "      <th>redner_id</th>\n",
       "      <th>discussion_title</th>\n",
       "      <th>text</th>\n",
       "      <th>tokenized_text</th>\n",
       "      <th>tokens</th>\n",
       "      <th>cleaned_text</th>\n",
       "    </tr>\n",
       "  </thead>\n",
       "  <tbody>\n",
       "    <tr>\n",
       "      <th>2</th>\n",
       "      <td>Die einrichtungsbezogene Impfpflicht mit der e...</td>\n",
       "      <td>ID203110500</td>\n",
       "      <td>18</td>\n",
       "      <td>2022-04-28</td>\n",
       "      <td>Kay-Uwe Ziegler</td>\n",
       "      <td>AfD</td>\n",
       "      <td>11005265</td>\n",
       "      <td>Tagesordnungspunkt 17 2022-04-28</td>\n",
       "      <td>Sehr geehrte Frau Präsidentin! Sehr geehrte Ko...</td>\n",
       "      <td>[Sehr geehrte Frau Präsidentin!, Sehr geehrte ...</td>\n",
       "      <td>[einrichtungsbezogene, Impfpflicht, erklärten,...</td>\n",
       "      <td>einrichtungsbezogene Impfpflicht erklärten Zie...</td>\n",
       "    </tr>\n",
       "    <tr>\n",
       "      <th>3</th>\n",
       "      <td>In der gestrigen Sitzung des Gesundheitsaussch...</td>\n",
       "      <td>ID203110500</td>\n",
       "      <td>18</td>\n",
       "      <td>2022-04-28</td>\n",
       "      <td>Kay-Uwe Ziegler</td>\n",
       "      <td>AfD</td>\n",
       "      <td>11005265</td>\n",
       "      <td>Tagesordnungspunkt 17 2022-04-28</td>\n",
       "      <td>Sehr geehrte Frau Präsidentin! Sehr geehrte Ko...</td>\n",
       "      <td>[Sehr geehrte Frau Präsidentin!, Sehr geehrte ...</td>\n",
       "      <td>[gestrigen, Sitzung, Gesundheitsausschusses, s...</td>\n",
       "      <td>gestrigen Sitzung Gesundheitsausschusses stell...</td>\n",
       "    </tr>\n",
       "    <tr>\n",
       "      <th>4</th>\n",
       "      <td>Vom Ministerium und vom RKI gab es nur ein gan...</td>\n",
       "      <td>ID203110500</td>\n",
       "      <td>18</td>\n",
       "      <td>2022-04-28</td>\n",
       "      <td>Kay-Uwe Ziegler</td>\n",
       "      <td>AfD</td>\n",
       "      <td>11005265</td>\n",
       "      <td>Tagesordnungspunkt 17 2022-04-28</td>\n",
       "      <td>Sehr geehrte Frau Präsidentin! Sehr geehrte Ko...</td>\n",
       "      <td>[Sehr geehrte Frau Präsidentin!, Sehr geehrte ...</td>\n",
       "      <td>[Ministerium, RKI, gab, ganz, kurzes, Nein, An...</td>\n",
       "      <td>Ministerium RKI gab ganz kurzes Nein Antwort</td>\n",
       "    </tr>\n",
       "    <tr>\n",
       "      <th>5</th>\n",
       "      <td>Vom Paul-Ehrlich-Institut erhielt ich überhaup...</td>\n",
       "      <td>ID203110500</td>\n",
       "      <td>18</td>\n",
       "      <td>2022-04-28</td>\n",
       "      <td>Kay-Uwe Ziegler</td>\n",
       "      <td>AfD</td>\n",
       "      <td>11005265</td>\n",
       "      <td>Tagesordnungspunkt 17 2022-04-28</td>\n",
       "      <td>Sehr geehrte Frau Präsidentin! Sehr geehrte Ko...</td>\n",
       "      <td>[Sehr geehrte Frau Präsidentin!, Sehr geehrte ...</td>\n",
       "      <td>[Paul-Ehrlich-Institut, erhielt, überhaupt, An...</td>\n",
       "      <td>Paul-Ehrlich-Institut erhielt überhaupt Antwort</td>\n",
       "    </tr>\n",
       "    <tr>\n",
       "      <th>6</th>\n",
       "      <td>Professor Wieler äußerte in der nächsten Runde...</td>\n",
       "      <td>ID203110500</td>\n",
       "      <td>18</td>\n",
       "      <td>2022-04-28</td>\n",
       "      <td>Kay-Uwe Ziegler</td>\n",
       "      <td>AfD</td>\n",
       "      <td>11005265</td>\n",
       "      <td>Tagesordnungspunkt 17 2022-04-28</td>\n",
       "      <td>Sehr geehrte Frau Präsidentin! Sehr geehrte Ko...</td>\n",
       "      <td>[Sehr geehrte Frau Präsidentin!, Sehr geehrte ...</td>\n",
       "      <td>[Professor, Wieler, äußerte, nächsten, Runde, ...</td>\n",
       "      <td>Professor Wieler äußerte nächsten Runde Satz g...</td>\n",
       "    </tr>\n",
       "    <tr>\n",
       "      <th>7</th>\n",
       "      <td>Eine Modellierung?</td>\n",
       "      <td>ID203110500</td>\n",
       "      <td>18</td>\n",
       "      <td>2022-04-28</td>\n",
       "      <td>Kay-Uwe Ziegler</td>\n",
       "      <td>AfD</td>\n",
       "      <td>11005265</td>\n",
       "      <td>Tagesordnungspunkt 17 2022-04-28</td>\n",
       "      <td>Sehr geehrte Frau Präsidentin! Sehr geehrte Ko...</td>\n",
       "      <td>[Sehr geehrte Frau Präsidentin!, Sehr geehrte ...</td>\n",
       "      <td>[Modellierung]</td>\n",
       "      <td>Modellierung</td>\n",
       "    </tr>\n",
       "    <tr>\n",
       "      <th>8</th>\n",
       "      <td>Da draußen gibt es doch echte Menschen in den ...</td>\n",
       "      <td>ID203110500</td>\n",
       "      <td>18</td>\n",
       "      <td>2022-04-28</td>\n",
       "      <td>Kay-Uwe Ziegler</td>\n",
       "      <td>AfD</td>\n",
       "      <td>11005265</td>\n",
       "      <td>Tagesordnungspunkt 17 2022-04-28</td>\n",
       "      <td>Sehr geehrte Frau Präsidentin! Sehr geehrte Ko...</td>\n",
       "      <td>[Sehr geehrte Frau Präsidentin!, Sehr geehrte ...</td>\n",
       "      <td>[draußen, gibt, echte, Menschen, medizinischen...</td>\n",
       "      <td>draußen gibt echte Menschen medizinischen Beru...</td>\n",
       "    </tr>\n",
       "    <tr>\n",
       "      <th>9</th>\n",
       "      <td>Deshalb müsste es doch möglich sein, dass in V...</td>\n",
       "      <td>ID203110500</td>\n",
       "      <td>18</td>\n",
       "      <td>2022-04-28</td>\n",
       "      <td>Kay-Uwe Ziegler</td>\n",
       "      <td>AfD</td>\n",
       "      <td>11005265</td>\n",
       "      <td>Tagesordnungspunkt 17 2022-04-28</td>\n",
       "      <td>Sehr geehrte Frau Präsidentin! Sehr geehrte Ko...</td>\n",
       "      <td>[Sehr geehrte Frau Präsidentin!, Sehr geehrte ...</td>\n",
       "      <td>[Deshalb, müsste, möglich, Vorbereitung, Geset...</td>\n",
       "      <td>Deshalb müsste möglich Vorbereitung Gesetzes e...</td>\n",
       "    </tr>\n",
       "    <tr>\n",
       "      <th>10</th>\n",
       "      <td>Sie ahnen es vielleicht schon: Diesen wissensc...</td>\n",
       "      <td>ID203110500</td>\n",
       "      <td>18</td>\n",
       "      <td>2022-04-28</td>\n",
       "      <td>Kay-Uwe Ziegler</td>\n",
       "      <td>AfD</td>\n",
       "      <td>11005265</td>\n",
       "      <td>Tagesordnungspunkt 17 2022-04-28</td>\n",
       "      <td>Sehr geehrte Frau Präsidentin! Sehr geehrte Ko...</td>\n",
       "      <td>[Sehr geehrte Frau Präsidentin!, Sehr geehrte ...</td>\n",
       "      <td>[ahnen, vielleicht, schon, wissenschaftlichen,...</td>\n",
       "      <td>ahnen vielleicht schon wissenschaftlichen Nach...</td>\n",
       "    </tr>\n",
       "  </tbody>\n",
       "</table>\n",
       "</div>"
      ],
      "text/plain": [
       "                                                 satz           id period  \\\n",
       "2   Die einrichtungsbezogene Impfpflicht mit der e...  ID203110500     18   \n",
       "3   In der gestrigen Sitzung des Gesundheitsaussch...  ID203110500     18   \n",
       "4   Vom Ministerium und vom RKI gab es nur ein gan...  ID203110500     18   \n",
       "5   Vom Paul-Ehrlich-Institut erhielt ich überhaup...  ID203110500     18   \n",
       "6   Professor Wieler äußerte in der nächsten Runde...  ID203110500     18   \n",
       "7                                  Eine Modellierung?  ID203110500     18   \n",
       "8   Da draußen gibt es doch echte Menschen in den ...  ID203110500     18   \n",
       "9   Deshalb müsste es doch möglich sein, dass in V...  ID203110500     18   \n",
       "10  Sie ahnen es vielleicht schon: Diesen wissensc...  ID203110500     18   \n",
       "\n",
       "         date             name party redner_id  \\\n",
       "2  2022-04-28  Kay-Uwe Ziegler   AfD  11005265   \n",
       "3  2022-04-28  Kay-Uwe Ziegler   AfD  11005265   \n",
       "4  2022-04-28  Kay-Uwe Ziegler   AfD  11005265   \n",
       "5  2022-04-28  Kay-Uwe Ziegler   AfD  11005265   \n",
       "6  2022-04-28  Kay-Uwe Ziegler   AfD  11005265   \n",
       "7  2022-04-28  Kay-Uwe Ziegler   AfD  11005265   \n",
       "8  2022-04-28  Kay-Uwe Ziegler   AfD  11005265   \n",
       "9  2022-04-28  Kay-Uwe Ziegler   AfD  11005265   \n",
       "10 2022-04-28  Kay-Uwe Ziegler   AfD  11005265   \n",
       "\n",
       "                    discussion_title  \\\n",
       "2   Tagesordnungspunkt 17 2022-04-28   \n",
       "3   Tagesordnungspunkt 17 2022-04-28   \n",
       "4   Tagesordnungspunkt 17 2022-04-28   \n",
       "5   Tagesordnungspunkt 17 2022-04-28   \n",
       "6   Tagesordnungspunkt 17 2022-04-28   \n",
       "7   Tagesordnungspunkt 17 2022-04-28   \n",
       "8   Tagesordnungspunkt 17 2022-04-28   \n",
       "9   Tagesordnungspunkt 17 2022-04-28   \n",
       "10  Tagesordnungspunkt 17 2022-04-28   \n",
       "\n",
       "                                                 text  \\\n",
       "2   Sehr geehrte Frau Präsidentin! Sehr geehrte Ko...   \n",
       "3   Sehr geehrte Frau Präsidentin! Sehr geehrte Ko...   \n",
       "4   Sehr geehrte Frau Präsidentin! Sehr geehrte Ko...   \n",
       "5   Sehr geehrte Frau Präsidentin! Sehr geehrte Ko...   \n",
       "6   Sehr geehrte Frau Präsidentin! Sehr geehrte Ko...   \n",
       "7   Sehr geehrte Frau Präsidentin! Sehr geehrte Ko...   \n",
       "8   Sehr geehrte Frau Präsidentin! Sehr geehrte Ko...   \n",
       "9   Sehr geehrte Frau Präsidentin! Sehr geehrte Ko...   \n",
       "10  Sehr geehrte Frau Präsidentin! Sehr geehrte Ko...   \n",
       "\n",
       "                                       tokenized_text  \\\n",
       "2   [Sehr geehrte Frau Präsidentin!, Sehr geehrte ...   \n",
       "3   [Sehr geehrte Frau Präsidentin!, Sehr geehrte ...   \n",
       "4   [Sehr geehrte Frau Präsidentin!, Sehr geehrte ...   \n",
       "5   [Sehr geehrte Frau Präsidentin!, Sehr geehrte ...   \n",
       "6   [Sehr geehrte Frau Präsidentin!, Sehr geehrte ...   \n",
       "7   [Sehr geehrte Frau Präsidentin!, Sehr geehrte ...   \n",
       "8   [Sehr geehrte Frau Präsidentin!, Sehr geehrte ...   \n",
       "9   [Sehr geehrte Frau Präsidentin!, Sehr geehrte ...   \n",
       "10  [Sehr geehrte Frau Präsidentin!, Sehr geehrte ...   \n",
       "\n",
       "                                               tokens  \\\n",
       "2   [einrichtungsbezogene, Impfpflicht, erklärten,...   \n",
       "3   [gestrigen, Sitzung, Gesundheitsausschusses, s...   \n",
       "4   [Ministerium, RKI, gab, ganz, kurzes, Nein, An...   \n",
       "5   [Paul-Ehrlich-Institut, erhielt, überhaupt, An...   \n",
       "6   [Professor, Wieler, äußerte, nächsten, Runde, ...   \n",
       "7                                      [Modellierung]   \n",
       "8   [draußen, gibt, echte, Menschen, medizinischen...   \n",
       "9   [Deshalb, müsste, möglich, Vorbereitung, Geset...   \n",
       "10  [ahnen, vielleicht, schon, wissenschaftlichen,...   \n",
       "\n",
       "                                         cleaned_text  \n",
       "2   einrichtungsbezogene Impfpflicht erklärten Zie...  \n",
       "3   gestrigen Sitzung Gesundheitsausschusses stell...  \n",
       "4        Ministerium RKI gab ganz kurzes Nein Antwort  \n",
       "5     Paul-Ehrlich-Institut erhielt überhaupt Antwort  \n",
       "6   Professor Wieler äußerte nächsten Runde Satz g...  \n",
       "7                                        Modellierung  \n",
       "8   draußen gibt echte Menschen medizinischen Beru...  \n",
       "9   Deshalb müsste möglich Vorbereitung Gesetzes e...  \n",
       "10  ahnen vielleicht schon wissenschaftlichen Nach...  "
      ]
     },
     "execution_count": 12,
     "metadata": {},
     "output_type": "execute_result"
    }
   ],
   "source": [
    "import nltk\n",
    "nltk.download('stopwords')\n",
    "\n",
    "#Festlegen einer eigenen Stoppwortliste\n",
    "my_stopwords = ['ministerin', 'minister', 'kollege', 'kollegin', 'präsidentin', 'kolleginnen', 'kollegen', 'frau', 'herr', 'mann', 'geehrte', 'geehrter', 'liebe', 'lieber', 'damen', 'herren', 'präsident', 'vielen dank','dank','redner','rednerin']\n",
    "\n",
    "#Methodenaufruf clean_text zur Textverarbeitung\n",
    "df19_Covid_cleaned = Sentiment_Methods.clean_text(df19_Covid_Split, my_stopwords)\n",
    "df19_Covid_cleaned.head(9)\n",
    "\n",
    "df20_Covid_cleaned = Sentiment_Methods.clean_text(df20_Covid_Split, my_stopwords)\n",
    "df20_Covid_cleaned.head(9)\n"
   ]
  },
  {
   "attachments": {},
   "cell_type": "markdown",
   "metadata": {},
   "source": [
    "## 4. Deskriptive Datenanalyse"
   ]
  },
  {
   "cell_type": "code",
   "execution_count": 14,
   "metadata": {},
   "outputs": [
    {
     "data": {
      "image/png": "[encoded data removed]",
      "text/plain": [
       "<Figure size 800x1200 with 3 Axes>"
      ]
     },
     "metadata": {},
     "output_type": "display_data"
    },
    {
     "data": {
      "image/png": "[encoded data removed]",
      "text/plain": [
       "<Figure size 800x1200 with 3 Axes>"
      ]
     },
     "metadata": {},
     "output_type": "display_data"
    }
   ],
   "source": [
    "#Ausgabe der nGrams, um Stopwortliste zu überarbeiten\n",
    "ngram_Stoppwortliste19 = Sentiment_Methods.plot_most_frequent_ngrams (df19_Covid_cleaned)\n",
    "ngram_Stoppwortliste20 = Sentiment_Methods.plot_most_frequent_ngrams (df20_Covid_cleaned)"
   ]
  },
  {
   "attachments": {},
   "cell_type": "markdown",
   "metadata": {},
   "source": [
    "## 5. Sentimentanalyse"
   ]
  },
  {
   "attachments": {},
   "cell_type": "markdown",
   "metadata": {},
   "source": [
    "### Modellentwicklung"
   ]
  },
  {
   "cell_type": "code",
   "execution_count": 33,
   "metadata": {},
   "outputs": [
    {
     "ename": "KeyboardInterrupt",
     "evalue": "",
     "output_type": "error",
     "traceback": [
      "\u001b[1;31m---------------------------------------------------------------------------\u001b[0m",
      "\u001b[1;31mKeyboardInterrupt\u001b[0m                         Traceback (most recent call last)",
      "\u001b[1;32mc:\\Users\\paula\\OneDrive\\Uni\\2. Lernpools Master\\3. Semester\\Soziologie\\Politische-Debatten\\Data_Preprocessing.ipynb Cell 18\u001b[0m line \u001b[0;36m5\n\u001b[0;32m      <a href='vscode-notebook-cell:/c%3A/Users/paula/OneDrive/Uni/2.%20Lernpools%20Master/3.%20Semester/Soziologie/Politische-Debatten/Data_Preprocessing.ipynb#X24sZmlsZQ%3D%3D?line=1'>2</a>\u001b[0m \u001b[39mimport\u001b[39;00m \u001b[39mtorchvision\u001b[39;00m\n\u001b[0;32m      <a href='vscode-notebook-cell:/c%3A/Users/paula/OneDrive/Uni/2.%20Lernpools%20Master/3.%20Semester/Soziologie/Politische-Debatten/Data_Preprocessing.ipynb#X24sZmlsZQ%3D%3D?line=3'>4</a>\u001b[0m \u001b[39m#Original Text - Modell Periode 19\u001b[39;00m\n\u001b[1;32m----> <a href='vscode-notebook-cell:/c%3A/Users/paula/OneDrive/Uni/2.%20Lernpools%20Master/3.%20Semester/Soziologie/Politische-Debatten/Data_Preprocessing.ipynb#X24sZmlsZQ%3D%3D?line=4'>5</a>\u001b[0m modell_original19 \u001b[39m=\u001b[39m Sentiment_Methods\u001b[39m.\u001b[39;49msentiment_analysis(df19_Covid_cleaned, \u001b[39m'\u001b[39;49m\u001b[39msatz\u001b[39;49m\u001b[39m'\u001b[39;49m)\n\u001b[0;32m      <a href='vscode-notebook-cell:/c%3A/Users/paula/OneDrive/Uni/2.%20Lernpools%20Master/3.%20Semester/Soziologie/Politische-Debatten/Data_Preprocessing.ipynb#X24sZmlsZQ%3D%3D?line=5'>6</a>\u001b[0m modell_original19\u001b[39m.\u001b[39mhead (\u001b[39m15\u001b[39m)\n\u001b[0;32m      <a href='vscode-notebook-cell:/c%3A/Users/paula/OneDrive/Uni/2.%20Lernpools%20Master/3.%20Semester/Soziologie/Politische-Debatten/Data_Preprocessing.ipynb#X24sZmlsZQ%3D%3D?line=6'>7</a>\u001b[0m modell_original19\u001b[39m.\u001b[39mto_csv(\u001b[39m'\u001b[39m\u001b[39mmodellorginal19.csv\u001b[39m\u001b[39m'\u001b[39m)\n",
      "File \u001b[1;32mc:\\Users\\paula\\OneDrive\\Uni\\2. Lernpools Master\\3. Semester\\Soziologie\\Politische-Debatten\\Sentiment_Methods.py:233\u001b[0m, in \u001b[0;36msentiment_analysis\u001b[1;34m(df, text_column)\u001b[0m\n\u001b[0;32m    230\u001b[0m nlp_sentiment \u001b[39m=\u001b[39m pipeline(\u001b[39m\"\u001b[39m\u001b[39msentiment-analysis\u001b[39m\u001b[39m\"\u001b[39m, model\u001b[39m=\u001b[39m\u001b[39m'\u001b[39m\u001b[39moliverguhr/german-sentiment-bert\u001b[39m\u001b[39m'\u001b[39m)\n\u001b[0;32m    232\u001b[0m \u001b[39m# Apply sentiment analysis to the specified text column in the DataFrame\u001b[39;00m\n\u001b[1;32m--> 233\u001b[0m df[\u001b[39m'\u001b[39m\u001b[39mSentiment\u001b[39m\u001b[39m'\u001b[39m] \u001b[39m=\u001b[39m df[text_column]\u001b[39m.\u001b[39;49mapply(\u001b[39mlambda\u001b[39;49;00m x: nlp_sentiment(x))\n\u001b[0;32m    235\u001b[0m \u001b[39m# Extract sentiment label and score\u001b[39;00m\n\u001b[0;32m    236\u001b[0m df[\u001b[39m'\u001b[39m\u001b[39mSentiment_Label\u001b[39m\u001b[39m'\u001b[39m] \u001b[39m=\u001b[39m [x[\u001b[39m0\u001b[39m][\u001b[39m'\u001b[39m\u001b[39mlabel\u001b[39m\u001b[39m'\u001b[39m] \u001b[39mfor\u001b[39;00m x \u001b[39min\u001b[39;00m df[\u001b[39m'\u001b[39m\u001b[39mSentiment\u001b[39m\u001b[39m'\u001b[39m]]\n",
      "File \u001b[1;32mc:\\Users\\paula\\anaconda3\\envs\\env1\\Lib\\site-packages\\pandas\\core\\series.py:4630\u001b[0m, in \u001b[0;36mSeries.apply\u001b[1;34m(self, func, convert_dtype, args, **kwargs)\u001b[0m\n\u001b[0;32m   4520\u001b[0m \u001b[39mdef\u001b[39;00m \u001b[39mapply\u001b[39m(\n\u001b[0;32m   4521\u001b[0m     \u001b[39mself\u001b[39m,\n\u001b[0;32m   4522\u001b[0m     func: AggFuncType,\n\u001b[1;32m   (...)\u001b[0m\n\u001b[0;32m   4525\u001b[0m     \u001b[39m*\u001b[39m\u001b[39m*\u001b[39mkwargs,\n\u001b[0;32m   4526\u001b[0m ) \u001b[39m-\u001b[39m\u001b[39m>\u001b[39m DataFrame \u001b[39m|\u001b[39m Series:\n\u001b[0;32m   4527\u001b[0m \u001b[39m    \u001b[39m\u001b[39m\"\"\"\u001b[39;00m\n\u001b[0;32m   4528\u001b[0m \u001b[39m    Invoke function on values of Series.\u001b[39;00m\n\u001b[0;32m   4529\u001b[0m \n\u001b[1;32m   (...)\u001b[0m\n\u001b[0;32m   4628\u001b[0m \u001b[39m    dtype: float64\u001b[39;00m\n\u001b[0;32m   4629\u001b[0m \u001b[39m    \"\"\"\u001b[39;00m\n\u001b[1;32m-> 4630\u001b[0m     \u001b[39mreturn\u001b[39;00m SeriesApply(\u001b[39mself\u001b[39;49m, func, convert_dtype, args, kwargs)\u001b[39m.\u001b[39;49mapply()\n",
      "File \u001b[1;32mc:\\Users\\paula\\anaconda3\\envs\\env1\\Lib\\site-packages\\pandas\\core\\apply.py:1025\u001b[0m, in \u001b[0;36mSeriesApply.apply\u001b[1;34m(self)\u001b[0m\n\u001b[0;32m   1022\u001b[0m     \u001b[39mreturn\u001b[39;00m \u001b[39mself\u001b[39m\u001b[39m.\u001b[39mapply_str()\n\u001b[0;32m   1024\u001b[0m \u001b[39m# self.f is Callable\u001b[39;00m\n\u001b[1;32m-> 1025\u001b[0m \u001b[39mreturn\u001b[39;00m \u001b[39mself\u001b[39;49m\u001b[39m.\u001b[39;49mapply_standard()\n",
      "File \u001b[1;32mc:\\Users\\paula\\anaconda3\\envs\\env1\\Lib\\site-packages\\pandas\\core\\apply.py:1076\u001b[0m, in \u001b[0;36mSeriesApply.apply_standard\u001b[1;34m(self)\u001b[0m\n\u001b[0;32m   1074\u001b[0m     \u001b[39melse\u001b[39;00m:\n\u001b[0;32m   1075\u001b[0m         values \u001b[39m=\u001b[39m obj\u001b[39m.\u001b[39mastype(\u001b[39mobject\u001b[39m)\u001b[39m.\u001b[39m_values\n\u001b[1;32m-> 1076\u001b[0m         mapped \u001b[39m=\u001b[39m lib\u001b[39m.\u001b[39;49mmap_infer(\n\u001b[0;32m   1077\u001b[0m             values,\n\u001b[0;32m   1078\u001b[0m             f,\n\u001b[0;32m   1079\u001b[0m             convert\u001b[39m=\u001b[39;49m\u001b[39mself\u001b[39;49m\u001b[39m.\u001b[39;49mconvert_dtype,\n\u001b[0;32m   1080\u001b[0m         )\n\u001b[0;32m   1082\u001b[0m \u001b[39mif\u001b[39;00m \u001b[39mlen\u001b[39m(mapped) \u001b[39mand\u001b[39;00m \u001b[39misinstance\u001b[39m(mapped[\u001b[39m0\u001b[39m], ABCSeries):\n\u001b[0;32m   1083\u001b[0m     \u001b[39m# GH#43986 Need to do list(mapped) in order to get treated as nested\u001b[39;00m\n\u001b[0;32m   1084\u001b[0m     \u001b[39m#  See also GH#25959 regarding EA support\u001b[39;00m\n\u001b[0;32m   1085\u001b[0m     \u001b[39mreturn\u001b[39;00m obj\u001b[39m.\u001b[39m_constructor_expanddim(\u001b[39mlist\u001b[39m(mapped), index\u001b[39m=\u001b[39mobj\u001b[39m.\u001b[39mindex)\n",
      "File \u001b[1;32mc:\\Users\\paula\\anaconda3\\envs\\env1\\Lib\\site-packages\\pandas\\_libs\\lib.pyx:2834\u001b[0m, in \u001b[0;36mpandas._libs.lib.map_infer\u001b[1;34m()\u001b[0m\n",
      "File \u001b[1;32mc:\\Users\\paula\\OneDrive\\Uni\\2. Lernpools Master\\3. Semester\\Soziologie\\Politische-Debatten\\Sentiment_Methods.py:233\u001b[0m, in \u001b[0;36msentiment_analysis.<locals>.<lambda>\u001b[1;34m(x)\u001b[0m\n\u001b[0;32m    230\u001b[0m nlp_sentiment \u001b[39m=\u001b[39m pipeline(\u001b[39m\"\u001b[39m\u001b[39msentiment-analysis\u001b[39m\u001b[39m\"\u001b[39m, model\u001b[39m=\u001b[39m\u001b[39m'\u001b[39m\u001b[39moliverguhr/german-sentiment-bert\u001b[39m\u001b[39m'\u001b[39m)\n\u001b[0;32m    232\u001b[0m \u001b[39m# Apply sentiment analysis to the specified text column in the DataFrame\u001b[39;00m\n\u001b[1;32m--> 233\u001b[0m df[\u001b[39m'\u001b[39m\u001b[39mSentiment\u001b[39m\u001b[39m'\u001b[39m] \u001b[39m=\u001b[39m df[text_column]\u001b[39m.\u001b[39mapply(\u001b[39mlambda\u001b[39;00m x: nlp_sentiment(x))\n\u001b[0;32m    235\u001b[0m \u001b[39m# Extract sentiment label and score\u001b[39;00m\n\u001b[0;32m    236\u001b[0m df[\u001b[39m'\u001b[39m\u001b[39mSentiment_Label\u001b[39m\u001b[39m'\u001b[39m] \u001b[39m=\u001b[39m [x[\u001b[39m0\u001b[39m][\u001b[39m'\u001b[39m\u001b[39mlabel\u001b[39m\u001b[39m'\u001b[39m] \u001b[39mfor\u001b[39;00m x \u001b[39min\u001b[39;00m df[\u001b[39m'\u001b[39m\u001b[39mSentiment\u001b[39m\u001b[39m'\u001b[39m]]\n",
      "File \u001b[1;32mc:\\Users\\paula\\anaconda3\\envs\\env1\\Lib\\site-packages\\transformers\\pipelines\\text_classification.py:156\u001b[0m, in \u001b[0;36mTextClassificationPipeline.__call__\u001b[1;34m(self, *args, **kwargs)\u001b[0m\n\u001b[0;32m    122\u001b[0m \u001b[39mdef\u001b[39;00m \u001b[39m__call__\u001b[39m(\u001b[39mself\u001b[39m, \u001b[39m*\u001b[39margs, \u001b[39m*\u001b[39m\u001b[39m*\u001b[39mkwargs):\n\u001b[0;32m    123\u001b[0m \u001b[39m    \u001b[39m\u001b[39m\"\"\"\u001b[39;00m\n\u001b[0;32m    124\u001b[0m \u001b[39m    Classify the text(s) given as inputs.\u001b[39;00m\n\u001b[0;32m    125\u001b[0m \n\u001b[1;32m   (...)\u001b[0m\n\u001b[0;32m    154\u001b[0m \u001b[39m        If `top_k` is used, one such dictionary is returned per label.\u001b[39;00m\n\u001b[0;32m    155\u001b[0m \u001b[39m    \"\"\"\u001b[39;00m\n\u001b[1;32m--> 156\u001b[0m     result \u001b[39m=\u001b[39m \u001b[39msuper\u001b[39;49m()\u001b[39m.\u001b[39;49m\u001b[39m__call__\u001b[39;49m(\u001b[39m*\u001b[39;49margs, \u001b[39m*\u001b[39;49m\u001b[39m*\u001b[39;49mkwargs)\n\u001b[0;32m    157\u001b[0m     \u001b[39m# TODO try and retrieve it in a nicer way from _sanitize_parameters.\u001b[39;00m\n\u001b[0;32m    158\u001b[0m     _legacy \u001b[39m=\u001b[39m \u001b[39m\"\u001b[39m\u001b[39mtop_k\u001b[39m\u001b[39m\"\u001b[39m \u001b[39mnot\u001b[39;00m \u001b[39min\u001b[39;00m kwargs\n",
      "File \u001b[1;32mc:\\Users\\paula\\anaconda3\\envs\\env1\\Lib\\site-packages\\transformers\\pipelines\\base.py:1129\u001b[0m, in \u001b[0;36mPipeline.__call__\u001b[1;34m(self, inputs, num_workers, batch_size, *args, **kwargs)\u001b[0m\n\u001b[0;32m   1121\u001b[0m     \u001b[39mreturn\u001b[39;00m \u001b[39mnext\u001b[39m(\n\u001b[0;32m   1122\u001b[0m         \u001b[39miter\u001b[39m(\n\u001b[0;32m   1123\u001b[0m             \u001b[39mself\u001b[39m\u001b[39m.\u001b[39mget_iterator(\n\u001b[1;32m   (...)\u001b[0m\n\u001b[0;32m   1126\u001b[0m         )\n\u001b[0;32m   1127\u001b[0m     )\n\u001b[0;32m   1128\u001b[0m \u001b[39melse\u001b[39;00m:\n\u001b[1;32m-> 1129\u001b[0m     \u001b[39mreturn\u001b[39;00m \u001b[39mself\u001b[39;49m\u001b[39m.\u001b[39;49mrun_single(inputs, preprocess_params, forward_params, postprocess_params)\n",
      "File \u001b[1;32mc:\\Users\\paula\\anaconda3\\envs\\env1\\Lib\\site-packages\\transformers\\pipelines\\base.py:1136\u001b[0m, in \u001b[0;36mPipeline.run_single\u001b[1;34m(self, inputs, preprocess_params, forward_params, postprocess_params)\u001b[0m\n\u001b[0;32m   1134\u001b[0m \u001b[39mdef\u001b[39;00m \u001b[39mrun_single\u001b[39m(\u001b[39mself\u001b[39m, inputs, preprocess_params, forward_params, postprocess_params):\n\u001b[0;32m   1135\u001b[0m     model_inputs \u001b[39m=\u001b[39m \u001b[39mself\u001b[39m\u001b[39m.\u001b[39mpreprocess(inputs, \u001b[39m*\u001b[39m\u001b[39m*\u001b[39mpreprocess_params)\n\u001b[1;32m-> 1136\u001b[0m     model_outputs \u001b[39m=\u001b[39m \u001b[39mself\u001b[39;49m\u001b[39m.\u001b[39;49mforward(model_inputs, \u001b[39m*\u001b[39;49m\u001b[39m*\u001b[39;49mforward_params)\n\u001b[0;32m   1137\u001b[0m     outputs \u001b[39m=\u001b[39m \u001b[39mself\u001b[39m\u001b[39m.\u001b[39mpostprocess(model_outputs, \u001b[39m*\u001b[39m\u001b[39m*\u001b[39mpostprocess_params)\n\u001b[0;32m   1138\u001b[0m     \u001b[39mreturn\u001b[39;00m outputs\n",
      "File \u001b[1;32mc:\\Users\\paula\\anaconda3\\envs\\env1\\Lib\\site-packages\\transformers\\pipelines\\base.py:1035\u001b[0m, in \u001b[0;36mPipeline.forward\u001b[1;34m(self, model_inputs, **forward_params)\u001b[0m\n\u001b[0;32m   1033\u001b[0m     \u001b[39mwith\u001b[39;00m inference_context():\n\u001b[0;32m   1034\u001b[0m         model_inputs \u001b[39m=\u001b[39m \u001b[39mself\u001b[39m\u001b[39m.\u001b[39m_ensure_tensor_on_device(model_inputs, device\u001b[39m=\u001b[39m\u001b[39mself\u001b[39m\u001b[39m.\u001b[39mdevice)\n\u001b[1;32m-> 1035\u001b[0m         model_outputs \u001b[39m=\u001b[39m \u001b[39mself\u001b[39;49m\u001b[39m.\u001b[39;49m_forward(model_inputs, \u001b[39m*\u001b[39;49m\u001b[39m*\u001b[39;49mforward_params)\n\u001b[0;32m   1036\u001b[0m         model_outputs \u001b[39m=\u001b[39m \u001b[39mself\u001b[39m\u001b[39m.\u001b[39m_ensure_tensor_on_device(model_outputs, device\u001b[39m=\u001b[39mtorch\u001b[39m.\u001b[39mdevice(\u001b[39m\"\u001b[39m\u001b[39mcpu\u001b[39m\u001b[39m\"\u001b[39m))\n\u001b[0;32m   1037\u001b[0m \u001b[39melse\u001b[39;00m:\n",
      "File \u001b[1;32mc:\\Users\\paula\\anaconda3\\envs\\env1\\Lib\\site-packages\\transformers\\pipelines\\text_classification.py:187\u001b[0m, in \u001b[0;36mTextClassificationPipeline._forward\u001b[1;34m(self, model_inputs)\u001b[0m\n\u001b[0;32m    185\u001b[0m \u001b[39mif\u001b[39;00m \u001b[39m\"\u001b[39m\u001b[39muse_cache\u001b[39m\u001b[39m\"\u001b[39m \u001b[39min\u001b[39;00m inspect\u001b[39m.\u001b[39msignature(model_forward)\u001b[39m.\u001b[39mparameters\u001b[39m.\u001b[39mkeys():\n\u001b[0;32m    186\u001b[0m     model_inputs[\u001b[39m\"\u001b[39m\u001b[39muse_cache\u001b[39m\u001b[39m\"\u001b[39m] \u001b[39m=\u001b[39m \u001b[39mFalse\u001b[39;00m\n\u001b[1;32m--> 187\u001b[0m \u001b[39mreturn\u001b[39;00m \u001b[39mself\u001b[39;49m\u001b[39m.\u001b[39;49mmodel(\u001b[39m*\u001b[39;49m\u001b[39m*\u001b[39;49mmodel_inputs)\n",
      "File \u001b[1;32mc:\\Users\\paula\\anaconda3\\envs\\env1\\Lib\\site-packages\\torch\\nn\\modules\\module.py:1501\u001b[0m, in \u001b[0;36mModule._call_impl\u001b[1;34m(self, *args, **kwargs)\u001b[0m\n\u001b[0;32m   1496\u001b[0m \u001b[39m# If we don't have any hooks, we want to skip the rest of the logic in\u001b[39;00m\n\u001b[0;32m   1497\u001b[0m \u001b[39m# this function, and just call forward.\u001b[39;00m\n\u001b[0;32m   1498\u001b[0m \u001b[39mif\u001b[39;00m \u001b[39mnot\u001b[39;00m (\u001b[39mself\u001b[39m\u001b[39m.\u001b[39m_backward_hooks \u001b[39mor\u001b[39;00m \u001b[39mself\u001b[39m\u001b[39m.\u001b[39m_backward_pre_hooks \u001b[39mor\u001b[39;00m \u001b[39mself\u001b[39m\u001b[39m.\u001b[39m_forward_hooks \u001b[39mor\u001b[39;00m \u001b[39mself\u001b[39m\u001b[39m.\u001b[39m_forward_pre_hooks\n\u001b[0;32m   1499\u001b[0m         \u001b[39mor\u001b[39;00m _global_backward_pre_hooks \u001b[39mor\u001b[39;00m _global_backward_hooks\n\u001b[0;32m   1500\u001b[0m         \u001b[39mor\u001b[39;00m _global_forward_hooks \u001b[39mor\u001b[39;00m _global_forward_pre_hooks):\n\u001b[1;32m-> 1501\u001b[0m     \u001b[39mreturn\u001b[39;00m forward_call(\u001b[39m*\u001b[39;49margs, \u001b[39m*\u001b[39;49m\u001b[39m*\u001b[39;49mkwargs)\n\u001b[0;32m   1502\u001b[0m \u001b[39m# Do not call functions when jit is used\u001b[39;00m\n\u001b[0;32m   1503\u001b[0m full_backward_hooks, non_full_backward_hooks \u001b[39m=\u001b[39m [], []\n",
      "File \u001b[1;32mc:\\Users\\paula\\anaconda3\\envs\\env1\\Lib\\site-packages\\transformers\\models\\bert\\modeling_bert.py:1562\u001b[0m, in \u001b[0;36mBertForSequenceClassification.forward\u001b[1;34m(self, input_ids, attention_mask, token_type_ids, position_ids, head_mask, inputs_embeds, labels, output_attentions, output_hidden_states, return_dict)\u001b[0m\n\u001b[0;32m   1554\u001b[0m \u001b[39m\u001b[39m\u001b[39mr\u001b[39m\u001b[39m\"\"\"\u001b[39;00m\n\u001b[0;32m   1555\u001b[0m \u001b[39mlabels (`torch.LongTensor` of shape `(batch_size,)`, *optional*):\u001b[39;00m\n\u001b[0;32m   1556\u001b[0m \u001b[39m    Labels for computing the sequence classification/regression loss. Indices should be in `[0, ...,\u001b[39;00m\n\u001b[0;32m   1557\u001b[0m \u001b[39m    config.num_labels - 1]`. If `config.num_labels == 1` a regression loss is computed (Mean-Square loss), If\u001b[39;00m\n\u001b[0;32m   1558\u001b[0m \u001b[39m    `config.num_labels > 1` a classification loss is computed (Cross-Entropy).\u001b[39;00m\n\u001b[0;32m   1559\u001b[0m \u001b[39m\"\"\"\u001b[39;00m\n\u001b[0;32m   1560\u001b[0m return_dict \u001b[39m=\u001b[39m return_dict \u001b[39mif\u001b[39;00m return_dict \u001b[39mis\u001b[39;00m \u001b[39mnot\u001b[39;00m \u001b[39mNone\u001b[39;00m \u001b[39melse\u001b[39;00m \u001b[39mself\u001b[39m\u001b[39m.\u001b[39mconfig\u001b[39m.\u001b[39muse_return_dict\n\u001b[1;32m-> 1562\u001b[0m outputs \u001b[39m=\u001b[39m \u001b[39mself\u001b[39;49m\u001b[39m.\u001b[39;49mbert(\n\u001b[0;32m   1563\u001b[0m     input_ids,\n\u001b[0;32m   1564\u001b[0m     attention_mask\u001b[39m=\u001b[39;49mattention_mask,\n\u001b[0;32m   1565\u001b[0m     token_type_ids\u001b[39m=\u001b[39;49mtoken_type_ids,\n\u001b[0;32m   1566\u001b[0m     position_ids\u001b[39m=\u001b[39;49mposition_ids,\n\u001b[0;32m   1567\u001b[0m     head_mask\u001b[39m=\u001b[39;49mhead_mask,\n\u001b[0;32m   1568\u001b[0m     inputs_embeds\u001b[39m=\u001b[39;49minputs_embeds,\n\u001b[0;32m   1569\u001b[0m     output_attentions\u001b[39m=\u001b[39;49moutput_attentions,\n\u001b[0;32m   1570\u001b[0m     output_hidden_states\u001b[39m=\u001b[39;49moutput_hidden_states,\n\u001b[0;32m   1571\u001b[0m     return_dict\u001b[39m=\u001b[39;49mreturn_dict,\n\u001b[0;32m   1572\u001b[0m )\n\u001b[0;32m   1574\u001b[0m pooled_output \u001b[39m=\u001b[39m outputs[\u001b[39m1\u001b[39m]\n\u001b[0;32m   1576\u001b[0m pooled_output \u001b[39m=\u001b[39m \u001b[39mself\u001b[39m\u001b[39m.\u001b[39mdropout(pooled_output)\n",
      "File \u001b[1;32mc:\\Users\\paula\\anaconda3\\envs\\env1\\Lib\\site-packages\\torch\\nn\\modules\\module.py:1501\u001b[0m, in \u001b[0;36mModule._call_impl\u001b[1;34m(self, *args, **kwargs)\u001b[0m\n\u001b[0;32m   1496\u001b[0m \u001b[39m# If we don't have any hooks, we want to skip the rest of the logic in\u001b[39;00m\n\u001b[0;32m   1497\u001b[0m \u001b[39m# this function, and just call forward.\u001b[39;00m\n\u001b[0;32m   1498\u001b[0m \u001b[39mif\u001b[39;00m \u001b[39mnot\u001b[39;00m (\u001b[39mself\u001b[39m\u001b[39m.\u001b[39m_backward_hooks \u001b[39mor\u001b[39;00m \u001b[39mself\u001b[39m\u001b[39m.\u001b[39m_backward_pre_hooks \u001b[39mor\u001b[39;00m \u001b[39mself\u001b[39m\u001b[39m.\u001b[39m_forward_hooks \u001b[39mor\u001b[39;00m \u001b[39mself\u001b[39m\u001b[39m.\u001b[39m_forward_pre_hooks\n\u001b[0;32m   1499\u001b[0m         \u001b[39mor\u001b[39;00m _global_backward_pre_hooks \u001b[39mor\u001b[39;00m _global_backward_hooks\n\u001b[0;32m   1500\u001b[0m         \u001b[39mor\u001b[39;00m _global_forward_hooks \u001b[39mor\u001b[39;00m _global_forward_pre_hooks):\n\u001b[1;32m-> 1501\u001b[0m     \u001b[39mreturn\u001b[39;00m forward_call(\u001b[39m*\u001b[39;49margs, \u001b[39m*\u001b[39;49m\u001b[39m*\u001b[39;49mkwargs)\n\u001b[0;32m   1502\u001b[0m \u001b[39m# Do not call functions when jit is used\u001b[39;00m\n\u001b[0;32m   1503\u001b[0m full_backward_hooks, non_full_backward_hooks \u001b[39m=\u001b[39m [], []\n",
      "File \u001b[1;32mc:\\Users\\paula\\anaconda3\\envs\\env1\\Lib\\site-packages\\transformers\\models\\bert\\modeling_bert.py:1022\u001b[0m, in \u001b[0;36mBertModel.forward\u001b[1;34m(self, input_ids, attention_mask, token_type_ids, position_ids, head_mask, inputs_embeds, encoder_hidden_states, encoder_attention_mask, past_key_values, use_cache, output_attentions, output_hidden_states, return_dict)\u001b[0m\n\u001b[0;32m   1013\u001b[0m head_mask \u001b[39m=\u001b[39m \u001b[39mself\u001b[39m\u001b[39m.\u001b[39mget_head_mask(head_mask, \u001b[39mself\u001b[39m\u001b[39m.\u001b[39mconfig\u001b[39m.\u001b[39mnum_hidden_layers)\n\u001b[0;32m   1015\u001b[0m embedding_output \u001b[39m=\u001b[39m \u001b[39mself\u001b[39m\u001b[39m.\u001b[39membeddings(\n\u001b[0;32m   1016\u001b[0m     input_ids\u001b[39m=\u001b[39minput_ids,\n\u001b[0;32m   1017\u001b[0m     position_ids\u001b[39m=\u001b[39mposition_ids,\n\u001b[1;32m   (...)\u001b[0m\n\u001b[0;32m   1020\u001b[0m     past_key_values_length\u001b[39m=\u001b[39mpast_key_values_length,\n\u001b[0;32m   1021\u001b[0m )\n\u001b[1;32m-> 1022\u001b[0m encoder_outputs \u001b[39m=\u001b[39m \u001b[39mself\u001b[39;49m\u001b[39m.\u001b[39;49mencoder(\n\u001b[0;32m   1023\u001b[0m     embedding_output,\n\u001b[0;32m   1024\u001b[0m     attention_mask\u001b[39m=\u001b[39;49mextended_attention_mask,\n\u001b[0;32m   1025\u001b[0m     head_mask\u001b[39m=\u001b[39;49mhead_mask,\n\u001b[0;32m   1026\u001b[0m     encoder_hidden_states\u001b[39m=\u001b[39;49mencoder_hidden_states,\n\u001b[0;32m   1027\u001b[0m     encoder_attention_mask\u001b[39m=\u001b[39;49mencoder_extended_attention_mask,\n\u001b[0;32m   1028\u001b[0m     past_key_values\u001b[39m=\u001b[39;49mpast_key_values,\n\u001b[0;32m   1029\u001b[0m     use_cache\u001b[39m=\u001b[39;49muse_cache,\n\u001b[0;32m   1030\u001b[0m     output_attentions\u001b[39m=\u001b[39;49moutput_attentions,\n\u001b[0;32m   1031\u001b[0m     output_hidden_states\u001b[39m=\u001b[39;49moutput_hidden_states,\n\u001b[0;32m   1032\u001b[0m     return_dict\u001b[39m=\u001b[39;49mreturn_dict,\n\u001b[0;32m   1033\u001b[0m )\n\u001b[0;32m   1034\u001b[0m sequence_output \u001b[39m=\u001b[39m encoder_outputs[\u001b[39m0\u001b[39m]\n\u001b[0;32m   1035\u001b[0m pooled_output \u001b[39m=\u001b[39m \u001b[39mself\u001b[39m\u001b[39m.\u001b[39mpooler(sequence_output) \u001b[39mif\u001b[39;00m \u001b[39mself\u001b[39m\u001b[39m.\u001b[39mpooler \u001b[39mis\u001b[39;00m \u001b[39mnot\u001b[39;00m \u001b[39mNone\u001b[39;00m \u001b[39melse\u001b[39;00m \u001b[39mNone\u001b[39;00m\n",
      "File \u001b[1;32mc:\\Users\\paula\\anaconda3\\envs\\env1\\Lib\\site-packages\\torch\\nn\\modules\\module.py:1501\u001b[0m, in \u001b[0;36mModule._call_impl\u001b[1;34m(self, *args, **kwargs)\u001b[0m\n\u001b[0;32m   1496\u001b[0m \u001b[39m# If we don't have any hooks, we want to skip the rest of the logic in\u001b[39;00m\n\u001b[0;32m   1497\u001b[0m \u001b[39m# this function, and just call forward.\u001b[39;00m\n\u001b[0;32m   1498\u001b[0m \u001b[39mif\u001b[39;00m \u001b[39mnot\u001b[39;00m (\u001b[39mself\u001b[39m\u001b[39m.\u001b[39m_backward_hooks \u001b[39mor\u001b[39;00m \u001b[39mself\u001b[39m\u001b[39m.\u001b[39m_backward_pre_hooks \u001b[39mor\u001b[39;00m \u001b[39mself\u001b[39m\u001b[39m.\u001b[39m_forward_hooks \u001b[39mor\u001b[39;00m \u001b[39mself\u001b[39m\u001b[39m.\u001b[39m_forward_pre_hooks\n\u001b[0;32m   1499\u001b[0m         \u001b[39mor\u001b[39;00m _global_backward_pre_hooks \u001b[39mor\u001b[39;00m _global_backward_hooks\n\u001b[0;32m   1500\u001b[0m         \u001b[39mor\u001b[39;00m _global_forward_hooks \u001b[39mor\u001b[39;00m _global_forward_pre_hooks):\n\u001b[1;32m-> 1501\u001b[0m     \u001b[39mreturn\u001b[39;00m forward_call(\u001b[39m*\u001b[39;49margs, \u001b[39m*\u001b[39;49m\u001b[39m*\u001b[39;49mkwargs)\n\u001b[0;32m   1502\u001b[0m \u001b[39m# Do not call functions when jit is used\u001b[39;00m\n\u001b[0;32m   1503\u001b[0m full_backward_hooks, non_full_backward_hooks \u001b[39m=\u001b[39m [], []\n",
      "File \u001b[1;32mc:\\Users\\paula\\anaconda3\\envs\\env1\\Lib\\site-packages\\transformers\\models\\bert\\modeling_bert.py:612\u001b[0m, in \u001b[0;36mBertEncoder.forward\u001b[1;34m(self, hidden_states, attention_mask, head_mask, encoder_hidden_states, encoder_attention_mask, past_key_values, use_cache, output_attentions, output_hidden_states, return_dict)\u001b[0m\n\u001b[0;32m    603\u001b[0m     layer_outputs \u001b[39m=\u001b[39m torch\u001b[39m.\u001b[39mutils\u001b[39m.\u001b[39mcheckpoint\u001b[39m.\u001b[39mcheckpoint(\n\u001b[0;32m    604\u001b[0m         create_custom_forward(layer_module),\n\u001b[0;32m    605\u001b[0m         hidden_states,\n\u001b[1;32m   (...)\u001b[0m\n\u001b[0;32m    609\u001b[0m         encoder_attention_mask,\n\u001b[0;32m    610\u001b[0m     )\n\u001b[0;32m    611\u001b[0m \u001b[39melse\u001b[39;00m:\n\u001b[1;32m--> 612\u001b[0m     layer_outputs \u001b[39m=\u001b[39m layer_module(\n\u001b[0;32m    613\u001b[0m         hidden_states,\n\u001b[0;32m    614\u001b[0m         attention_mask,\n\u001b[0;32m    615\u001b[0m         layer_head_mask,\n\u001b[0;32m    616\u001b[0m         encoder_hidden_states,\n\u001b[0;32m    617\u001b[0m         encoder_attention_mask,\n\u001b[0;32m    618\u001b[0m         past_key_value,\n\u001b[0;32m    619\u001b[0m         output_attentions,\n\u001b[0;32m    620\u001b[0m     )\n\u001b[0;32m    622\u001b[0m hidden_states \u001b[39m=\u001b[39m layer_outputs[\u001b[39m0\u001b[39m]\n\u001b[0;32m    623\u001b[0m \u001b[39mif\u001b[39;00m use_cache:\n",
      "File \u001b[1;32mc:\\Users\\paula\\anaconda3\\envs\\env1\\Lib\\site-packages\\torch\\nn\\modules\\module.py:1501\u001b[0m, in \u001b[0;36mModule._call_impl\u001b[1;34m(self, *args, **kwargs)\u001b[0m\n\u001b[0;32m   1496\u001b[0m \u001b[39m# If we don't have any hooks, we want to skip the rest of the logic in\u001b[39;00m\n\u001b[0;32m   1497\u001b[0m \u001b[39m# this function, and just call forward.\u001b[39;00m\n\u001b[0;32m   1498\u001b[0m \u001b[39mif\u001b[39;00m \u001b[39mnot\u001b[39;00m (\u001b[39mself\u001b[39m\u001b[39m.\u001b[39m_backward_hooks \u001b[39mor\u001b[39;00m \u001b[39mself\u001b[39m\u001b[39m.\u001b[39m_backward_pre_hooks \u001b[39mor\u001b[39;00m \u001b[39mself\u001b[39m\u001b[39m.\u001b[39m_forward_hooks \u001b[39mor\u001b[39;00m \u001b[39mself\u001b[39m\u001b[39m.\u001b[39m_forward_pre_hooks\n\u001b[0;32m   1499\u001b[0m         \u001b[39mor\u001b[39;00m _global_backward_pre_hooks \u001b[39mor\u001b[39;00m _global_backward_hooks\n\u001b[0;32m   1500\u001b[0m         \u001b[39mor\u001b[39;00m _global_forward_hooks \u001b[39mor\u001b[39;00m _global_forward_pre_hooks):\n\u001b[1;32m-> 1501\u001b[0m     \u001b[39mreturn\u001b[39;00m forward_call(\u001b[39m*\u001b[39;49margs, \u001b[39m*\u001b[39;49m\u001b[39m*\u001b[39;49mkwargs)\n\u001b[0;32m   1502\u001b[0m \u001b[39m# Do not call functions when jit is used\u001b[39;00m\n\u001b[0;32m   1503\u001b[0m full_backward_hooks, non_full_backward_hooks \u001b[39m=\u001b[39m [], []\n",
      "File \u001b[1;32mc:\\Users\\paula\\anaconda3\\envs\\env1\\Lib\\site-packages\\transformers\\models\\bert\\modeling_bert.py:497\u001b[0m, in \u001b[0;36mBertLayer.forward\u001b[1;34m(self, hidden_states, attention_mask, head_mask, encoder_hidden_states, encoder_attention_mask, past_key_value, output_attentions)\u001b[0m\n\u001b[0;32m    485\u001b[0m \u001b[39mdef\u001b[39;00m \u001b[39mforward\u001b[39m(\n\u001b[0;32m    486\u001b[0m     \u001b[39mself\u001b[39m,\n\u001b[0;32m    487\u001b[0m     hidden_states: torch\u001b[39m.\u001b[39mTensor,\n\u001b[1;32m   (...)\u001b[0m\n\u001b[0;32m    494\u001b[0m ) \u001b[39m-\u001b[39m\u001b[39m>\u001b[39m Tuple[torch\u001b[39m.\u001b[39mTensor]:\n\u001b[0;32m    495\u001b[0m     \u001b[39m# decoder uni-directional self-attention cached key/values tuple is at positions 1,2\u001b[39;00m\n\u001b[0;32m    496\u001b[0m     self_attn_past_key_value \u001b[39m=\u001b[39m past_key_value[:\u001b[39m2\u001b[39m] \u001b[39mif\u001b[39;00m past_key_value \u001b[39mis\u001b[39;00m \u001b[39mnot\u001b[39;00m \u001b[39mNone\u001b[39;00m \u001b[39melse\u001b[39;00m \u001b[39mNone\u001b[39;00m\n\u001b[1;32m--> 497\u001b[0m     self_attention_outputs \u001b[39m=\u001b[39m \u001b[39mself\u001b[39;49m\u001b[39m.\u001b[39;49mattention(\n\u001b[0;32m    498\u001b[0m         hidden_states,\n\u001b[0;32m    499\u001b[0m         attention_mask,\n\u001b[0;32m    500\u001b[0m         head_mask,\n\u001b[0;32m    501\u001b[0m         output_attentions\u001b[39m=\u001b[39;49moutput_attentions,\n\u001b[0;32m    502\u001b[0m         past_key_value\u001b[39m=\u001b[39;49mself_attn_past_key_value,\n\u001b[0;32m    503\u001b[0m     )\n\u001b[0;32m    504\u001b[0m     attention_output \u001b[39m=\u001b[39m self_attention_outputs[\u001b[39m0\u001b[39m]\n\u001b[0;32m    506\u001b[0m     \u001b[39m# if decoder, the last output is tuple of self-attn cache\u001b[39;00m\n",
      "File \u001b[1;32mc:\\Users\\paula\\anaconda3\\envs\\env1\\Lib\\site-packages\\torch\\nn\\modules\\module.py:1501\u001b[0m, in \u001b[0;36mModule._call_impl\u001b[1;34m(self, *args, **kwargs)\u001b[0m\n\u001b[0;32m   1496\u001b[0m \u001b[39m# If we don't have any hooks, we want to skip the rest of the logic in\u001b[39;00m\n\u001b[0;32m   1497\u001b[0m \u001b[39m# this function, and just call forward.\u001b[39;00m\n\u001b[0;32m   1498\u001b[0m \u001b[39mif\u001b[39;00m \u001b[39mnot\u001b[39;00m (\u001b[39mself\u001b[39m\u001b[39m.\u001b[39m_backward_hooks \u001b[39mor\u001b[39;00m \u001b[39mself\u001b[39m\u001b[39m.\u001b[39m_backward_pre_hooks \u001b[39mor\u001b[39;00m \u001b[39mself\u001b[39m\u001b[39m.\u001b[39m_forward_hooks \u001b[39mor\u001b[39;00m \u001b[39mself\u001b[39m\u001b[39m.\u001b[39m_forward_pre_hooks\n\u001b[0;32m   1499\u001b[0m         \u001b[39mor\u001b[39;00m _global_backward_pre_hooks \u001b[39mor\u001b[39;00m _global_backward_hooks\n\u001b[0;32m   1500\u001b[0m         \u001b[39mor\u001b[39;00m _global_forward_hooks \u001b[39mor\u001b[39;00m _global_forward_pre_hooks):\n\u001b[1;32m-> 1501\u001b[0m     \u001b[39mreturn\u001b[39;00m forward_call(\u001b[39m*\u001b[39;49margs, \u001b[39m*\u001b[39;49m\u001b[39m*\u001b[39;49mkwargs)\n\u001b[0;32m   1502\u001b[0m \u001b[39m# Do not call functions when jit is used\u001b[39;00m\n\u001b[0;32m   1503\u001b[0m full_backward_hooks, non_full_backward_hooks \u001b[39m=\u001b[39m [], []\n",
      "File \u001b[1;32mc:\\Users\\paula\\anaconda3\\envs\\env1\\Lib\\site-packages\\transformers\\models\\bert\\modeling_bert.py:427\u001b[0m, in \u001b[0;36mBertAttention.forward\u001b[1;34m(self, hidden_states, attention_mask, head_mask, encoder_hidden_states, encoder_attention_mask, past_key_value, output_attentions)\u001b[0m\n\u001b[0;32m    417\u001b[0m \u001b[39mdef\u001b[39;00m \u001b[39mforward\u001b[39m(\n\u001b[0;32m    418\u001b[0m     \u001b[39mself\u001b[39m,\n\u001b[0;32m    419\u001b[0m     hidden_states: torch\u001b[39m.\u001b[39mTensor,\n\u001b[1;32m   (...)\u001b[0m\n\u001b[0;32m    425\u001b[0m     output_attentions: Optional[\u001b[39mbool\u001b[39m] \u001b[39m=\u001b[39m \u001b[39mFalse\u001b[39;00m,\n\u001b[0;32m    426\u001b[0m ) \u001b[39m-\u001b[39m\u001b[39m>\u001b[39m Tuple[torch\u001b[39m.\u001b[39mTensor]:\n\u001b[1;32m--> 427\u001b[0m     self_outputs \u001b[39m=\u001b[39m \u001b[39mself\u001b[39;49m\u001b[39m.\u001b[39;49mself(\n\u001b[0;32m    428\u001b[0m         hidden_states,\n\u001b[0;32m    429\u001b[0m         attention_mask,\n\u001b[0;32m    430\u001b[0m         head_mask,\n\u001b[0;32m    431\u001b[0m         encoder_hidden_states,\n\u001b[0;32m    432\u001b[0m         encoder_attention_mask,\n\u001b[0;32m    433\u001b[0m         past_key_value,\n\u001b[0;32m    434\u001b[0m         output_attentions,\n\u001b[0;32m    435\u001b[0m     )\n\u001b[0;32m    436\u001b[0m     attention_output \u001b[39m=\u001b[39m \u001b[39mself\u001b[39m\u001b[39m.\u001b[39moutput(self_outputs[\u001b[39m0\u001b[39m], hidden_states)\n\u001b[0;32m    437\u001b[0m     outputs \u001b[39m=\u001b[39m (attention_output,) \u001b[39m+\u001b[39m self_outputs[\u001b[39m1\u001b[39m:]  \u001b[39m# add attentions if we output them\u001b[39;00m\n",
      "File \u001b[1;32mc:\\Users\\paula\\anaconda3\\envs\\env1\\Lib\\site-packages\\torch\\nn\\modules\\module.py:1501\u001b[0m, in \u001b[0;36mModule._call_impl\u001b[1;34m(self, *args, **kwargs)\u001b[0m\n\u001b[0;32m   1496\u001b[0m \u001b[39m# If we don't have any hooks, we want to skip the rest of the logic in\u001b[39;00m\n\u001b[0;32m   1497\u001b[0m \u001b[39m# this function, and just call forward.\u001b[39;00m\n\u001b[0;32m   1498\u001b[0m \u001b[39mif\u001b[39;00m \u001b[39mnot\u001b[39;00m (\u001b[39mself\u001b[39m\u001b[39m.\u001b[39m_backward_hooks \u001b[39mor\u001b[39;00m \u001b[39mself\u001b[39m\u001b[39m.\u001b[39m_backward_pre_hooks \u001b[39mor\u001b[39;00m \u001b[39mself\u001b[39m\u001b[39m.\u001b[39m_forward_hooks \u001b[39mor\u001b[39;00m \u001b[39mself\u001b[39m\u001b[39m.\u001b[39m_forward_pre_hooks\n\u001b[0;32m   1499\u001b[0m         \u001b[39mor\u001b[39;00m _global_backward_pre_hooks \u001b[39mor\u001b[39;00m _global_backward_hooks\n\u001b[0;32m   1500\u001b[0m         \u001b[39mor\u001b[39;00m _global_forward_hooks \u001b[39mor\u001b[39;00m _global_forward_pre_hooks):\n\u001b[1;32m-> 1501\u001b[0m     \u001b[39mreturn\u001b[39;00m forward_call(\u001b[39m*\u001b[39;49margs, \u001b[39m*\u001b[39;49m\u001b[39m*\u001b[39;49mkwargs)\n\u001b[0;32m   1502\u001b[0m \u001b[39m# Do not call functions when jit is used\u001b[39;00m\n\u001b[0;32m   1503\u001b[0m full_backward_hooks, non_full_backward_hooks \u001b[39m=\u001b[39m [], []\n",
      "File \u001b[1;32mc:\\Users\\paula\\anaconda3\\envs\\env1\\Lib\\site-packages\\transformers\\models\\bert\\modeling_bert.py:308\u001b[0m, in \u001b[0;36mBertSelfAttention.forward\u001b[1;34m(self, hidden_states, attention_mask, head_mask, encoder_hidden_states, encoder_attention_mask, past_key_value, output_attentions)\u001b[0m\n\u001b[0;32m    306\u001b[0m     value_layer \u001b[39m=\u001b[39m torch\u001b[39m.\u001b[39mcat([past_key_value[\u001b[39m1\u001b[39m], value_layer], dim\u001b[39m=\u001b[39m\u001b[39m2\u001b[39m)\n\u001b[0;32m    307\u001b[0m \u001b[39melse\u001b[39;00m:\n\u001b[1;32m--> 308\u001b[0m     key_layer \u001b[39m=\u001b[39m \u001b[39mself\u001b[39m\u001b[39m.\u001b[39mtranspose_for_scores(\u001b[39mself\u001b[39;49m\u001b[39m.\u001b[39;49mkey(hidden_states))\n\u001b[0;32m    309\u001b[0m     value_layer \u001b[39m=\u001b[39m \u001b[39mself\u001b[39m\u001b[39m.\u001b[39mtranspose_for_scores(\u001b[39mself\u001b[39m\u001b[39m.\u001b[39mvalue(hidden_states))\n\u001b[0;32m    311\u001b[0m query_layer \u001b[39m=\u001b[39m \u001b[39mself\u001b[39m\u001b[39m.\u001b[39mtranspose_for_scores(mixed_query_layer)\n",
      "File \u001b[1;32mc:\\Users\\paula\\anaconda3\\envs\\env1\\Lib\\site-packages\\torch\\nn\\modules\\module.py:1501\u001b[0m, in \u001b[0;36mModule._call_impl\u001b[1;34m(self, *args, **kwargs)\u001b[0m\n\u001b[0;32m   1496\u001b[0m \u001b[39m# If we don't have any hooks, we want to skip the rest of the logic in\u001b[39;00m\n\u001b[0;32m   1497\u001b[0m \u001b[39m# this function, and just call forward.\u001b[39;00m\n\u001b[0;32m   1498\u001b[0m \u001b[39mif\u001b[39;00m \u001b[39mnot\u001b[39;00m (\u001b[39mself\u001b[39m\u001b[39m.\u001b[39m_backward_hooks \u001b[39mor\u001b[39;00m \u001b[39mself\u001b[39m\u001b[39m.\u001b[39m_backward_pre_hooks \u001b[39mor\u001b[39;00m \u001b[39mself\u001b[39m\u001b[39m.\u001b[39m_forward_hooks \u001b[39mor\u001b[39;00m \u001b[39mself\u001b[39m\u001b[39m.\u001b[39m_forward_pre_hooks\n\u001b[0;32m   1499\u001b[0m         \u001b[39mor\u001b[39;00m _global_backward_pre_hooks \u001b[39mor\u001b[39;00m _global_backward_hooks\n\u001b[0;32m   1500\u001b[0m         \u001b[39mor\u001b[39;00m _global_forward_hooks \u001b[39mor\u001b[39;00m _global_forward_pre_hooks):\n\u001b[1;32m-> 1501\u001b[0m     \u001b[39mreturn\u001b[39;00m forward_call(\u001b[39m*\u001b[39;49margs, \u001b[39m*\u001b[39;49m\u001b[39m*\u001b[39;49mkwargs)\n\u001b[0;32m   1502\u001b[0m \u001b[39m# Do not call functions when jit is used\u001b[39;00m\n\u001b[0;32m   1503\u001b[0m full_backward_hooks, non_full_backward_hooks \u001b[39m=\u001b[39m [], []\n",
      "File \u001b[1;32mc:\\Users\\paula\\anaconda3\\envs\\env1\\Lib\\site-packages\\torch\\nn\\modules\\linear.py:114\u001b[0m, in \u001b[0;36mLinear.forward\u001b[1;34m(self, input)\u001b[0m\n\u001b[0;32m    113\u001b[0m \u001b[39mdef\u001b[39;00m \u001b[39mforward\u001b[39m(\u001b[39mself\u001b[39m, \u001b[39minput\u001b[39m: Tensor) \u001b[39m-\u001b[39m\u001b[39m>\u001b[39m Tensor:\n\u001b[1;32m--> 114\u001b[0m     \u001b[39mreturn\u001b[39;00m F\u001b[39m.\u001b[39;49mlinear(\u001b[39minput\u001b[39;49m, \u001b[39mself\u001b[39;49m\u001b[39m.\u001b[39;49mweight, \u001b[39mself\u001b[39;49m\u001b[39m.\u001b[39;49mbias)\n",
      "\u001b[1;31mKeyboardInterrupt\u001b[0m: "
     ]
    }
   ],
   "source": [
    "#Wir beginnen mit dem Methodenaufruf, um unsere Sentiment Modell german-bert anzuwenden, dieses werden wir auf dem cleaned text und dem original text anwenden \n",
    "import torchvision\n",
    "\n",
    "#Original Text - Modell Periode 19\n",
    "modell_original19 = Sentiment_Methods.sentiment_analysis(df19_Covid_cleaned, 'satz')\n",
    "modell_original19.head (15)\n",
    "#modell_original19.to_csv('modellorginal19.csv')\n",
    "\n",
    "#Original Text - Modell Periode 19\n",
    "modell_original20 = Sentiment_Methods.sentiment_analysis(df20_Covid_cleaned, 'satz')\n",
    "modell_original20.head (15)\n",
    "#modell_original20.to_csv('modellorginal20.csv')"
   ]
  },
  {
   "cell_type": "code",
   "execution_count": 19,
   "metadata": {},
   "outputs": [],
   "source": [
    "#Modellaufruf mit preprocessed Text Periode 19\n",
    "modell_processed19 = Sentiment_Methods.sentiment_analysis(df19_Covid_cleaned, 'cleaned_text')\n",
    "modell_processed19.head (15)\n",
    "#modell_processed19.to_csv('modell_processed19.csv')\n",
    "\n",
    "#Modellaufruf mit preprocessed Text Periode 20\n",
    "modell_processed20 = Sentiment_Methods.sentiment_analysis(df20_Covid_cleaned, 'cleaned_text')\n",
    "modell_processed20.head (15)\n",
    "#modell_processed20.to_csv('modell_processed20.csv')\n"
   ]
  },
  {
   "attachments": {},
   "cell_type": "markdown",
   "metadata": {},
   "source": [
    "### Packages für Sentimentanalyse"
   ]
  },
  {
   "cell_type": "code",
   "execution_count": 27,
   "metadata": {},
   "outputs": [
    {
     "data": {
      "application/vnd.plotly.v1+json": {
       "config": {
        "plotlyServerURL": "https://plot.ly"
       },
       "data": [
        {
         "alignmentgroup": "True",
         "hovertemplate": "color=neutral<br>x=%{x}<br>y=%{y}<extra></extra>",
         "legendgroup": "neutral",
         "marker": {
          "color": "#ab63fa",
          "pattern": {
           "shape": ""
          }
         },
         "name": "neutral",
         "offsetgroup": "neutral",
         "orientation": "v",
         "showlegend": true,
         "textposition": "auto",
         "type": "bar",
         "x": [
          "neutral"
         ],
         "xaxis": "x",
         "y": [
          7780
         ],
         "yaxis": "y"
        },
        {
         "alignmentgroup": "True",
         "hovertemplate": "color=negative<br>x=%{x}<br>y=%{y}<extra></extra>",
         "legendgroup": "negative",
         "marker": {
          "color": "#FFA15A",
          "pattern": {
           "shape": ""
          }
         },
         "name": "negative",
         "offsetgroup": "negative",
         "orientation": "v",
         "showlegend": true,
         "textposition": "auto",
         "type": "bar",
         "x": [
          "negative"
         ],
         "xaxis": "x",
         "y": [
          975
         ],
         "yaxis": "y"
        },
        {
         "alignmentgroup": "True",
         "hovertemplate": "color=positive<br>x=%{x}<br>y=%{y}<extra></extra>",
         "legendgroup": "positive",
         "marker": {
          "color": "#19d3f3",
          "pattern": {
           "shape": ""
          }
         },
         "name": "positive",
         "offsetgroup": "positive",
         "orientation": "v",
         "showlegend": true,
         "textposition": "auto",
         "type": "bar",
         "x": [
          "positive"
         ],
         "xaxis": "x",
         "y": [
          642
         ],
         "yaxis": "y"
        }
       ],
       "layout": {
        "barmode": "relative",
        "height": 600,
        "legend": {
         "title": {
          "text": "color"
         },
         "tracegroupgap": 0
        },
        "margin": {
         "t": 60
        },
        "template": {
         "data": {
          "bar": [
           {
            "error_x": {
             "color": "#2a3f5f"
            },
            "error_y": {
             "color": "#2a3f5f"
            },
            "marker": {
             "line": {
              "color": "#E5ECF6",
              "width": 0.5
             },
             "pattern": {
              "fillmode": "overlay",
              "size": 10,
              "solidity": 0.2
             }
            },
            "type": "bar"
           }
          ],
          "barpolar": [
           {
            "marker": {
             "line": {
              "color": "#E5ECF6",
              "width": 0.5
             },
             "pattern": {
              "fillmode": "overlay",
              "size": 10,
              "solidity": 0.2
             }
            },
            "type": "barpolar"
           }
          ],
          "carpet": [
           {
            "aaxis": {
             "endlinecolor": "#2a3f5f",
             "gridcolor": "white",
             "linecolor": "white",
             "minorgridcolor": "white",
             "startlinecolor": "#2a3f5f"
            },
            "baxis": {
             "endlinecolor": "#2a3f5f",
             "gridcolor": "white",
             "linecolor": "white",
             "minorgridcolor": "white",
             "startlinecolor": "#2a3f5f"
            },
            "type": "carpet"
           }
          ],
          "choropleth": [
           {
            "colorbar": {
             "outlinewidth": 0,
             "ticks": ""
            },
            "type": "choropleth"
           }
          ],
          "contour": [
           {
            "colorbar": {
             "outlinewidth": 0,
             "ticks": ""
            },
            "colorscale": [
             [
              0,
              "#0d0887"
             ],
             [
              0.1111111111111111,
              "#46039f"
             ],
             [
              0.2222222222222222,
              "#7201a8"
             ],
             [
              0.3333333333333333,
              "#9c179e"
             ],
             [
              0.4444444444444444,
              "#bd3786"
             ],
             [
              0.5555555555555556,
              "#d8576b"
             ],
             [
              0.6666666666666666,
              "#ed7953"
             ],
             [
              0.7777777777777778,
              "#fb9f3a"
             ],
             [
              0.8888888888888888,
              "#fdca26"
             ],
             [
              1,
              "#f0f921"
             ]
            ],
            "type": "contour"
           }
          ],
          "contourcarpet": [
           {
            "colorbar": {
             "outlinewidth": 0,
             "ticks": ""
            },
            "type": "contourcarpet"
           }
          ],
          "heatmap": [
           {
            "colorbar": {
             "outlinewidth": 0,
             "ticks": ""
            },
            "colorscale": [
             [
              0,
              "#0d0887"
             ],
             [
              0.1111111111111111,
              "#46039f"
             ],
             [
              0.2222222222222222,
              "#7201a8"
             ],
             [
              0.3333333333333333,
              "#9c179e"
             ],
             [
              0.4444444444444444,
              "#bd3786"
             ],
             [
              0.5555555555555556,
              "#d8576b"
             ],
             [
              0.6666666666666666,
              "#ed7953"
             ],
             [
              0.7777777777777778,
              "#fb9f3a"
             ],
             [
              0.8888888888888888,
              "#fdca26"
             ],
             [
              1,
              "#f0f921"
             ]
            ],
            "type": "heatmap"
           }
          ],
          "heatmapgl": [
           {
            "colorbar": {
             "outlinewidth": 0,
             "ticks": ""
            },
            "colorscale": [
             [
              0,
              "#0d0887"
             ],
             [
              0.1111111111111111,
              "#46039f"
             ],
             [
              0.2222222222222222,
              "#7201a8"
             ],
             [
              0.3333333333333333,
              "#9c179e"
             ],
             [
              0.4444444444444444,
              "#bd3786"
             ],
             [
              0.5555555555555556,
              "#d8576b"
             ],
             [
              0.6666666666666666,
              "#ed7953"
             ],
             [
              0.7777777777777778,
              "#fb9f3a"
             ],
             [
              0.8888888888888888,
              "#fdca26"
             ],
             [
              1,
              "#f0f921"
             ]
            ],
            "type": "heatmapgl"
           }
          ],
          "histogram": [
           {
            "marker": {
             "pattern": {
              "fillmode": "overlay",
              "size": 10,
              "solidity": 0.2
             }
            },
            "type": "histogram"
           }
          ],
          "histogram2d": [
           {
            "colorbar": {
             "outlinewidth": 0,
             "ticks": ""
            },
            "colorscale": [
             [
              0,
              "#0d0887"
             ],
             [
              0.1111111111111111,
              "#46039f"
             ],
             [
              0.2222222222222222,
              "#7201a8"
             ],
             [
              0.3333333333333333,
              "#9c179e"
             ],
             [
              0.4444444444444444,
              "#bd3786"
             ],
             [
              0.5555555555555556,
              "#d8576b"
             ],
             [
              0.6666666666666666,
              "#ed7953"
             ],
             [
              0.7777777777777778,
              "#fb9f3a"
             ],
             [
              0.8888888888888888,
              "#fdca26"
             ],
             [
              1,
              "#f0f921"
             ]
            ],
            "type": "histogram2d"
           }
          ],
          "histogram2dcontour": [
           {
            "colorbar": {
             "outlinewidth": 0,
             "ticks": ""
            },
            "colorscale": [
             [
              0,
              "#0d0887"
             ],
             [
              0.1111111111111111,
              "#46039f"
             ],
             [
              0.2222222222222222,
              "#7201a8"
             ],
             [
              0.3333333333333333,
              "#9c179e"
             ],
             [
              0.4444444444444444,
              "#bd3786"
             ],
             [
              0.5555555555555556,
              "#d8576b"
             ],
             [
              0.6666666666666666,
              "#ed7953"
             ],
             [
              0.7777777777777778,
              "#fb9f3a"
             ],
             [
              0.8888888888888888,
              "#fdca26"
             ],
             [
              1,
              "#f0f921"
             ]
            ],
            "type": "histogram2dcontour"
           }
          ],
          "mesh3d": [
           {
            "colorbar": {
             "outlinewidth": 0,
             "ticks": ""
            },
            "type": "mesh3d"
           }
          ],
          "parcoords": [
           {
            "line": {
             "colorbar": {
              "outlinewidth": 0,
              "ticks": ""
             }
            },
            "type": "parcoords"
           }
          ],
          "pie": [
           {
            "automargin": true,
            "type": "pie"
           }
          ],
          "scatter": [
           {
            "fillpattern": {
             "fillmode": "overlay",
             "size": 10,
             "solidity": 0.2
            },
            "type": "scatter"
           }
          ],
          "scatter3d": [
           {
            "line": {
             "colorbar": {
              "outlinewidth": 0,
              "ticks": ""
             }
            },
            "marker": {
             "colorbar": {
              "outlinewidth": 0,
              "ticks": ""
             }
            },
            "type": "scatter3d"
           }
          ],
          "scattercarpet": [
           {
            "marker": {
             "colorbar": {
              "outlinewidth": 0,
              "ticks": ""
             }
            },
            "type": "scattercarpet"
           }
          ],
          "scattergeo": [
           {
            "marker": {
             "colorbar": {
              "outlinewidth": 0,
              "ticks": ""
             }
            },
            "type": "scattergeo"
           }
          ],
          "scattergl": [
           {
            "marker": {
             "colorbar": {
              "outlinewidth": 0,
              "ticks": ""
             }
            },
            "type": "scattergl"
           }
          ],
          "scattermapbox": [
           {
            "marker": {
             "colorbar": {
              "outlinewidth": 0,
              "ticks": ""
             }
            },
            "type": "scattermapbox"
           }
          ],
          "scatterpolar": [
           {
            "marker": {
             "colorbar": {
              "outlinewidth": 0,
              "ticks": ""
             }
            },
            "type": "scatterpolar"
           }
          ],
          "scatterpolargl": [
           {
            "marker": {
             "colorbar": {
              "outlinewidth": 0,
              "ticks": ""
             }
            },
            "type": "scatterpolargl"
           }
          ],
          "scatterternary": [
           {
            "marker": {
             "colorbar": {
              "outlinewidth": 0,
              "ticks": ""
             }
            },
            "type": "scatterternary"
           }
          ],
          "surface": [
           {
            "colorbar": {
             "outlinewidth": 0,
             "ticks": ""
            },
            "colorscale": [
             [
              0,
              "#0d0887"
             ],
             [
              0.1111111111111111,
              "#46039f"
             ],
             [
              0.2222222222222222,
              "#7201a8"
             ],
             [
              0.3333333333333333,
              "#9c179e"
             ],
             [
              0.4444444444444444,
              "#bd3786"
             ],
             [
              0.5555555555555556,
              "#d8576b"
             ],
             [
              0.6666666666666666,
              "#ed7953"
             ],
             [
              0.7777777777777778,
              "#fb9f3a"
             ],
             [
              0.8888888888888888,
              "#fdca26"
             ],
             [
              1,
              "#f0f921"
             ]
            ],
            "type": "surface"
           }
          ],
          "table": [
           {
            "cells": {
             "fill": {
              "color": "#EBF0F8"
             },
             "line": {
              "color": "white"
             }
            },
            "header": {
             "fill": {
              "color": "#C8D4E3"
             },
             "line": {
              "color": "white"
             }
            },
            "type": "table"
           }
          ]
         },
         "layout": {
          "annotationdefaults": {
           "arrowcolor": "#2a3f5f",
           "arrowhead": 0,
           "arrowwidth": 1
          },
          "autotypenumbers": "strict",
          "coloraxis": {
           "colorbar": {
            "outlinewidth": 0,
            "ticks": ""
           }
          },
          "colorscale": {
           "diverging": [
            [
             0,
             "#8e0152"
            ],
            [
             0.1,
             "#c51b7d"
            ],
            [
             0.2,
             "#de77ae"
            ],
            [
             0.3,
             "#f1b6da"
            ],
            [
             0.4,
             "#fde0ef"
            ],
            [
             0.5,
             "#f7f7f7"
            ],
            [
             0.6,
             "#e6f5d0"
            ],
            [
             0.7,
             "#b8e186"
            ],
            [
             0.8,
             "#7fbc41"
            ],
            [
             0.9,
             "#4d9221"
            ],
            [
             1,
             "#276419"
            ]
           ],
           "sequential": [
            [
             0,
             "#0d0887"
            ],
            [
             0.1111111111111111,
             "#46039f"
            ],
            [
             0.2222222222222222,
             "#7201a8"
            ],
            [
             0.3333333333333333,
             "#9c179e"
            ],
            [
             0.4444444444444444,
             "#bd3786"
            ],
            [
             0.5555555555555556,
             "#d8576b"
            ],
            [
             0.6666666666666666,
             "#ed7953"
            ],
            [
             0.7777777777777778,
             "#fb9f3a"
            ],
            [
             0.8888888888888888,
             "#fdca26"
            ],
            [
             1,
             "#f0f921"
            ]
           ],
           "sequentialminus": [
            [
             0,
             "#0d0887"
            ],
            [
             0.1111111111111111,
             "#46039f"
            ],
            [
             0.2222222222222222,
             "#7201a8"
            ],
            [
             0.3333333333333333,
             "#9c179e"
            ],
            [
             0.4444444444444444,
             "#bd3786"
            ],
            [
             0.5555555555555556,
             "#d8576b"
            ],
            [
             0.6666666666666666,
             "#ed7953"
            ],
            [
             0.7777777777777778,
             "#fb9f3a"
            ],
            [
             0.8888888888888888,
             "#fdca26"
            ],
            [
             1,
             "#f0f921"
            ]
           ]
          },
          "colorway": [
           "#636efa",
           "#EF553B",
           "#00cc96",
           "#ab63fa",
           "#FFA15A",
           "#19d3f3",
           "#FF6692",
           "#B6E880",
           "#FF97FF",
           "#FECB52"
          ],
          "font": {
           "color": "#2a3f5f"
          },
          "geo": {
           "bgcolor": "white",
           "lakecolor": "white",
           "landcolor": "#E5ECF6",
           "showlakes": true,
           "showland": true,
           "subunitcolor": "white"
          },
          "hoverlabel": {
           "align": "left"
          },
          "hovermode": "closest",
          "mapbox": {
           "style": "light"
          },
          "paper_bgcolor": "white",
          "plot_bgcolor": "#E5ECF6",
          "polar": {
           "angularaxis": {
            "gridcolor": "white",
            "linecolor": "white",
            "ticks": ""
           },
           "bgcolor": "#E5ECF6",
           "radialaxis": {
            "gridcolor": "white",
            "linecolor": "white",
            "ticks": ""
           }
          },
          "scene": {
           "xaxis": {
            "backgroundcolor": "#E5ECF6",
            "gridcolor": "white",
            "gridwidth": 2,
            "linecolor": "white",
            "showbackground": true,
            "ticks": "",
            "zerolinecolor": "white"
           },
           "yaxis": {
            "backgroundcolor": "#E5ECF6",
            "gridcolor": "white",
            "gridwidth": 2,
            "linecolor": "white",
            "showbackground": true,
            "ticks": "",
            "zerolinecolor": "white"
           },
           "zaxis": {
            "backgroundcolor": "#E5ECF6",
            "gridcolor": "white",
            "gridwidth": 2,
            "linecolor": "white",
            "showbackground": true,
            "ticks": "",
            "zerolinecolor": "white"
           }
          },
          "shapedefaults": {
           "line": {
            "color": "#2a3f5f"
           }
          },
          "ternary": {
           "aaxis": {
            "gridcolor": "white",
            "linecolor": "white",
            "ticks": ""
           },
           "baxis": {
            "gridcolor": "white",
            "linecolor": "white",
            "ticks": ""
           },
           "bgcolor": "#E5ECF6",
           "caxis": {
            "gridcolor": "white",
            "linecolor": "white",
            "ticks": ""
           }
          },
          "title": {
           "x": 0.05
          },
          "xaxis": {
           "automargin": true,
           "gridcolor": "white",
           "linecolor": "white",
           "ticks": "",
           "title": {
            "standoff": 15
           },
           "zerolinecolor": "white",
           "zerolinewidth": 2
          },
          "yaxis": {
           "automargin": true,
           "gridcolor": "white",
           "linecolor": "white",
           "ticks": "",
           "title": {
            "standoff": 15
           },
           "zerolinecolor": "white",
           "zerolinewidth": 2
          }
         }
        },
        "title": {
         "font": {
          "size": 24
         },
         "text": "Sentiment Distribution - Original Text"
        },
        "width": 800,
        "xaxis": {
         "anchor": "y",
         "domain": [
          0,
          1
         ],
         "title": {
          "text": "Sentiment"
         }
        },
        "yaxis": {
         "anchor": "x",
         "domain": [
          0,
          1
         ],
         "title": {
          "text": "Count"
         }
        }
       }
      }
     },
     "metadata": {},
     "output_type": "display_data"
    },
    {
     "data": {
      "application/vnd.plotly.v1+json": {
       "config": {
        "plotlyServerURL": "https://plot.ly"
       },
       "data": [
        {
         "alignmentgroup": "True",
         "hovertemplate": "color=neutral<br>x=%{x}<br>y=%{y}<extra></extra>",
         "legendgroup": "neutral",
         "marker": {
          "color": "#ab63fa",
          "pattern": {
           "shape": ""
          }
         },
         "name": "neutral",
         "offsetgroup": "neutral",
         "orientation": "v",
         "showlegend": true,
         "textposition": "auto",
         "type": "bar",
         "x": [
          "neutral"
         ],
         "xaxis": "x",
         "y": [
          5737
         ],
         "yaxis": "y"
        },
        {
         "alignmentgroup": "True",
         "hovertemplate": "color=negative<br>x=%{x}<br>y=%{y}<extra></extra>",
         "legendgroup": "negative",
         "marker": {
          "color": "#FFA15A",
          "pattern": {
           "shape": ""
          }
         },
         "name": "negative",
         "offsetgroup": "negative",
         "orientation": "v",
         "showlegend": true,
         "textposition": "auto",
         "type": "bar",
         "x": [
          "negative"
         ],
         "xaxis": "x",
         "y": [
          2818
         ],
         "yaxis": "y"
        },
        {
         "alignmentgroup": "True",
         "hovertemplate": "color=positive<br>x=%{x}<br>y=%{y}<extra></extra>",
         "legendgroup": "positive",
         "marker": {
          "color": "#19d3f3",
          "pattern": {
           "shape": ""
          }
         },
         "name": "positive",
         "offsetgroup": "positive",
         "orientation": "v",
         "showlegend": true,
         "textposition": "auto",
         "type": "bar",
         "x": [
          "positive"
         ],
         "xaxis": "x",
         "y": [
          842
         ],
         "yaxis": "y"
        }
       ],
       "layout": {
        "barmode": "relative",
        "height": 600,
        "legend": {
         "title": {
          "text": "color"
         },
         "tracegroupgap": 0
        },
        "margin": {
         "t": 60
        },
        "template": {
         "data": {
          "bar": [
           {
            "error_x": {
             "color": "#2a3f5f"
            },
            "error_y": {
             "color": "#2a3f5f"
            },
            "marker": {
             "line": {
              "color": "#E5ECF6",
              "width": 0.5
             },
             "pattern": {
              "fillmode": "overlay",
              "size": 10,
              "solidity": 0.2
             }
            },
            "type": "bar"
           }
          ],
          "barpolar": [
           {
            "marker": {
             "line": {
              "color": "#E5ECF6",
              "width": 0.5
             },
             "pattern": {
              "fillmode": "overlay",
              "size": 10,
              "solidity": 0.2
             }
            },
            "type": "barpolar"
           }
          ],
          "carpet": [
           {
            "aaxis": {
             "endlinecolor": "#2a3f5f",
             "gridcolor": "white",
             "linecolor": "white",
             "minorgridcolor": "white",
             "startlinecolor": "#2a3f5f"
            },
            "baxis": {
             "endlinecolor": "#2a3f5f",
             "gridcolor": "white",
             "linecolor": "white",
             "minorgridcolor": "white",
             "startlinecolor": "#2a3f5f"
            },
            "type": "carpet"
           }
          ],
          "choropleth": [
           {
            "colorbar": {
             "outlinewidth": 0,
             "ticks": ""
            },
            "type": "choropleth"
           }
          ],
          "contour": [
           {
            "colorbar": {
             "outlinewidth": 0,
             "ticks": ""
            },
            "colorscale": [
             [
              0,
              "#0d0887"
             ],
             [
              0.1111111111111111,
              "#46039f"
             ],
             [
              0.2222222222222222,
              "#7201a8"
             ],
             [
              0.3333333333333333,
              "#9c179e"
             ],
             [
              0.4444444444444444,
              "#bd3786"
             ],
             [
              0.5555555555555556,
              "#d8576b"
             ],
             [
              0.6666666666666666,
              "#ed7953"
             ],
             [
              0.7777777777777778,
              "#fb9f3a"
             ],
             [
              0.8888888888888888,
              "#fdca26"
             ],
             [
              1,
              "#f0f921"
             ]
            ],
            "type": "contour"
           }
          ],
          "contourcarpet": [
           {
            "colorbar": {
             "outlinewidth": 0,
             "ticks": ""
            },
            "type": "contourcarpet"
           }
          ],
          "heatmap": [
           {
            "colorbar": {
             "outlinewidth": 0,
             "ticks": ""
            },
            "colorscale": [
             [
              0,
              "#0d0887"
             ],
             [
              0.1111111111111111,
              "#46039f"
             ],
             [
              0.2222222222222222,
              "#7201a8"
             ],
             [
              0.3333333333333333,
              "#9c179e"
             ],
             [
              0.4444444444444444,
              "#bd3786"
             ],
             [
              0.5555555555555556,
              "#d8576b"
             ],
             [
              0.6666666666666666,
              "#ed7953"
             ],
             [
              0.7777777777777778,
              "#fb9f3a"
             ],
             [
              0.8888888888888888,
              "#fdca26"
             ],
             [
              1,
              "#f0f921"
             ]
            ],
            "type": "heatmap"
           }
          ],
          "heatmapgl": [
           {
            "colorbar": {
             "outlinewidth": 0,
             "ticks": ""
            },
            "colorscale": [
             [
              0,
              "#0d0887"
             ],
             [
              0.1111111111111111,
              "#46039f"
             ],
             [
              0.2222222222222222,
              "#7201a8"
             ],
             [
              0.3333333333333333,
              "#9c179e"
             ],
             [
              0.4444444444444444,
              "#bd3786"
             ],
             [
              0.5555555555555556,
              "#d8576b"
             ],
             [
              0.6666666666666666,
              "#ed7953"
             ],
             [
              0.7777777777777778,
              "#fb9f3a"
             ],
             [
              0.8888888888888888,
              "#fdca26"
             ],
             [
              1,
              "#f0f921"
             ]
            ],
            "type": "heatmapgl"
           }
          ],
          "histogram": [
           {
            "marker": {
             "pattern": {
              "fillmode": "overlay",
              "size": 10,
              "solidity": 0.2
             }
            },
            "type": "histogram"
           }
          ],
          "histogram2d": [
           {
            "colorbar": {
             "outlinewidth": 0,
             "ticks": ""
            },
            "colorscale": [
             [
              0,
              "#0d0887"
             ],
             [
              0.1111111111111111,
              "#46039f"
             ],
             [
              0.2222222222222222,
              "#7201a8"
             ],
             [
              0.3333333333333333,
              "#9c179e"
             ],
             [
              0.4444444444444444,
              "#bd3786"
             ],
             [
              0.5555555555555556,
              "#d8576b"
             ],
             [
              0.6666666666666666,
              "#ed7953"
             ],
             [
              0.7777777777777778,
              "#fb9f3a"
             ],
             [
              0.8888888888888888,
              "#fdca26"
             ],
             [
              1,
              "#f0f921"
             ]
            ],
            "type": "histogram2d"
           }
          ],
          "histogram2dcontour": [
           {
            "colorbar": {
             "outlinewidth": 0,
             "ticks": ""
            },
            "colorscale": [
             [
              0,
              "#0d0887"
             ],
             [
              0.1111111111111111,
              "#46039f"
             ],
             [
              0.2222222222222222,
              "#7201a8"
             ],
             [
              0.3333333333333333,
              "#9c179e"
             ],
             [
              0.4444444444444444,
              "#bd3786"
             ],
             [
              0.5555555555555556,
              "#d8576b"
             ],
             [
              0.6666666666666666,
              "#ed7953"
             ],
             [
              0.7777777777777778,
              "#fb9f3a"
             ],
             [
              0.8888888888888888,
              "#fdca26"
             ],
             [
              1,
              "#f0f921"
             ]
            ],
            "type": "histogram2dcontour"
           }
          ],
          "mesh3d": [
           {
            "colorbar": {
             "outlinewidth": 0,
             "ticks": ""
            },
            "type": "mesh3d"
           }
          ],
          "parcoords": [
           {
            "line": {
             "colorbar": {
              "outlinewidth": 0,
              "ticks": ""
             }
            },
            "type": "parcoords"
           }
          ],
          "pie": [
           {
            "automargin": true,
            "type": "pie"
           }
          ],
          "scatter": [
           {
            "fillpattern": {
             "fillmode": "overlay",
             "size": 10,
             "solidity": 0.2
            },
            "type": "scatter"
           }
          ],
          "scatter3d": [
           {
            "line": {
             "colorbar": {
              "outlinewidth": 0,
              "ticks": ""
             }
            },
            "marker": {
             "colorbar": {
              "outlinewidth": 0,
              "ticks": ""
             }
            },
            "type": "scatter3d"
           }
          ],
          "scattercarpet": [
           {
            "marker": {
             "colorbar": {
              "outlinewidth": 0,
              "ticks": ""
             }
            },
            "type": "scattercarpet"
           }
          ],
          "scattergeo": [
           {
            "marker": {
             "colorbar": {
              "outlinewidth": 0,
              "ticks": ""
             }
            },
            "type": "scattergeo"
           }
          ],
          "scattergl": [
           {
            "marker": {
             "colorbar": {
              "outlinewidth": 0,
              "ticks": ""
             }
            },
            "type": "scattergl"
           }
          ],
          "scattermapbox": [
           {
            "marker": {
             "colorbar": {
              "outlinewidth": 0,
              "ticks": ""
             }
            },
            "type": "scattermapbox"
           }
          ],
          "scatterpolar": [
           {
            "marker": {
             "colorbar": {
              "outlinewidth": 0,
              "ticks": ""
             }
            },
            "type": "scatterpolar"
           }
          ],
          "scatterpolargl": [
           {
            "marker": {
             "colorbar": {
              "outlinewidth": 0,
              "ticks": ""
             }
            },
            "type": "scatterpolargl"
           }
          ],
          "scatterternary": [
           {
            "marker": {
             "colorbar": {
              "outlinewidth": 0,
              "ticks": ""
             }
            },
            "type": "scatterternary"
           }
          ],
          "surface": [
           {
            "colorbar": {
             "outlinewidth": 0,
             "ticks": ""
            },
            "colorscale": [
             [
              0,
              "#0d0887"
             ],
             [
              0.1111111111111111,
              "#46039f"
             ],
             [
              0.2222222222222222,
              "#7201a8"
             ],
             [
              0.3333333333333333,
              "#9c179e"
             ],
             [
              0.4444444444444444,
              "#bd3786"
             ],
             [
              0.5555555555555556,
              "#d8576b"
             ],
             [
              0.6666666666666666,
              "#ed7953"
             ],
             [
              0.7777777777777778,
              "#fb9f3a"
             ],
             [
              0.8888888888888888,
              "#fdca26"
             ],
             [
              1,
              "#f0f921"
             ]
            ],
            "type": "surface"
           }
          ],
          "table": [
           {
            "cells": {
             "fill": {
              "color": "#EBF0F8"
             },
             "line": {
              "color": "white"
             }
            },
            "header": {
             "fill": {
              "color": "#C8D4E3"
             },
             "line": {
              "color": "white"
             }
            },
            "type": "table"
           }
          ]
         },
         "layout": {
          "annotationdefaults": {
           "arrowcolor": "#2a3f5f",
           "arrowhead": 0,
           "arrowwidth": 1
          },
          "autotypenumbers": "strict",
          "coloraxis": {
           "colorbar": {
            "outlinewidth": 0,
            "ticks": ""
           }
          },
          "colorscale": {
           "diverging": [
            [
             0,
             "#8e0152"
            ],
            [
             0.1,
             "#c51b7d"
            ],
            [
             0.2,
             "#de77ae"
            ],
            [
             0.3,
             "#f1b6da"
            ],
            [
             0.4,
             "#fde0ef"
            ],
            [
             0.5,
             "#f7f7f7"
            ],
            [
             0.6,
             "#e6f5d0"
            ],
            [
             0.7,
             "#b8e186"
            ],
            [
             0.8,
             "#7fbc41"
            ],
            [
             0.9,
             "#4d9221"
            ],
            [
             1,
             "#276419"
            ]
           ],
           "sequential": [
            [
             0,
             "#0d0887"
            ],
            [
             0.1111111111111111,
             "#46039f"
            ],
            [
             0.2222222222222222,
             "#7201a8"
            ],
            [
             0.3333333333333333,
             "#9c179e"
            ],
            [
             0.4444444444444444,
             "#bd3786"
            ],
            [
             0.5555555555555556,
             "#d8576b"
            ],
            [
             0.6666666666666666,
             "#ed7953"
            ],
            [
             0.7777777777777778,
             "#fb9f3a"
            ],
            [
             0.8888888888888888,
             "#fdca26"
            ],
            [
             1,
             "#f0f921"
            ]
           ],
           "sequentialminus": [
            [
             0,
             "#0d0887"
            ],
            [
             0.1111111111111111,
             "#46039f"
            ],
            [
             0.2222222222222222,
             "#7201a8"
            ],
            [
             0.3333333333333333,
             "#9c179e"
            ],
            [
             0.4444444444444444,
             "#bd3786"
            ],
            [
             0.5555555555555556,
             "#d8576b"
            ],
            [
             0.6666666666666666,
             "#ed7953"
            ],
            [
             0.7777777777777778,
             "#fb9f3a"
            ],
            [
             0.8888888888888888,
             "#fdca26"
            ],
            [
             1,
             "#f0f921"
            ]
           ]
          },
          "colorway": [
           "#636efa",
           "#EF553B",
           "#00cc96",
           "#ab63fa",
           "#FFA15A",
           "#19d3f3",
           "#FF6692",
           "#B6E880",
           "#FF97FF",
           "#FECB52"
          ],
          "font": {
           "color": "#2a3f5f"
          },
          "geo": {
           "bgcolor": "white",
           "lakecolor": "white",
           "landcolor": "#E5ECF6",
           "showlakes": true,
           "showland": true,
           "subunitcolor": "white"
          },
          "hoverlabel": {
           "align": "left"
          },
          "hovermode": "closest",
          "mapbox": {
           "style": "light"
          },
          "paper_bgcolor": "white",
          "plot_bgcolor": "#E5ECF6",
          "polar": {
           "angularaxis": {
            "gridcolor": "white",
            "linecolor": "white",
            "ticks": ""
           },
           "bgcolor": "#E5ECF6",
           "radialaxis": {
            "gridcolor": "white",
            "linecolor": "white",
            "ticks": ""
           }
          },
          "scene": {
           "xaxis": {
            "backgroundcolor": "#E5ECF6",
            "gridcolor": "white",
            "gridwidth": 2,
            "linecolor": "white",
            "showbackground": true,
            "ticks": "",
            "zerolinecolor": "white"
           },
           "yaxis": {
            "backgroundcolor": "#E5ECF6",
            "gridcolor": "white",
            "gridwidth": 2,
            "linecolor": "white",
            "showbackground": true,
            "ticks": "",
            "zerolinecolor": "white"
           },
           "zaxis": {
            "backgroundcolor": "#E5ECF6",
            "gridcolor": "white",
            "gridwidth": 2,
            "linecolor": "white",
            "showbackground": true,
            "ticks": "",
            "zerolinecolor": "white"
           }
          },
          "shapedefaults": {
           "line": {
            "color": "#2a3f5f"
           }
          },
          "ternary": {
           "aaxis": {
            "gridcolor": "white",
            "linecolor": "white",
            "ticks": ""
           },
           "baxis": {
            "gridcolor": "white",
            "linecolor": "white",
            "ticks": ""
           },
           "bgcolor": "#E5ECF6",
           "caxis": {
            "gridcolor": "white",
            "linecolor": "white",
            "ticks": ""
           }
          },
          "title": {
           "x": 0.05
          },
          "xaxis": {
           "automargin": true,
           "gridcolor": "white",
           "linecolor": "white",
           "ticks": "",
           "title": {
            "standoff": 15
           },
           "zerolinecolor": "white",
           "zerolinewidth": 2
          },
          "yaxis": {
           "automargin": true,
           "gridcolor": "white",
           "linecolor": "white",
           "ticks": "",
           "title": {
            "standoff": 15
           },
           "zerolinecolor": "white",
           "zerolinewidth": 2
          }
         }
        },
        "title": {
         "font": {
          "size": 24
         },
         "text": "Sentiment Distribution - Cleaned Text"
        },
        "width": 800,
        "xaxis": {
         "anchor": "y",
         "domain": [
          0,
          1
         ],
         "title": {
          "text": "Sentiment"
         }
        },
        "yaxis": {
         "anchor": "x",
         "domain": [
          0,
          1
         ],
         "title": {
          "text": "Count"
         }
        }
       }
      }
     },
     "metadata": {},
     "output_type": "display_data"
    }
   ],
   "source": [
    "Sentiment_Methods.plot_sentiment_analysis(modell_original19, modell_processed19)\n"
   ]
  },
  {
   "cell_type": "code",
   "execution_count": 32,
   "metadata": {},
   "outputs": [
    {
     "ename": "NameError",
     "evalue": "name 'modell_cleaned19' is not defined",
     "output_type": "error",
     "traceback": [
      "\u001b[1;31m---------------------------------------------------------------------------\u001b[0m",
      "\u001b[1;31mNameError\u001b[0m                                 Traceback (most recent call last)",
      "\u001b[1;32mc:\\Users\\paula\\OneDrive\\Uni\\2. Lernpools Master\\3. Semester\\Soziologie\\Politische-Debatten\\Data_Preprocessing.ipynb Cell 23\u001b[0m line \u001b[0;36m1\n\u001b[1;32m----> <a href='vscode-notebook-cell:/c%3A/Users/paula/OneDrive/Uni/2.%20Lernpools%20Master/3.%20Semester/Soziologie/Politische-Debatten/Data_Preprocessing.ipynb#X33sZmlsZQ%3D%3D?line=0'>1</a>\u001b[0m Sentiment_Methods\u001b[39m.\u001b[39mplot_sentiment_wordclouds (modell_cleaned19)\n\u001b[0;32m      <a href='vscode-notebook-cell:/c%3A/Users/paula/OneDrive/Uni/2.%20Lernpools%20Master/3.%20Semester/Soziologie/Politische-Debatten/Data_Preprocessing.ipynb#X33sZmlsZQ%3D%3D?line=1'>2</a>\u001b[0m Sentiment_Methods\u001b[39m.\u001b[39mplot_sentiment_wordclouds (modell_processed19)\n",
      "\u001b[1;31mNameError\u001b[0m: name 'modell_cleaned19' is not defined"
     ]
    }
   ],
   "source": [
    "Sentiment_Methods.plot_sentiment_wordclouds (modell_cleaned19)\n",
    "Sentiment_Methods.plot_sentiment_wordclouds (modell_processed19)"
   ]
  }
 ],
 "metadata": {
  "kernelspec": {
   "display_name": "soziologie",
   "language": "python",
   "name": "python3"
  },
  "language_info": {
   "codemirror_mode": {
    "name": "ipython",
    "version": 3
   },
   "file_extension": ".py",
   "mimetype": "text/x-python",
   "name": "python",
   "nbconvert_exporter": "python",
   "pygments_lexer": "ipython3",
   "version": "3.11.4"
  },
  "orig_nbformat": 4
 },
 "nbformat": 4,
 "nbformat_minor": 2
}
