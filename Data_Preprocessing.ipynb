{
 "cells": [
  {
   "attachments": {},
   "cell_type": "markdown",
   "metadata": {},
   "source": [
    "# **Seminar: Politische Debatten & Polarisierung im Bundestag**\n",
    "## Data Preprocessing Schritte\n",
    "\n",
    "In diesem Notebook werden vorbereitende Maßnahmen ergriffen, um Ressourcen für die eigentliche Fragestellung der Seminararbeit zu sparen. Das Ziel dieser Schritte ist es am Ende für die Reden aus der 19. und die Reden der 20. Wahlperiode auf Satzebene das jeweilige Sentiment zu erhalten. Für diese Analyse wird unter der Verwendung von Transformer-Modellen das german-sentiment-bert Modell genutzt.Für diese Maßnahmen werden verschiedene individuelle geschriebene Methoden verwendet, die sich im Modul \"Sentiment_Methods.py\" wiederfinden. \n",
    "\n",
    "Abschließend werden die Dataframes mit den Sentiment Daten separat gespeichert und dienen als Grundlage für spätere Analysen. "
   ]
  },
  {
   "attachments": {},
   "cell_type": "markdown",
   "metadata": {},
   "source": [
    "## 1. Vorbereitende Maßnahmen"
   ]
  },
  {
   "cell_type": "markdown",
   "metadata": {},
   "source": [
    "### 1.1 Packages installieren"
   ]
  },
  {
   "cell_type": "code",
   "execution_count": 1,
   "metadata": {},
   "outputs": [
    {
     "name": "stderr",
     "output_type": "stream",
     "text": [
      "[nltk_data] Downloading package punkt to\n",
      "[nltk_data]     /Users/paulahofmann/nltk_data...\n",
      "[nltk_data]   Package punkt is already up-to-date!\n",
      "[nltk_data] Downloading package wordnet to\n",
      "[nltk_data]     /Users/paulahofmann/nltk_data...\n",
      "[nltk_data]   Package wordnet is already up-to-date!\n",
      "[nltk_data] Downloading package punkt to\n",
      "[nltk_data]     /Users/paulahofmann/nltk_data...\n",
      "[nltk_data]   Package punkt is already up-to-date!\n",
      "\u001b[33mWARNING: Skipping /Users/paulahofmann/anaconda3/envs/env1/lib/python3.11/site-packages/numpy-1.25.2.dist-info due to invalid metadata entry 'name'\u001b[0m\u001b[33m\n",
      "\u001b[0m\u001b[33mWARNING: Skipping /Users/paulahofmann/anaconda3/envs/env1/lib/python3.11/site-packages/numpy-1.25.2.dist-info due to invalid metadata entry 'name'\u001b[0m\u001b[33m\n",
      "\u001b[0m"
     ]
    },
    {
     "name": "stdout",
     "output_type": "stream",
     "text": [
      "Collecting de-core-news-sm==3.5.0\n",
      "  Downloading https://github.com/explosion/spacy-models/releases/download/de_core_news_sm-3.5.0/de_core_news_sm-3.5.0-py3-none-any.whl (14.6 MB)\n",
      "\u001b[2K     \u001b[90m━━━━━━━━━━━━━━━━━━━━━━━━━━━━━━━━━━━━━━━━\u001b[0m \u001b[32m14.6/14.6 MB\u001b[0m \u001b[31m8.2 MB/s\u001b[0m eta \u001b[36m0:00:00\u001b[0m00:01\u001b[0m00:01\u001b[0m\n",
      "\u001b[?25hRequirement already satisfied: spacy<3.6.0,>=3.5.0 in /Users/paulahofmann/anaconda3/envs/env1/lib/python3.11/site-packages (from de-core-news-sm==3.5.0) (3.5.3)\n",
      "Requirement already satisfied: spacy-legacy<3.1.0,>=3.0.11 in /Users/paulahofmann/anaconda3/envs/env1/lib/python3.11/site-packages (from spacy<3.6.0,>=3.5.0->de-core-news-sm==3.5.0) (3.0.12)\n",
      "Requirement already satisfied: spacy-loggers<2.0.0,>=1.0.0 in /Users/paulahofmann/anaconda3/envs/env1/lib/python3.11/site-packages (from spacy<3.6.0,>=3.5.0->de-core-news-sm==3.5.0) (1.0.4)\n",
      "Requirement already satisfied: murmurhash<1.1.0,>=0.28.0 in /Users/paulahofmann/anaconda3/envs/env1/lib/python3.11/site-packages (from spacy<3.6.0,>=3.5.0->de-core-news-sm==3.5.0) (1.0.7)\n",
      "Requirement already satisfied: cymem<2.1.0,>=2.0.2 in /Users/paulahofmann/anaconda3/envs/env1/lib/python3.11/site-packages (from spacy<3.6.0,>=3.5.0->de-core-news-sm==3.5.0) (2.0.6)\n",
      "Requirement already satisfied: preshed<3.1.0,>=3.0.2 in /Users/paulahofmann/anaconda3/envs/env1/lib/python3.11/site-packages (from spacy<3.6.0,>=3.5.0->de-core-news-sm==3.5.0) (3.0.6)\n",
      "Requirement already satisfied: thinc<8.2.0,>=8.1.8 in /Users/paulahofmann/anaconda3/envs/env1/lib/python3.11/site-packages (from spacy<3.6.0,>=3.5.0->de-core-news-sm==3.5.0) (8.1.10)\n",
      "Requirement already satisfied: wasabi<1.2.0,>=0.9.1 in /Users/paulahofmann/anaconda3/envs/env1/lib/python3.11/site-packages (from spacy<3.6.0,>=3.5.0->de-core-news-sm==3.5.0) (0.9.1)\n",
      "Requirement already satisfied: srsly<3.0.0,>=2.4.3 in /Users/paulahofmann/anaconda3/envs/env1/lib/python3.11/site-packages (from spacy<3.6.0,>=3.5.0->de-core-news-sm==3.5.0) (2.4.6)\n",
      "Requirement already satisfied: catalogue<2.1.0,>=2.0.6 in /Users/paulahofmann/anaconda3/envs/env1/lib/python3.11/site-packages (from spacy<3.6.0,>=3.5.0->de-core-news-sm==3.5.0) (2.0.7)\n",
      "Requirement already satisfied: typer<0.8.0,>=0.3.0 in /Users/paulahofmann/anaconda3/envs/env1/lib/python3.11/site-packages (from spacy<3.6.0,>=3.5.0->de-core-news-sm==3.5.0) (0.4.1)\n",
      "Requirement already satisfied: pathy>=0.10.0 in /Users/paulahofmann/anaconda3/envs/env1/lib/python3.11/site-packages (from spacy<3.6.0,>=3.5.0->de-core-news-sm==3.5.0) (0.10.1)\n",
      "Requirement already satisfied: smart-open<7.0.0,>=5.2.1 in /Users/paulahofmann/anaconda3/envs/env1/lib/python3.11/site-packages (from spacy<3.6.0,>=3.5.0->de-core-news-sm==3.5.0) (5.2.1)\n",
      "Requirement already satisfied: tqdm<5.0.0,>=4.38.0 in /Users/paulahofmann/anaconda3/envs/env1/lib/python3.11/site-packages (from spacy<3.6.0,>=3.5.0->de-core-news-sm==3.5.0) (4.65.0)\n",
      "Requirement already satisfied: numpy>=1.15.0 in /Users/paulahofmann/anaconda3/envs/env1/lib/python3.11/site-packages (from spacy<3.6.0,>=3.5.0->de-core-news-sm==3.5.0) (1.23.5)\n",
      "Requirement already satisfied: requests<3.0.0,>=2.13.0 in /Users/paulahofmann/anaconda3/envs/env1/lib/python3.11/site-packages (from spacy<3.6.0,>=3.5.0->de-core-news-sm==3.5.0) (2.31.0)\n",
      "Requirement already satisfied: pydantic!=1.8,!=1.8.1,<1.11.0,>=1.7.4 in /Users/paulahofmann/anaconda3/envs/env1/lib/python3.11/site-packages (from spacy<3.6.0,>=3.5.0->de-core-news-sm==3.5.0) (1.10.8)\n",
      "Requirement already satisfied: jinja2 in /Users/paulahofmann/anaconda3/envs/env1/lib/python3.11/site-packages (from spacy<3.6.0,>=3.5.0->de-core-news-sm==3.5.0) (3.1.2)\n",
      "Requirement already satisfied: setuptools in /Users/paulahofmann/anaconda3/envs/env1/lib/python3.11/site-packages (from spacy<3.6.0,>=3.5.0->de-core-news-sm==3.5.0) (68.0.0)\n",
      "Requirement already satisfied: packaging>=20.0 in /Users/paulahofmann/anaconda3/envs/env1/lib/python3.11/site-packages (from spacy<3.6.0,>=3.5.0->de-core-news-sm==3.5.0) (23.0)\n",
      "Requirement already satisfied: langcodes<4.0.0,>=3.2.0 in /Users/paulahofmann/anaconda3/envs/env1/lib/python3.11/site-packages (from spacy<3.6.0,>=3.5.0->de-core-news-sm==3.5.0) (3.3.0)\n",
      "Requirement already satisfied: typing-extensions>=4.2.0 in /Users/paulahofmann/anaconda3/envs/env1/lib/python3.11/site-packages (from pydantic!=1.8,!=1.8.1,<1.11.0,>=1.7.4->spacy<3.6.0,>=3.5.0->de-core-news-sm==3.5.0) (4.5.0)\n",
      "Requirement already satisfied: charset-normalizer<4,>=2 in /Users/paulahofmann/anaconda3/envs/env1/lib/python3.11/site-packages (from requests<3.0.0,>=2.13.0->spacy<3.6.0,>=3.5.0->de-core-news-sm==3.5.0) (2.0.4)\n",
      "Requirement already satisfied: idna<4,>=2.5 in /Users/paulahofmann/anaconda3/envs/env1/lib/python3.11/site-packages (from requests<3.0.0,>=2.13.0->spacy<3.6.0,>=3.5.0->de-core-news-sm==3.5.0) (3.4)\n",
      "Requirement already satisfied: urllib3<3,>=1.21.1 in /Users/paulahofmann/anaconda3/envs/env1/lib/python3.11/site-packages (from requests<3.0.0,>=2.13.0->spacy<3.6.0,>=3.5.0->de-core-news-sm==3.5.0) (1.26.16)\n",
      "Requirement already satisfied: certifi>=2017.4.17 in /Users/paulahofmann/anaconda3/envs/env1/lib/python3.11/site-packages (from requests<3.0.0,>=2.13.0->spacy<3.6.0,>=3.5.0->de-core-news-sm==3.5.0) (2023.7.22)\n",
      "Requirement already satisfied: blis<0.8.0,>=0.7.8 in /Users/paulahofmann/anaconda3/envs/env1/lib/python3.11/site-packages (from thinc<8.2.0,>=8.1.8->spacy<3.6.0,>=3.5.0->de-core-news-sm==3.5.0) (0.7.9)\n",
      "Requirement already satisfied: confection<1.0.0,>=0.0.1 in /Users/paulahofmann/anaconda3/envs/env1/lib/python3.11/site-packages (from thinc<8.2.0,>=8.1.8->spacy<3.6.0,>=3.5.0->de-core-news-sm==3.5.0) (0.0.4)\n",
      "Requirement already satisfied: click<9.0.0,>=7.1.1 in /Users/paulahofmann/anaconda3/envs/env1/lib/python3.11/site-packages (from typer<0.8.0,>=0.3.0->spacy<3.6.0,>=3.5.0->de-core-news-sm==3.5.0) (8.0.4)\n",
      "Requirement already satisfied: MarkupSafe>=2.0 in /Users/paulahofmann/anaconda3/envs/env1/lib/python3.11/site-packages (from jinja2->spacy<3.6.0,>=3.5.0->de-core-news-sm==3.5.0) (2.1.1)\n"
     ]
    },
    {
     "name": "stderr",
     "output_type": "stream",
     "text": [
      "\u001b[33mWARNING: Skipping /Users/paulahofmann/anaconda3/envs/env1/lib/python3.11/site-packages/numpy-1.25.2.dist-info due to invalid metadata entry 'name'\u001b[0m\u001b[33m\n",
      "\u001b[0m\u001b[33mWARNING: Skipping /Users/paulahofmann/anaconda3/envs/env1/lib/python3.11/site-packages/numpy-1.25.2.dist-info due to invalid metadata entry 'name'\u001b[0m\u001b[33m\n",
      "\u001b[0m\u001b[33mWARNING: Skipping /Users/paulahofmann/anaconda3/envs/env1/lib/python3.11/site-packages/numpy-1.25.2.dist-info due to invalid metadata entry 'name'\u001b[0m\u001b[33m\n",
      "\u001b[0m\u001b[33mWARNING: Skipping /Users/paulahofmann/anaconda3/envs/env1/lib/python3.11/site-packages/numpy-1.25.2.dist-info due to invalid metadata entry 'name'\u001b[0m\u001b[33m\n",
      "\u001b[0m"
     ]
    },
    {
     "name": "stdout",
     "output_type": "stream",
     "text": [
      "\u001b[38;5;2m✔ Download and installation successful\u001b[0m\n",
      "You can now load the package via spacy.load('de_core_news_sm')\n"
     ]
    }
   ],
   "source": [
    "# Import Basic Packages\n",
    "import numpy as np                 # Numpy\n",
    "import pandas as pd                 # Zur Arbeit mit dataframes\n",
    "\n",
    "# Import Visualization Packages\n",
    "from collections import Counter     # Um worte zu zählen\n",
    "import matplotlib.pyplot as plt   # Für Visualisierung\n",
    "from wordcloud import WordCloud, STOPWORDS, ImageColorGenerator #Wordcloud erstellen\n",
    "\n",
    "# Import NLP-Packages\n",
    "import nltk\n",
    "from nltk.tokenize import word_tokenize\n",
    "from nltk.corpus import wordnet\n",
    "\n",
    "pd.options.mode.chained_assignment = None\n",
    "import spacy \n",
    "\n",
    "# Import Methods from the GitHub \n",
    "import Sentiment_Methods"
   ]
  },
  {
   "attachments": {},
   "cell_type": "markdown",
   "metadata": {},
   "source": [
    "### 1.2 Datensatz einlesen\n",
    "\n",
    "In diesem Abschnitten werden die JSON-Dateien mit den Reden aus der 19. und 20. Wahlperiode eingelesen. "
   ]
  },
  {
   "cell_type": "code",
   "execution_count": 18,
   "metadata": {},
   "outputs": [
    {
     "data": {
      "text/html": [
       "<div>\n",
       "<style scoped>\n",
       "    .dataframe tbody tr th:only-of-type {\n",
       "        vertical-align: middle;\n",
       "    }\n",
       "\n",
       "    .dataframe tbody tr th {\n",
       "        vertical-align: top;\n",
       "    }\n",
       "\n",
       "    .dataframe thead th {\n",
       "        text-align: right;\n",
       "    }\n",
       "</style>\n",
       "<table border=\"1\" class=\"dataframe\">\n",
       "  <thead>\n",
       "    <tr style=\"text-align: right;\">\n",
       "      <th></th>\n",
       "      <th>text</th>\n",
       "      <th>id</th>\n",
       "      <th>period</th>\n",
       "      <th>date</th>\n",
       "      <th>name</th>\n",
       "      <th>party</th>\n",
       "      <th>redner_id</th>\n",
       "      <th>discussion_title</th>\n",
       "    </tr>\n",
       "  </thead>\n",
       "  <tbody>\n",
       "    <tr>\n",
       "      <th>1855</th>\n",
       "      <td>Herr Präsident! Liebe Kolleginnen und Kollegen...</td>\n",
       "      <td>ID19100500</td>\n",
       "      <td>19</td>\n",
       "      <td>2017-10-24</td>\n",
       "      <td>Jan Korte</td>\n",
       "      <td>DIE LINKE</td>\n",
       "      <td>11003790</td>\n",
       "      <td>Tagesordnungspunkt 2 2017-10-24</td>\n",
       "    </tr>\n",
       "    <tr>\n",
       "      <th>1851</th>\n",
       "      <td>Guten Morgen, liebe Kolleginnen und Kollegen! ...</td>\n",
       "      <td>ID19100100</td>\n",
       "      <td>19</td>\n",
       "      <td>2017-10-24</td>\n",
       "      <td>Hermann Otto Solms</td>\n",
       "      <td>FDP</td>\n",
       "      <td>11002190</td>\n",
       "      <td>Tagesordnungspunkt 1 2017-10-24</td>\n",
       "    </tr>\n",
       "    <tr>\n",
       "      <th>1852</th>\n",
       "      <td></td>\n",
       "      <td>ID19100200</td>\n",
       "      <td>19</td>\n",
       "      <td>2017-10-24</td>\n",
       "      <td>Hermann Otto Solms</td>\n",
       "      <td>FDP</td>\n",
       "      <td>11002190</td>\n",
       "      <td>Tagesordnungspunkt 1 2017-10-24</td>\n",
       "    </tr>\n",
       "    <tr>\n",
       "      <th>1854</th>\n",
       "      <td>Herr Präsident! Meine Damen und Herren! Immer ...</td>\n",
       "      <td>ID19100400</td>\n",
       "      <td>19</td>\n",
       "      <td>2017-10-24</td>\n",
       "      <td>Bernd Baumann</td>\n",
       "      <td>AfD</td>\n",
       "      <td>11004662</td>\n",
       "      <td>Tagesordnungspunkt 2 2017-10-24</td>\n",
       "    </tr>\n",
       "    <tr>\n",
       "      <th>1856</th>\n",
       "      <td>Herr Präsident! Sehr verehrte Gäste! Meine lie...</td>\n",
       "      <td>ID19100600</td>\n",
       "      <td>19</td>\n",
       "      <td>2017-10-24</td>\n",
       "      <td>Michael Grosse-Brömer</td>\n",
       "      <td>CDU/CSU</td>\n",
       "      <td>11003541</td>\n",
       "      <td>Tagesordnungspunkt 2 2017-10-24</td>\n",
       "    </tr>\n",
       "    <tr>\n",
       "      <th>...</th>\n",
       "      <td>...</td>\n",
       "      <td>...</td>\n",
       "      <td>...</td>\n",
       "      <td>...</td>\n",
       "      <td>...</td>\n",
       "      <td>...</td>\n",
       "      <td>...</td>\n",
       "      <td>...</td>\n",
       "    </tr>\n",
       "    <tr>\n",
       "      <th>4593</th>\n",
       "      <td>Frau Präsidentin! Meine Damen und Herren! Die ...</td>\n",
       "      <td>ID1923901800</td>\n",
       "      <td>19</td>\n",
       "      <td>2021-09-07</td>\n",
       "      <td>Rüdiger Lucassen</td>\n",
       "      <td>AfD</td>\n",
       "      <td>11004807</td>\n",
       "      <td>Tagesordnungspunkt 2 2021-09-07</td>\n",
       "    </tr>\n",
       "    <tr>\n",
       "      <th>4594</th>\n",
       "      <td>Frau Präsidentin! Liebe Kolleginnen und Kolleg...</td>\n",
       "      <td>ID1923901900</td>\n",
       "      <td>19</td>\n",
       "      <td>2021-09-07</td>\n",
       "      <td>Andreas Jung</td>\n",
       "      <td>CDU/CSU</td>\n",
       "      <td>11003780</td>\n",
       "      <td>Tagesordnungspunkt 2 2021-09-07</td>\n",
       "    </tr>\n",
       "    <tr>\n",
       "      <th>4595</th>\n",
       "      <td>Frau Präsidentin! Liebe Kolleginnen und Kolleg...</td>\n",
       "      <td>ID1923902000</td>\n",
       "      <td>19</td>\n",
       "      <td>2021-09-07</td>\n",
       "      <td>Wolfgang Kubicki</td>\n",
       "      <td>FDP</td>\n",
       "      <td>11001235</td>\n",
       "      <td>Tagesordnungspunkt 2 2021-09-07</td>\n",
       "    </tr>\n",
       "    <tr>\n",
       "      <th>4579</th>\n",
       "      <td>Herr Präsident! Liebe Kolleginnen und Kollegen...</td>\n",
       "      <td>ID1923900400</td>\n",
       "      <td>19</td>\n",
       "      <td>2021-09-07</td>\n",
       "      <td>Christian Lindner</td>\n",
       "      <td>FDP</td>\n",
       "      <td>11004097</td>\n",
       "      <td>Tagesordnungspunkt 1 2021-09-07</td>\n",
       "    </tr>\n",
       "    <tr>\n",
       "      <th>4578</th>\n",
       "      <td>Herr Präsident! Meine sehr verehrten Damen und...</td>\n",
       "      <td>ID1923900300</td>\n",
       "      <td>19</td>\n",
       "      <td>2021-09-07</td>\n",
       "      <td>Olaf Scholz</td>\n",
       "      <td>unknown</td>\n",
       "      <td>11003231</td>\n",
       "      <td>Tagesordnungspunkt 1 2021-09-07</td>\n",
       "    </tr>\n",
       "  </tbody>\n",
       "</table>\n",
       "<p>25187 rows × 8 columns</p>\n",
       "</div>"
      ],
      "text/plain": [
       "                                                   text            id  period  \\\n",
       "1855  Herr Präsident! Liebe Kolleginnen und Kollegen...    ID19100500      19   \n",
       "1851  Guten Morgen, liebe Kolleginnen und Kollegen! ...    ID19100100      19   \n",
       "1852                                                       ID19100200      19   \n",
       "1854  Herr Präsident! Meine Damen und Herren! Immer ...    ID19100400      19   \n",
       "1856  Herr Präsident! Sehr verehrte Gäste! Meine lie...    ID19100600      19   \n",
       "...                                                 ...           ...     ...   \n",
       "4593  Frau Präsidentin! Meine Damen und Herren! Die ...  ID1923901800      19   \n",
       "4594  Frau Präsidentin! Liebe Kolleginnen und Kolleg...  ID1923901900      19   \n",
       "4595  Frau Präsidentin! Liebe Kolleginnen und Kolleg...  ID1923902000      19   \n",
       "4579  Herr Präsident! Liebe Kolleginnen und Kollegen...  ID1923900400      19   \n",
       "4578  Herr Präsident! Meine sehr verehrten Damen und...  ID1923900300      19   \n",
       "\n",
       "           date                   name      party redner_id  \\\n",
       "1855 2017-10-24              Jan Korte  DIE LINKE  11003790   \n",
       "1851 2017-10-24     Hermann Otto Solms        FDP  11002190   \n",
       "1852 2017-10-24     Hermann Otto Solms        FDP  11002190   \n",
       "1854 2017-10-24          Bernd Baumann        AfD  11004662   \n",
       "1856 2017-10-24  Michael Grosse-Brömer    CDU/CSU  11003541   \n",
       "...         ...                    ...        ...       ...   \n",
       "4593 2021-09-07       Rüdiger Lucassen        AfD  11004807   \n",
       "4594 2021-09-07           Andreas Jung    CDU/CSU  11003780   \n",
       "4595 2021-09-07       Wolfgang Kubicki        FDP  11001235   \n",
       "4579 2021-09-07      Christian Lindner        FDP  11004097   \n",
       "4578 2021-09-07            Olaf Scholz    unknown  11003231   \n",
       "\n",
       "                     discussion_title  \n",
       "1855  Tagesordnungspunkt 2 2017-10-24  \n",
       "1851  Tagesordnungspunkt 1 2017-10-24  \n",
       "1852  Tagesordnungspunkt 1 2017-10-24  \n",
       "1854  Tagesordnungspunkt 2 2017-10-24  \n",
       "1856  Tagesordnungspunkt 2 2017-10-24  \n",
       "...                               ...  \n",
       "4593  Tagesordnungspunkt 2 2021-09-07  \n",
       "4594  Tagesordnungspunkt 2 2021-09-07  \n",
       "4595  Tagesordnungspunkt 2 2021-09-07  \n",
       "4579  Tagesordnungspunkt 1 2021-09-07  \n",
       "4578  Tagesordnungspunkt 1 2021-09-07  \n",
       "\n",
       "[25187 rows x 8 columns]"
      ]
     },
     "execution_count": 18,
     "metadata": {},
     "output_type": "execute_result"
    }
   ],
   "source": [
    "# Einlesen der JSON-Datei \"speeches_19.jsonl\" \n",
    "# Legislaturperiode 2019 (24.10.2017-26.09.21)\n",
    "df19 = pd.read_json(\"/Users/paulahofmann/Library/CloudStorage/OneDrive-Persönlich/Uni/2. Lernpools Master/3. Semester/Soziologie/Data_Speeches/speeches_19.jsonl\", lines=True)\n",
    "df19['date'] = pd.to_datetime(df19['date'])\n",
    "df19.sort_values(by='date')"
   ]
  },
  {
   "cell_type": "code",
   "execution_count": 19,
   "metadata": {},
   "outputs": [
    {
     "data": {
      "text/html": [
       "<div>\n",
       "<style scoped>\n",
       "    .dataframe tbody tr th:only-of-type {\n",
       "        vertical-align: middle;\n",
       "    }\n",
       "\n",
       "    .dataframe tbody tr th {\n",
       "        vertical-align: top;\n",
       "    }\n",
       "\n",
       "    .dataframe thead th {\n",
       "        text-align: right;\n",
       "    }\n",
       "</style>\n",
       "<table border=\"1\" class=\"dataframe\">\n",
       "  <thead>\n",
       "    <tr style=\"text-align: right;\">\n",
       "      <th></th>\n",
       "      <th>text</th>\n",
       "      <th>id</th>\n",
       "      <th>period</th>\n",
       "      <th>date</th>\n",
       "      <th>name</th>\n",
       "      <th>party</th>\n",
       "      <th>redner_id</th>\n",
       "      <th>discussion_title</th>\n",
       "    </tr>\n",
       "  </thead>\n",
       "  <tbody>\n",
       "    <tr>\n",
       "      <th>8620</th>\n",
       "      <td>Frau Präsidentin, ich nehme die Wahl an und fr...</td>\n",
       "      <td>ID20101400</td>\n",
       "      <td>18</td>\n",
       "      <td>2021-10-26</td>\n",
       "      <td>Petra Pau</td>\n",
       "      <td>DIE LINKE</td>\n",
       "      <td>11003206</td>\n",
       "      <td>Tagesordnungspunkt 6 2021-10-26</td>\n",
       "    </tr>\n",
       "    <tr>\n",
       "      <th>8607</th>\n",
       "      <td>Sehr geehrter Herr Alterspräsident! So muss ic...</td>\n",
       "      <td>ID20100100</td>\n",
       "      <td>18</td>\n",
       "      <td>2021-10-26</td>\n",
       "      <td>Gabriele Katzmarek</td>\n",
       "      <td>SPD</td>\n",
       "      <td>11004325</td>\n",
       "      <td>Tagesordnungspunkt 2 2021-10-26</td>\n",
       "    </tr>\n",
       "    <tr>\n",
       "      <th>8608</th>\n",
       "      <td>Herr Präsident! Liebe Kolleginnen und Kollegen...</td>\n",
       "      <td>ID20100200</td>\n",
       "      <td>18</td>\n",
       "      <td>2021-10-26</td>\n",
       "      <td>Stefan Müller</td>\n",
       "      <td>CDU/CSU</td>\n",
       "      <td>11003597</td>\n",
       "      <td>Tagesordnungspunkt 2 2021-10-26</td>\n",
       "    </tr>\n",
       "    <tr>\n",
       "      <th>8609</th>\n",
       "      <td>Sehr geehrter Herr Alterspräsident Wolfgang Sc...</td>\n",
       "      <td>ID20100300</td>\n",
       "      <td>18</td>\n",
       "      <td>2021-10-26</td>\n",
       "      <td>Britta Haßelmann</td>\n",
       "      <td>BÜNDNIS 90/DIE GRÜNEN</td>\n",
       "      <td>11003764</td>\n",
       "      <td>Tagesordnungspunkt 2 2021-10-26</td>\n",
       "    </tr>\n",
       "    <tr>\n",
       "      <th>8610</th>\n",
       "      <td>Sehr geehrter Herr Präsident! Meine lieben Kol...</td>\n",
       "      <td>ID20100400</td>\n",
       "      <td>18</td>\n",
       "      <td>2021-10-26</td>\n",
       "      <td>Marco Buschmann</td>\n",
       "      <td>FDP</td>\n",
       "      <td>11004023</td>\n",
       "      <td>Tagesordnungspunkt 2 2021-10-26</td>\n",
       "    </tr>\n",
       "    <tr>\n",
       "      <th>...</th>\n",
       "      <td>...</td>\n",
       "      <td>...</td>\n",
       "      <td>...</td>\n",
       "      <td>...</td>\n",
       "      <td>...</td>\n",
       "      <td>...</td>\n",
       "      <td>...</td>\n",
       "      <td>...</td>\n",
       "    </tr>\n",
       "    <tr>\n",
       "      <th>9145</th>\n",
       "      <td>Vielen Dank. – Frau Präsidentin! Meine sehr ve...</td>\n",
       "      <td>ID209804700</td>\n",
       "      <td>18</td>\n",
       "      <td>2023-04-21</td>\n",
       "      <td>Caren Lay</td>\n",
       "      <td>DIE LINKE</td>\n",
       "      <td>11004088</td>\n",
       "      <td>Tagesordnungspunkt 24 2023-04-21</td>\n",
       "    </tr>\n",
       "    <tr>\n",
       "      <th>9146</th>\n",
       "      <td>Sehr geehrte Frau Präsidentin! Werte Kolleginn...</td>\n",
       "      <td>ID209804800</td>\n",
       "      <td>18</td>\n",
       "      <td>2023-04-21</td>\n",
       "      <td>Daniel Föst</td>\n",
       "      <td>FDP</td>\n",
       "      <td>11004716</td>\n",
       "      <td>Tagesordnungspunkt 24 2023-04-21</td>\n",
       "    </tr>\n",
       "    <tr>\n",
       "      <th>9147</th>\n",
       "      <td>Sehr geehrte Frau Präsidentin! Liebe Kolleginn...</td>\n",
       "      <td>ID209804900</td>\n",
       "      <td>18</td>\n",
       "      <td>2023-04-21</td>\n",
       "      <td>Petra Nicolaisen</td>\n",
       "      <td>CDU/CSU</td>\n",
       "      <td>11004841</td>\n",
       "      <td>Tagesordnungspunkt 24 2023-04-21</td>\n",
       "    </tr>\n",
       "    <tr>\n",
       "      <th>9138</th>\n",
       "      <td>Frau Präsidentin! Herr Staatssekretär! Meine l...</td>\n",
       "      <td>ID209804000</td>\n",
       "      <td>18</td>\n",
       "      <td>2023-04-21</td>\n",
       "      <td>Mechthilde Wittmann</td>\n",
       "      <td>CDU/CSU</td>\n",
       "      <td>11005261</td>\n",
       "      <td>Tagesordnungspunkt 13 2023-04-21</td>\n",
       "    </tr>\n",
       "    <tr>\n",
       "      <th>9164</th>\n",
       "      <td>Frau Präsidentin! Meine Damen und Herren! Die ...</td>\n",
       "      <td>ID209806600</td>\n",
       "      <td>18</td>\n",
       "      <td>2023-04-21</td>\n",
       "      <td>Sascha Müller</td>\n",
       "      <td>BÜNDNIS 90/DIE GRÜNEN</td>\n",
       "      <td>11005162</td>\n",
       "      <td>Tagesordnungspunkt 22 2023-04-21</td>\n",
       "    </tr>\n",
       "  </tbody>\n",
       "</table>\n",
       "<p>10791 rows × 8 columns</p>\n",
       "</div>"
      ],
      "text/plain": [
       "                                                   text           id  period  \\\n",
       "8620  Frau Präsidentin, ich nehme die Wahl an und fr...   ID20101400      18   \n",
       "8607  Sehr geehrter Herr Alterspräsident! So muss ic...   ID20100100      18   \n",
       "8608  Herr Präsident! Liebe Kolleginnen und Kollegen...   ID20100200      18   \n",
       "8609  Sehr geehrter Herr Alterspräsident Wolfgang Sc...   ID20100300      18   \n",
       "8610  Sehr geehrter Herr Präsident! Meine lieben Kol...   ID20100400      18   \n",
       "...                                                 ...          ...     ...   \n",
       "9145  Vielen Dank. – Frau Präsidentin! Meine sehr ve...  ID209804700      18   \n",
       "9146  Sehr geehrte Frau Präsidentin! Werte Kolleginn...  ID209804800      18   \n",
       "9147  Sehr geehrte Frau Präsidentin! Liebe Kolleginn...  ID209804900      18   \n",
       "9138  Frau Präsidentin! Herr Staatssekretär! Meine l...  ID209804000      18   \n",
       "9164  Frau Präsidentin! Meine Damen und Herren! Die ...  ID209806600      18   \n",
       "\n",
       "           date                 name                  party  redner_id  \\\n",
       "8620 2021-10-26            Petra Pau              DIE LINKE   11003206   \n",
       "8607 2021-10-26   Gabriele Katzmarek                    SPD   11004325   \n",
       "8608 2021-10-26        Stefan Müller                CDU/CSU   11003597   \n",
       "8609 2021-10-26     Britta Haßelmann  BÜNDNIS 90/DIE GRÜNEN   11003764   \n",
       "8610 2021-10-26      Marco Buschmann                    FDP   11004023   \n",
       "...         ...                  ...                    ...        ...   \n",
       "9145 2023-04-21            Caren Lay              DIE LINKE   11004088   \n",
       "9146 2023-04-21          Daniel Föst                    FDP   11004716   \n",
       "9147 2023-04-21     Petra Nicolaisen                CDU/CSU   11004841   \n",
       "9138 2023-04-21  Mechthilde Wittmann                CDU/CSU   11005261   \n",
       "9164 2023-04-21        Sascha Müller  BÜNDNIS 90/DIE GRÜNEN   11005162   \n",
       "\n",
       "                      discussion_title  \n",
       "8620   Tagesordnungspunkt 6 2021-10-26  \n",
       "8607   Tagesordnungspunkt 2 2021-10-26  \n",
       "8608   Tagesordnungspunkt 2 2021-10-26  \n",
       "8609   Tagesordnungspunkt 2 2021-10-26  \n",
       "8610   Tagesordnungspunkt 2 2021-10-26  \n",
       "...                                ...  \n",
       "9145  Tagesordnungspunkt 24 2023-04-21  \n",
       "9146  Tagesordnungspunkt 24 2023-04-21  \n",
       "9147  Tagesordnungspunkt 24 2023-04-21  \n",
       "9138  Tagesordnungspunkt 13 2023-04-21  \n",
       "9164  Tagesordnungspunkt 22 2023-04-21  \n",
       "\n",
       "[10791 rows x 8 columns]"
      ]
     },
     "execution_count": 19,
     "metadata": {},
     "output_type": "execute_result"
    }
   ],
   "source": [
    "# Einlesen der JSON-Datei \"speeches_20.jsonl\"\n",
    "# Legislaturperiode 2020 (24.10.2017-26.09.21)\n",
    "df20 = pd.read_json(\"/Users/paulahofmann/Library/CloudStorage/OneDrive-Persönlich/Uni/2. Lernpools Master/3. Semester/Soziologie/Data_Speeches/speeches_20.jsonl\", lines=True)\n",
    "df20['date'] = pd.to_datetime(df20['date'])\n",
    "df20.sort_values(by='date')"
   ]
  },
  {
   "cell_type": "markdown",
   "metadata": {},
   "source": [
    "### 1.3 Datensätze bearbeiten\n",
    "In diesem Schritt werden die eingelesenen Reden mithilfe von Schlüsselwörtern und einem zeitlichen Filter auf relevante Inhalte beschränkt, da uns nur die Reden interessieren, die sich im Kontext von Corona bewegen. \n",
    "\n",
    "Zunächst werden die Schlüsselwörter definiert, wobei hier 'Covid-19' & Synonyme als Hauptschlüsselwort verwendet werden. Anschließend werden die politischen Reden in einem DataFrame gefiltert. \n"
   ]
  },
  {
   "cell_type": "code",
   "execution_count": 20,
   "metadata": {},
   "outputs": [],
   "source": [
    "# Filtern df19 nach Datum\n",
    "# Startpunkt Auftreten des 1. Falls in DE\n",
    "\n",
    "start_date = pd.to_datetime('2020-01-27')\n",
    "df19_filtered = df19[df19['date'] >= start_date]"
   ]
  },
  {
   "cell_type": "code",
   "execution_count": 22,
   "metadata": {},
   "outputs": [
    {
     "name": "stdout",
     "output_type": "stream",
     "text": [
      "Anzahl der Reden in der 19. Wahlperiode mit dem Stichwort oder Synonym 'Covid-19': 203\n",
      "Anzahl der Reden in der 19. Wahlperiode mit dem Stichwort oder Synonym 'Covid-19': 43\n"
     ]
    }
   ],
   "source": [
    "# Festlegung der Keywords nach den gesucht werden soll.\n",
    "# Unter Verwendung des Moduls Sentiment_Methods wird dabei innerhalb der Reden nach Keywords und Synonymen gesucht\n",
    "keywords = ['Covid-19']\n",
    "\n",
    "# Aufruf der Methode, um die Reden aus der 19. Periode zu erhalten, die entsprechende Keywords haben.\n",
    "df19_Covid = Sentiment_Methods.filter_dataframe_by_keywords_with_synonyms(df19_filtered, keywords)\n",
    "print(f\"Anzahl der Reden in der 19. Wahlperiode mit dem Stichwort oder Synonym 'Covid-19': {len(df19_Covid)}\")\n",
    "\n",
    "# Aufruf der Methode, um die Reden aus der 20. Periode zu erhalten, die entsprechende Keywords haben.\n",
    "df20_Covid = Sentiment_Methods.filter_dataframe_by_keywords_with_synonyms(df20, keywords)\n",
    "print(f\"Anzahl der Reden in der 19. Wahlperiode mit dem Stichwort oder Synonym 'Covid-19': {len(df20_Covid)}\")\n"
   ]
  },
  {
   "cell_type": "code",
   "execution_count": 24,
   "metadata": {},
   "outputs": [
    {
     "name": "stdout",
     "output_type": "stream",
     "text": [
      "                                                    text           id  period  \\\n",
      "216    Sehr geehrte Frau Präsidentin! Sehr geehrte Ko...  ID203110500      18   \n",
      "223    Vielen Dank. – Frau Präsidentin! Die einrichtu...  ID203111200      18   \n",
      "224    Sehr geehrte Frau Präsidentin! Werte Kolleginn...  ID203111300      18   \n",
      "226    Sehr geehrte Frau Präsidentin! Sehr geehrte Ko...  ID203111500      18   \n",
      "366    Frau Präsidentin! Meine Damen und Herren! Von ...  ID207910600      18   \n",
      "849    Vielen Dank, Herr Präsident. – Liebe Kolleginn...  ID204610600      18   \n",
      "1032   Frau Präsidentin! Liebe Kolleginnen und Kolleg...  ID207317600      18   \n",
      "1493   Sehr geehrte Frau Präsidentin! Meine Damen und...   ID20401000      18   \n",
      "2319   Frau Präsidentin! Liebe Kolleginnen und Kolleg...  ID201307500      18   \n",
      "2325   Sehr geehrte Frau Präsidentin! Liebe Kolleginn...  ID201308100      18   \n",
      "2335   Sehr geehrte Frau Präsidentin! Als ungeimpfter...  ID201309100      18   \n",
      "2336   Sehr geehrte Frau Präsidentin! Meine Damen und...  ID201309200      18   \n",
      "2340   Frau Präsidentin! Meine Damen und Herren! Herr...  ID201309600      18   \n",
      "2693   Sehr geehrte Frau Präsidentin! Meine sehr geeh...  ID206907900      18   \n",
      "2937   Sehr geehrte Frau Präsidentin! Sehr geehrte Da...  ID202100300      18   \n",
      "2939   Sehr verehrte Frau Präsidentin! Meine Damen un...  ID202100500      18   \n",
      "2949   Vielen Dank. – Frau Präsidentin! Sehr verehrte...  ID202101500      18   \n",
      "3984   Sehr geehrte Frau Präsidentin! Sehr geehrte Da...  ID201407500      18   \n",
      "4013   Sehr geehrte Frau Präsidentin! Sehr geehrte Ko...  ID202801900      18   \n",
      "4122   Sehr geehrte Frau Präsidentin! Verehrte Kolleg...  ID202812800      18   \n",
      "4261   Sehr geehrter Herr Präsident! Liebe Kolleginne...  ID203711200      18   \n",
      "4629   Frau Präsidentin! Sehr geehrte Kolleginnen und...  ID204006900      18   \n",
      "5041   Sehr geehrte Frau Präsidentin! Sehr geehrte Da...   ID20300100      18   \n",
      "5807   Gerne. Dann mache ich davon Gebrauch. – Herr B...  ID201000400      18   \n",
      "5970   Sehr geehrte Frau Präsidentin! Sehr geehrte Da...  ID201104700      18   \n",
      "6052   Sehr geehrter Herr Präsident! Liebe Kolleginne...  ID201112900      18   \n",
      "6057   Herr Präsident, nachdem ich weiß, dass Sie imm...  ID201113400      18   \n",
      "7095   Sehr geehrter Herr Präsident! Kolleginnen und ...  ID207003100      18   \n",
      "7512   Sehr geehrte Frau Präsidentin! Sehr geehrte Fr...  ID209400400      18   \n",
      "7647   Frau Präsidentin! Sehr geehrte Damen und Herre...   ID20700400      18   \n",
      "7648   Frau Präsidentin! Liebe Kolleginnen und Kolleg...   ID20700500      18   \n",
      "7704   Sehr geehrter Herr Präsident! Sehr geehrte Kol...   ID20604700      18   \n",
      "7705   Herr Präsident! Meine Damen und Herren! Die Fr...   ID20604800      18   \n",
      "8198   Sehr geehrte Frau Präsidentin! Liebe Kolleginn...  ID207703900      18   \n",
      "8202   Sehr geehrte Frau Präsidentin! Sehr geehrte Da...  ID207704300      18   \n",
      "8230   Sehr geehrte Frau Präsidentin! Kolleginnen und...  ID207707100      18   \n",
      "8529   Sehr geehrte Frau Präsidentin! Sehr geehrte Da...  ID204802100      18   \n",
      "9445   Sehr geehrte Frau Präsidentin! Sehr geehrte Ko...  ID202801900      18   \n",
      "9554   Sehr geehrte Frau Präsidentin! Verehrte Kolleg...  ID202812800      18   \n",
      "9681   Frau Präsidentin! Meine Damen und Herren! Lieb...  ID206010000      18   \n",
      "9799   Verehrte Frau Präsidentin! Liebe Kolleginnen u...  ID206105100      18   \n",
      "10274  Frau Präsidentin! Liebe Kolleginnen und Kolleg...  ID201712100      18   \n",
      "10289  Sehr geehrte Frau Präsidentin! Werte Kollegen!...  ID201713600      18   \n",
      "\n",
      "            date                         name                  party  \\\n",
      "216   2022-04-28              Kay-Uwe Ziegler                    AfD   \n",
      "223   2022-04-28         Kordula Schulz-Asche  BÜNDNIS 90/DIE GRÜNEN   \n",
      "224   2022-04-28               Kathrin Vogler              DIE LINKE   \n",
      "226   2022-04-28             Nezahat Baradari                    SPD   \n",
      "366   2023-01-19               Christina Baum                    AfD   \n",
      "849   2022-07-06               Kathrin Vogler              DIE LINKE   \n",
      "1032  2022-12-01                    Zoe Mayer  BÜNDNIS 90/DIE GRÜNEN   \n",
      "1493  2021-12-07         Katrin Helling-Plahr                    FDP   \n",
      "2319  2022-01-26               Kathrin Vogler              DIE LINKE   \n",
      "2325  2022-01-26         Matthias W. Birkwald              DIE LINKE   \n",
      "2335  2022-01-26                 Thomas Seitz                    AfD   \n",
      "2336  2022-01-26         Katrin Helling-Plahr                    FDP   \n",
      "2340  2022-01-26         Kordula Schulz-Asche  BÜNDNIS 90/DIE GRÜNEN   \n",
      "2693  2022-11-23                  Manuel Gava                    SPD   \n",
      "2937  2022-03-17                 Alice Weidel                    AfD   \n",
      "2939  2022-03-17               Andrew Ullmann                    FDP   \n",
      "2949  2022-03-17               Kathrin Vogler              DIE LINKE   \n",
      "3984  2022-01-27                 Tina Rudolph                    SPD   \n",
      "4013  2022-04-07           Franziska Mascheck                    SPD   \n",
      "4122  2022-04-07            Christos Pantazis                    SPD   \n",
      "4261  2022-05-19               Janosch Dahmen  BÜNDNIS 90/DIE GRÜNEN   \n",
      "4629  2022-06-01               Svenja Schulze                unknown   \n",
      "5041  2021-11-18               Sabine Dittmar                    SPD   \n",
      "5807  2022-01-12                Thorsten Frei                CDU/CSU   \n",
      "5970  2022-01-13                 Erwin Rüddel                CDU/CSU   \n",
      "6052  2022-01-13               Janosch Dahmen  BÜNDNIS 90/DIE GRÜNEN   \n",
      "6057  2022-01-13              Max Straubinger                CDU/CSU   \n",
      "7095  2022-11-24              Wolfgang Wiehle                    AfD   \n",
      "7512  2023-03-30                   Jörn König                    AfD   \n",
      "7647  2021-12-10               Tino Chrupalla                    AfD   \n",
      "7648  2021-12-10  Christine Aschenberg-Dugnus                    FDP   \n",
      "7704  2021-12-09         Martina Stamm-Fibich                    SPD   \n",
      "7705  2021-12-09            Stephan Pilsinger                CDU/CSU   \n",
      "8198  2022-12-16                   Armin Grau  BÜNDNIS 90/DIE GRÜNEN   \n",
      "8202  2022-12-16             Herbert Wollmann                    SPD   \n",
      "8230  2022-12-16               Kathrin Vogler              DIE LINKE   \n",
      "8529  2022-07-08                  Laura Kraft  BÜNDNIS 90/DIE GRÜNEN   \n",
      "9445  2022-04-07           Franziska Mascheck                    SPD   \n",
      "9554  2022-04-07            Christos Pantazis                    SPD   \n",
      "9681  2022-10-13                 Hubert Hüppe                CDU/CSU   \n",
      "9799  2022-10-14               Kathrin Vogler              DIE LINKE   \n",
      "10274 2022-02-17                Nicole Westig                    FDP   \n",
      "10289 2022-02-17                 Thomas Dietz                    AfD   \n",
      "\n",
      "       redner_id                                discussion_title  occurrences  \n",
      "216     11005265                Tagesordnungspunkt 17 2022-04-28            2  \n",
      "223     11004405                Tagesordnungspunkt 17 2022-04-28            0  \n",
      "224     11004181                Tagesordnungspunkt 17 2022-04-28            0  \n",
      "226     11004947                Tagesordnungspunkt 17 2022-04-28            0  \n",
      "366     11005018                Tagesordnungspunkt 17 2023-01-19            0  \n",
      "849     11004181                        Zusatzpunkt 3 2022-07-06            0  \n",
      "1032    11005145                Tagesordnungspunkt 26 2022-12-01            0  \n",
      "1493    11004742                 Tagesordnungspunkt 1 2021-12-07            2  \n",
      "2319    11004181                 Tagesordnungspunkt 3 2022-01-26            2  \n",
      "2325    11004012                 Tagesordnungspunkt 3 2022-01-26            0  \n",
      "2335    11004891                 Tagesordnungspunkt 3 2022-01-26            4  \n",
      "2336    11004742                 Tagesordnungspunkt 3 2022-01-26            0  \n",
      "2340    11004405                 Tagesordnungspunkt 3 2022-01-26            4  \n",
      "2693    11005062                        Einzelplan 23 2022-11-23            0  \n",
      "2937    11004930                 Tagesordnungspunkt 6 2022-03-17            0  \n",
      "2939    11004922                 Tagesordnungspunkt 6 2022-03-17            0  \n",
      "2949    11004181                 Tagesordnungspunkt 6 2022-03-17            0  \n",
      "3984    11005195                 Tagesordnungspunkt 8 2022-01-27            0  \n",
      "4013    11005144                 Tagesordnungspunkt 6 2022-04-07            0  \n",
      "4122    11005174                Tagesordnungspunkt 15 2022-04-07            0  \n",
      "4261    11004962                Tagesordnungspunkt 15 2022-05-19            0  \n",
      "4629   999990074                        Einzelplan 23 2022-06-01            0  \n",
      "5041    11004261                 Tagesordnungspunkt 1 2021-11-18            4  \n",
      "5807    11004276                 Tagesordnungspunkt 1 2022-01-12            0  \n",
      "5970    11004139                 Tagesordnungspunkt 2 2022-01-13            2  \n",
      "6052    11004962                        Zusatzpunkt 3 2022-01-13            0  \n",
      "6057    11002812                        Zusatzpunkt 3 2022-01-13            0  \n",
      "7095    11004933                        Einzelplan 15 2022-11-24            0  \n",
      "7512    11004788                 Tagesordnungspunkt 6 2023-03-30            2  \n",
      "7647    11004695                Tagesordnungspunkt 13 2021-12-10            0  \n",
      "7648    11004003                Tagesordnungspunkt 13 2021-12-10            0  \n",
      "7704    11004413                        Zusatzpunkt 1 2021-12-09            0  \n",
      "7705    11004853                        Zusatzpunkt 1 2021-12-09            0  \n",
      "8198    11005070  Tagesordnungspunkt 23, ZP 13 und 14 2022-12-16            2  \n",
      "8202    11005262  Tagesordnungspunkt 23, ZP 13 und 14 2022-12-16            2  \n",
      "8230    11004181                       Zusatzpunkt 17 2022-12-16            0  \n",
      "8529    11005113                Tagesordnungspunkt 29 2022-07-08            0  \n",
      "9445    11005144                 Tagesordnungspunkt 6 2022-04-07            0  \n",
      "9554    11005174                Tagesordnungspunkt 15 2022-04-07            0  \n",
      "9681    11000975                Tagesordnungspunkt 14 2022-10-13            0  \n",
      "9799    11004181                Tagesordnungspunkt 28 2022-10-14            0  \n",
      "10274   11004931                Tagesordnungspunkt 16 2022-02-17            0  \n",
      "10289   11005042                        Zusatzpunkt 5 2022-02-17            0  \n"
     ]
    }
   ],
   "source": [
    "\n",
    "# Wir wollen uns nun ausgeben lassen, inwieferen \n",
    "def get_synonyms(word):\n",
    "    synonyms = []\n",
    "    for syn in wordnet.synsets(word):\n",
    "        for lemma in syn.lemmas():\n",
    "            synonyms.append(lemma.name())\n",
    "    return synonyms\n",
    "\n",
    "def count_occurrences_of_keywords(df, keywords):\n",
    "    def count_occurrences(text):\n",
    "        word_tokens = word_tokenize(text.lower())\n",
    "        keyword_occurrences = [1 for word in word_tokens if word in keywords]\n",
    "        synonym_occurrences = [1 for word in word_tokens for keyword in keywords if word in get_synonyms(keyword)]\n",
    "        return sum(keyword_occurrences) + sum(synonym_occurrences)\n",
    "    \n",
    "    df['occurrences'] = df['text'].apply(count_occurrences)\n",
    "    return df\n",
    "\n",
    "\n",
    "# List of keywords (including 'corona')\n",
    "keywords = ['corona']\n",
    "\n",
    "# Count occurrences of keywords and synonyms in each cell of 'text'\n",
    "df_with_occurrences = count_occurrences_of_keywords(df20_Covid, keywords)\n",
    "\n",
    "# Display the DataFrame with the occurrence count\n",
    "print(df_with_occurrences)\n",
    "\n"
   ]
  },
  {
   "attachments": {},
   "cell_type": "markdown",
   "metadata": {},
   "source": [
    "### 1.4 Textdaten bereinigen\n",
    "Im nächsten Schritt werden Methoden aufgerufen, um das Sentiment der Reden auf Satzebene analysieren zu können. Die Methode tokenize_and_split_sentences(df) nimmt den DataFrame mit den Reden entgegen, tokenisiert die darin enthaltenen Sätze mithilfe von NLTK und teilt sie in einzelne Sätze des DataFrames auf, wodurch ein neues DataFrame erstellt wird, das sowohl die ursprünglichen Zeilendaten als auch die tokenisierten Sätze enthält. Dies ist hilfreich, um Textdaten auf Satzebene zu analysieren oder weiter zu verarbeiten."
   ]
  },
  {
   "cell_type": "code",
   "execution_count": 25,
   "metadata": {},
   "outputs": [],
   "source": [
    "#Methodenaufruf,tokenize_and_split_sentences(df)\n",
    "df19_Covid_Split = Sentiment_Methods.tokenize_and_split_sentences (df19_Covid)\n",
    "df20_Covid_Split = Sentiment_Methods.tokenize_and_split_sentences (df20_Covid)"
   ]
  },
  {
   "cell_type": "markdown",
   "metadata": {},
   "source": [
    "Im nächsten Schritt wollen wir Zeilen und Sätze löschen, die für die Auswertung keine Relevanz haben. \n",
    "Wir wollen dazu Stoppwörter löschen die in politischen Reden sehr häufig vorkommen, wie \"Minister\", \"Ministerin\" oder \"mann\", \"geehrter\". Dieses erleichtert die Sentiment Auswertung. "
   ]
  },
  {
   "cell_type": "code",
   "execution_count": 27,
   "metadata": {},
   "outputs": [
    {
     "name": "stderr",
     "output_type": "stream",
     "text": [
      "[nltk_data] Downloading package stopwords to\n",
      "[nltk_data]     /Users/paulahofmann/nltk_data...\n",
      "[nltk_data]   Package stopwords is already up-to-date!\n"
     ]
    }
   ],
   "source": [
    "# Download der Deutschen Stoppwortliste\n",
    "nltk.download('stopwords')\n",
    "\n",
    "# Festlegen einer eigenen Stoppwortliste\n",
    "my_stopwords = ['ministerin', 'minister', 'kollege', 'kollegin', 'präsidentin', 'kolleginnen', 'kollegen', 'frau', 'herr', 'mann', 'geehrte', 'geehrter', 'liebe', 'lieber', 'damen', 'herren', 'präsident', 'vielen dank','dank','redner','rednerin']\n",
    "\n",
    "# Methodenaufruf clean_text zur Textverarbeitung und einfacheren Erstellung von n-grammen\n",
    "df19_cleaned = Sentiment_Methods.clean_text(df19_Covid_Split, my_stopwords)\n",
    "\n",
    "df20_cleaned = Sentiment_Methods.clean_text(df20_Covid_Split, my_stopwords)\n"
   ]
  },
  {
   "attachments": {},
   "cell_type": "markdown",
   "metadata": {},
   "source": [
    "## 2. Identifizierung des Sentiments unter Verwendung von Transformer-Modellen\n",
    "Die Identifizierung des Sentiments während der Corona Pandemie erfolgt unter Verwendung von Transformer-Modellen. Durch die Anwendung eines vortrainierten Transformer-Modells German Sentiment Classification with Bert auf den gegebenen Text. \n",
    "\n",
    "@InProceedings{guhr-EtAl:2020:LREC,\n",
    "  author    = {Guhr, Oliver  and  Schumann, Anne-Kathrin  and  Bahrmann, Frank  and  Böhme, Hans Joachim},\n",
    "  title     = {Training a Broad-Coverage German Sentiment Classification Model for Dialog Systems},\n",
    "  booktitle      = {Proceedings of The 12th Language Resources and Evaluation Conference},\n",
    "  month          = {May},\n",
    "  year           = {2020},\n",
    "  address        = {Marseille, France},\n",
    "  publisher      = {European Language Resources Association},\n",
    "  pages     = {1620--1625},\n",
    "  url       = {https://www.aclweb.org/anthology/2020.lrec-1.202}\n",
    "}\n"
   ]
  },
  {
   "cell_type": "markdown",
   "metadata": {},
   "source": []
  },
  {
   "attachments": {},
   "cell_type": "markdown",
   "metadata": {},
   "source": [
    "### 3.1 Modellaufruf\n",
    "Wir beginnen mit dem Methodenaufruf aus dem Modul Sentiment_methods. Dieser verwendet eine Pipeline, um das German Sentiment Bert-Modell für die Sentiment-Analyse zu nutzen. Dabei nutzen wir keine eigenen Text-Preprocessing-Schritte, da die Methode diese automatisch durchführt. Wir wenden das Modell auf Satzebene an, um das Sentiment zu analysieren."
   ]
  },
  {
   "cell_type": "code",
   "execution_count": 15,
   "metadata": {},
   "outputs": [
    {
     "name": "stderr",
     "output_type": "stream",
     "text": [
      "All PyTorch model weights were used when initializing TFBertForSequenceClassification.\n",
      "\n",
      "All the weights of TFBertForSequenceClassification were initialized from the PyTorch model.\n",
      "If your task is similar to the task the model of the checkpoint was trained on, you can already use TFBertForSequenceClassification for predictions without further training.\n"
     ]
    },
    {
     "name": "stdout",
     "output_type": "stream",
     "text": [
      "Unexpected exception formatting exception. Falling back to standard exception\n"
     ]
    },
    {
     "name": "stderr",
     "output_type": "stream",
     "text": [
      "Traceback (most recent call last):\n",
      "  File \"/Users/paulahofmann/anaconda3/envs/env1/lib/python3.11/site-packages/IPython/core/interactiveshell.py\", line 3508, in run_code\n",
      "    exec(code_obj, self.user_global_ns, self.user_ns)\n",
      "  File \"/var/folders/ss/4y6dgpw950348n7xdxy73vnm0000gn/T/ipykernel_51472/1111271159.py\", line 5, in <module>\n",
      "    modell_original19 = Sentiment_Methods.sentiment_analysis(df19_Covid_cleaned, 'satz')\n",
      "                        ^^^^^^^^^^^^^^^^^^^^^^^^^^^^^^^^^^^^^^^^^^^^^^^^^^^^^^^^^^^^^^^^\n",
      "  File \"/Users/paulahofmann/Library/CloudStorage/OneDrive-Persönlich/Uni/2. Lernpools Master/3. Semester/Soziologie/Politische-Debatten-1/Sentiment_Methods.py\", line 240, in sentiment_analysis\n",
      "    df['Sentiment'] = df[text_column].apply(lambda x: nlp_sentiment(x))\n",
      "                      ^^^^^^^^^^^^^^^^^^^^^^^^^^^^^^^^^^^^^^^^^^^^^^^^^\n",
      "  File \"/Users/paulahofmann/anaconda3/envs/env1/lib/python3.11/site-packages/pandas/core/series.py\", line 4771, in apply\n",
      "    return SeriesApply(self, func, convert_dtype, args, kwargs).apply()\n",
      "           ^^^^^^^^^^^^^^^^^^^^^^^^^^^^^^^^^^^^^^^^^^^^^^^^^^^^^^^^^^^^\n",
      "  File \"/Users/paulahofmann/anaconda3/envs/env1/lib/python3.11/site-packages/pandas/core/apply.py\", line 1123, in apply\n",
      "    return self.apply_standard()\n",
      "           ^^^^^^^^^^^^^^^^^^^^^\n",
      "  File \"/Users/paulahofmann/anaconda3/envs/env1/lib/python3.11/site-packages/pandas/core/apply.py\", line 1174, in apply_standard\n",
      "    mapped = lib.map_infer(\n",
      "             ^^^^^^^^^^^^^^\n",
      "  File \"pandas/_libs/lib.pyx\", line 2924, in pandas._libs.lib.map_infer\n",
      "  File \"/Users/paulahofmann/Library/CloudStorage/OneDrive-Persönlich/Uni/2. Lernpools Master/3. Semester/Soziologie/Politische-Debatten-1/Sentiment_Methods.py\", line 240, in <lambda>\n",
      "    df['Sentiment'] = df[text_column].apply(lambda x: nlp_sentiment(x))\n",
      "                                                      ^^^^^^^^^^^^^^^^\n",
      "  File \"/Users/paulahofmann/anaconda3/envs/env1/lib/python3.11/site-packages/transformers/pipelines/text_classification.py\", line 155, in __call__\n",
      "    result = super().__call__(*args, **kwargs)\n",
      "             ^^^^^^^^^^^^^^^^^^^^^^^^^^^^^^^^^\n",
      "  File \"/Users/paulahofmann/anaconda3/envs/env1/lib/python3.11/site-packages/transformers/pipelines/base.py\", line 1122, in __call__\n",
      "    return self.run_single(inputs, preprocess_params, forward_params, postprocess_params)\n",
      "           ^^^^^^^^^^^^^^^^^^^^^^^^^^^^^^^^^^^^^^^^^^^^^^^^^^^^^^^^^^^^^^^^^^^^^^^^^^^^^^\n",
      "  File \"/Users/paulahofmann/anaconda3/envs/env1/lib/python3.11/site-packages/transformers/pipelines/base.py\", line 1129, in run_single\n",
      "    model_outputs = self.forward(model_inputs, **forward_params)\n",
      "                    ^^^^^^^^^^^^^^^^^^^^^^^^^^^^^^^^^^^^^^^^^^^^\n",
      "  File \"/Users/paulahofmann/anaconda3/envs/env1/lib/python3.11/site-packages/transformers/pipelines/base.py\", line 1023, in forward\n",
      "    model_outputs = self._forward(model_inputs, **forward_params)\n",
      "                    ^^^^^^^^^^^^^^^^^^^^^^^^^^^^^^^^^^^^^^^^^^^^^\n",
      "  File \"/Users/paulahofmann/anaconda3/envs/env1/lib/python3.11/site-packages/transformers/pipelines/text_classification.py\", line 182, in _forward\n",
      "    return self.model(**model_inputs)\n",
      "           ^^^^^^^^^^^^^^^^^^^^^^^^^^\n",
      "  File \"/Users/paulahofmann/anaconda3/envs/env1/lib/python3.11/site-packages/keras/src/utils/traceback_utils.py\", line 65, in error_handler\n",
      "    return fn(*args, **kwargs)\n",
      "           ^^^^^^^^^^^^^^^^^^^\n",
      "  File \"/Users/paulahofmann/anaconda3/envs/env1/lib/python3.11/site-packages/keras/src/engine/training.py\", line 569, in __call__\n",
      "    return super().__call__(*args, **kwargs)\n",
      "           ^^^^^^^^^^^^^^^^^^^^^^^^^^^^^^^^^\n",
      "  File \"/Users/paulahofmann/anaconda3/envs/env1/lib/python3.11/site-packages/keras/src/utils/traceback_utils.py\", line 65, in error_handler\n",
      "    return fn(*args, **kwargs)\n",
      "           ^^^^^^^^^^^^^^^^^^^\n",
      "  File \"/Users/paulahofmann/anaconda3/envs/env1/lib/python3.11/site-packages/keras/src/engine/base_layer.py\", line 1150, in __call__\n",
      "    outputs = call_fn(inputs, *args, **kwargs)\n",
      "              ^^^^^^^^^^^^^^^^^^^^^^^^^^^^^^^^\n",
      "  File \"/Users/paulahofmann/anaconda3/envs/env1/lib/python3.11/site-packages/keras/src/utils/traceback_utils.py\", line 96, in error_handler\n",
      "    return fn(*args, **kwargs)\n",
      "           ^^^^^^^^^^^^^^^^^^^\n",
      "  File \"/Users/paulahofmann/anaconda3/envs/env1/lib/python3.11/site-packages/transformers/modeling_tf_utils.py\", line 426, in run_call_with_unpacked_inputs\n",
      "    return func(self, **unpacked_inputs)\n",
      "           ^^^^^^^^^^^^^^^^^^^^^^^^^^^^^\n",
      "  File \"/Users/paulahofmann/anaconda3/envs/env1/lib/python3.11/site-packages/transformers/models/bert/modeling_tf_bert.py\", line 1569, in call\n",
      "    outputs = self.bert(\n",
      "              ^^^^^^^^^^\n",
      "  File \"/Users/paulahofmann/anaconda3/envs/env1/lib/python3.11/site-packages/keras/src/utils/traceback_utils.py\", line 65, in error_handler\n",
      "    return fn(*args, **kwargs)\n",
      "           ^^^^^^^^^^^^^^^^^^^\n",
      "  File \"/Users/paulahofmann/anaconda3/envs/env1/lib/python3.11/site-packages/keras/src/engine/base_layer.py\", line 1150, in __call__\n",
      "    outputs = call_fn(inputs, *args, **kwargs)\n",
      "              ^^^^^^^^^^^^^^^^^^^^^^^^^^^^^^^^\n",
      "  File \"/Users/paulahofmann/anaconda3/envs/env1/lib/python3.11/site-packages/keras/src/utils/traceback_utils.py\", line 96, in error_handler\n",
      "    return fn(*args, **kwargs)\n",
      "           ^^^^^^^^^^^^^^^^^^^\n",
      "  File \"/Users/paulahofmann/anaconda3/envs/env1/lib/python3.11/site-packages/transformers/modeling_tf_utils.py\", line 426, in run_call_with_unpacked_inputs\n",
      "    return func(self, **unpacked_inputs)\n",
      "           ^^^^^^^^^^^^^^^^^^^^^^^^^^^^^\n",
      "  File \"/Users/paulahofmann/anaconda3/envs/env1/lib/python3.11/site-packages/transformers/models/bert/modeling_tf_bert.py\", line 862, in call\n",
      "    encoder_outputs = self.encoder(\n",
      "                      ^^^^^^^^^^^^^\n",
      "  File \"/Users/paulahofmann/anaconda3/envs/env1/lib/python3.11/site-packages/keras/src/utils/traceback_utils.py\", line 65, in error_handler\n",
      "    return fn(*args, **kwargs)\n",
      "           ^^^^^^^^^^^^^^^^^^^\n",
      "  File \"/Users/paulahofmann/anaconda3/envs/env1/lib/python3.11/site-packages/keras/src/engine/base_layer.py\", line 1150, in __call__\n",
      "    outputs = call_fn(inputs, *args, **kwargs)\n",
      "              ^^^^^^^^^^^^^^^^^^^^^^^^^^^^^^^^\n",
      "  File \"/Users/paulahofmann/anaconda3/envs/env1/lib/python3.11/site-packages/keras/src/utils/traceback_utils.py\", line 96, in error_handler\n",
      "    return fn(*args, **kwargs)\n",
      "           ^^^^^^^^^^^^^^^^^^^\n",
      "  File \"/Users/paulahofmann/anaconda3/envs/env1/lib/python3.11/site-packages/transformers/models/bert/modeling_tf_bert.py\", line 554, in call\n",
      "    layer_outputs = layer_module(\n",
      "                    ^^^^^^^^^^^^^\n",
      "  File \"/Users/paulahofmann/anaconda3/envs/env1/lib/python3.11/site-packages/keras/src/utils/traceback_utils.py\", line 65, in error_handler\n",
      "    return fn(*args, **kwargs)\n",
      "           ^^^^^^^^^^^^^^^^^^^\n",
      "  File \"/Users/paulahofmann/anaconda3/envs/env1/lib/python3.11/site-packages/keras/src/engine/base_layer.py\", line 1150, in __call__\n",
      "    outputs = call_fn(inputs, *args, **kwargs)\n",
      "              ^^^^^^^^^^^^^^^^^^^^^^^^^^^^^^^^\n",
      "  File \"/Users/paulahofmann/anaconda3/envs/env1/lib/python3.11/site-packages/keras/src/utils/traceback_utils.py\", line 96, in error_handler\n",
      "    return fn(*args, **kwargs)\n",
      "           ^^^^^^^^^^^^^^^^^^^\n",
      "  File \"/Users/paulahofmann/anaconda3/envs/env1/lib/python3.11/site-packages/transformers/models/bert/modeling_tf_bert.py\", line 511, in call\n",
      "    layer_output = self.bert_output(\n",
      "                   ^^^^^^^^^^^^^^^^^\n",
      "  File \"/Users/paulahofmann/anaconda3/envs/env1/lib/python3.11/site-packages/keras/src/utils/traceback_utils.py\", line 65, in error_handler\n",
      "    return fn(*args, **kwargs)\n",
      "           ^^^^^^^^^^^^^^^^^^^\n",
      "  File \"/Users/paulahofmann/anaconda3/envs/env1/lib/python3.11/site-packages/keras/src/engine/base_layer.py\", line 1150, in __call__\n",
      "    outputs = call_fn(inputs, *args, **kwargs)\n",
      "              ^^^^^^^^^^^^^^^^^^^^^^^^^^^^^^^^\n",
      "  File \"/Users/paulahofmann/anaconda3/envs/env1/lib/python3.11/site-packages/keras/src/utils/traceback_utils.py\", line 96, in error_handler\n",
      "    return fn(*args, **kwargs)\n",
      "           ^^^^^^^^^^^^^^^^^^^\n",
      "  File \"/Users/paulahofmann/anaconda3/envs/env1/lib/python3.11/site-packages/transformers/models/bert/modeling_tf_bert.py\", line 430, in call\n",
      "    hidden_states = self.dense(inputs=hidden_states)\n",
      "                    ^^^^^^^^^^^^^^^^^^^^^^^^^^^^^^^^\n",
      "  File \"/Users/paulahofmann/anaconda3/envs/env1/lib/python3.11/site-packages/keras/src/utils/traceback_utils.py\", line 65, in error_handler\n",
      "    return fn(*args, **kwargs)\n",
      "           ^^^^^^^^^^^^^^^^^^^\n",
      "  File \"/Users/paulahofmann/anaconda3/envs/env1/lib/python3.11/site-packages/keras/src/engine/base_layer.py\", line 1150, in __call__\n",
      "    outputs = call_fn(inputs, *args, **kwargs)\n",
      "              ^^^^^^^^^^^^^^^^^^^^^^^^^^^^^^^^\n",
      "  File \"/Users/paulahofmann/anaconda3/envs/env1/lib/python3.11/site-packages/keras/src/utils/traceback_utils.py\", line 96, in error_handler\n",
      "    return fn(*args, **kwargs)\n",
      "           ^^^^^^^^^^^^^^^^^^^\n",
      "  File \"/Users/paulahofmann/anaconda3/envs/env1/lib/python3.11/site-packages/keras/src/layers/core/dense.py\", line 244, in call\n",
      "    outputs = tf.tensordot(inputs, self.kernel, [[rank - 1], [0]])\n",
      "              ^^^^^^^^^^^^^^^^^^^^^^^^^^^^^^^^^^^^^^^^^^^^^^^^^^^^\n",
      "  File \"/Users/paulahofmann/anaconda3/envs/env1/lib/python3.11/site-packages/tensorflow/python/util/traceback_utils.py\", line 150, in error_handler\n",
      "    return fn(*args, **kwargs)\n",
      "           ^^^^^^^^^^^^^^^^^^^\n",
      "  File \"/Users/paulahofmann/anaconda3/envs/env1/lib/python3.11/site-packages/tensorflow/python/util/dispatch.py\", line 1176, in op_dispatch_handler\n",
      "    return dispatch_target(*args, **kwargs)\n",
      "           ^^^^^^^^^^^^^^^^^^^^^^^^^^^^^^^^\n",
      "  File \"/Users/paulahofmann/anaconda3/envs/env1/lib/python3.11/site-packages/tensorflow/python/ops/math_ops.py\", line 5188, in tensordot\n",
      "    ab_matmul = matmul(a_reshape, b_reshape)\n",
      "                ^^^^^^^^^^^^^^^^^^^^^^^^^^^^\n",
      "  File \"/Users/paulahofmann/anaconda3/envs/env1/lib/python3.11/site-packages/tensorflow/python/util/traceback_utils.py\", line 150, in error_handler\n",
      "    return fn(*args, **kwargs)\n",
      "           ^^^^^^^^^^^^^^^^^^^\n",
      "  File \"/Users/paulahofmann/anaconda3/envs/env1/lib/python3.11/site-packages/tensorflow/python/util/dispatch.py\", line 1176, in op_dispatch_handler\n",
      "    return dispatch_target(*args, **kwargs)\n",
      "           ^^^^^^^^^^^^^^^^^^^^^^^^^^^^^^^^\n",
      "  File \"/Users/paulahofmann/anaconda3/envs/env1/lib/python3.11/site-packages/tensorflow/python/ops/math_ops.py\", line 3794, in matmul\n",
      "    return gen_math_ops.mat_mul(\n",
      "           ^^^^^^^^^^^^^^^^^^^^^\n",
      "  File \"/Users/paulahofmann/anaconda3/envs/env1/lib/python3.11/site-packages/tensorflow/python/ops/gen_math_ops.py\", line 6014, in mat_mul\n",
      "    _result = pywrap_tfe.TFE_Py_FastPathExecute(\n",
      "              ^^^^^^^^^^^^^^^^^^^^^^^^^^^^^^^^^^\n",
      "KeyboardInterrupt\n",
      "\n",
      "During handling of the above exception, another exception occurred:\n",
      "\n",
      "Traceback (most recent call last):\n",
      "  File \"/Users/paulahofmann/anaconda3/envs/env1/lib/python3.11/site-packages/IPython/core/interactiveshell.py\", line 2105, in showtraceback\n",
      "    stb = self.InteractiveTB.structured_traceback(\n",
      "          ^^^^^^^^^^^^^^^^^^^^^^^^^^^^^^^^^^^^^^^^\n",
      "  File \"/Users/paulahofmann/anaconda3/envs/env1/lib/python3.11/site-packages/IPython/core/ultratb.py\", line 1428, in structured_traceback\n",
      "    return FormattedTB.structured_traceback(\n",
      "           ^^^^^^^^^^^^^^^^^^^^^^^^^^^^^^^^^\n",
      "  File \"/Users/paulahofmann/anaconda3/envs/env1/lib/python3.11/site-packages/IPython/core/ultratb.py\", line 1319, in structured_traceback\n",
      "    return VerboseTB.structured_traceback(\n",
      "           ^^^^^^^^^^^^^^^^^^^^^^^^^^^^^^^\n",
      "  File \"/Users/paulahofmann/anaconda3/envs/env1/lib/python3.11/site-packages/IPython/core/ultratb.py\", line 1172, in structured_traceback\n",
      "    formatted_exception = self.format_exception_as_a_whole(etype, evalue, etb, number_of_lines_of_context,\n",
      "                          ^^^^^^^^^^^^^^^^^^^^^^^^^^^^^^^^^^^^^^^^^^^^^^^^^^^^^^^^^^^^^^^^^^^^^^^^^^^^^^^^\n",
      "  File \"/Users/paulahofmann/anaconda3/envs/env1/lib/python3.11/site-packages/IPython/core/ultratb.py\", line 1062, in format_exception_as_a_whole\n",
      "    self.get_records(etb, number_of_lines_of_context, tb_offset) if etb else []\n",
      "    ^^^^^^^^^^^^^^^^^^^^^^^^^^^^^^^^^^^^^^^^^^^^^^^^^^^^^^^^^^^^\n",
      "  File \"/Users/paulahofmann/anaconda3/envs/env1/lib/python3.11/site-packages/IPython/core/ultratb.py\", line 1154, in get_records\n",
      "    FrameInfo(\n",
      "  File \"/Users/paulahofmann/anaconda3/envs/env1/lib/python3.11/site-packages/IPython/core/ultratb.py\", line 780, in __init__\n",
      "    ix = inspect.getsourcelines(frame)\n",
      "         ^^^^^^^^^^^^^^^^^^^^^^^^^^^^^\n",
      "  File \"/Users/paulahofmann/anaconda3/envs/env1/lib/python3.11/inspect.py\", line 1244, in getsourcelines\n",
      "    lines, lnum = findsource(object)\n",
      "                  ^^^^^^^^^^^^^^^^^^\n",
      "  File \"/Users/paulahofmann/anaconda3/envs/env1/lib/python3.11/inspect.py\", line 1073, in findsource\n",
      "    raise OSError('source code not available')\n",
      "OSError: source code not available\n"
     ]
    }
   ],
   "source": [
    "# Aufruf Transformer Modell unter Verwendung einer eigenen Methode\n",
    "import tensorflow\n",
    "\n",
    "#Original Text - Modell Periode 19\n",
    "modell_original19 = Sentiment_Methods.sentiment_analysis(df19_cleaned, 'satz')\n",
    "\n",
    "#Original Text - Modell Periode 19\n",
    "modell_original20 = Sentiment_Methods.sentiment_analysis(df20_cleaned, 'satz')\n"
   ]
  },
  {
   "cell_type": "markdown",
   "metadata": {},
   "source": [
    "Um die Qualität der Sentiment-Analyse zu vergleichen, werden die Transformer-Modelle auch auf Satzebene mit den eigenen preprozessierten Sätzen angewendet. Dies gewährleistet einen fairen und aussagekräftigen Vergleich der Analyseergebnisse."
   ]
  },
  {
   "cell_type": "code",
   "execution_count": 19,
   "metadata": {},
   "outputs": [],
   "source": [
    "# Modellaufruf mit preprocessed Text Periode 19\n",
    "modell_processed19 = Sentiment_Methods.sentiment_analysis(df19_cleaned, 'cleaned_text')\n",
    "\n",
    "# Modellaufruf mit preprocessed Text Periode 20\n",
    "modell_processed20 = Sentiment_Methods.sentiment_analysis(df20_cleaned, 'cleaned_text')"
   ]
  },
  {
   "attachments": {},
   "cell_type": "markdown",
   "metadata": {},
   "source": [
    "### 3.2 Deskriptive Darstellung der Sentimentanalyse"
   ]
  },
  {
   "cell_type": "code",
   "execution_count": 27,
   "metadata": {},
   "outputs": [
    {
     "data": {
      "application/vnd.plotly.v1+json": {
       "config": {
        "plotlyServerURL": "https://plot.ly"
       },
       "data": [
        {
         "alignmentgroup": "True",
         "hovertemplate": "color=neutral<br>x=%{x}<br>y=%{y}<extra></extra>",
         "legendgroup": "neutral",
         "marker": {
          "color": "#ab63fa",
          "pattern": {
           "shape": ""
          }
         },
         "name": "neutral",
         "offsetgroup": "neutral",
         "orientation": "v",
         "showlegend": true,
         "textposition": "auto",
         "type": "bar",
         "x": [
          "neutral"
         ],
         "xaxis": "x",
         "y": [
          7780
         ],
         "yaxis": "y"
        },
        {
         "alignmentgroup": "True",
         "hovertemplate": "color=negative<br>x=%{x}<br>y=%{y}<extra></extra>",
         "legendgroup": "negative",
         "marker": {
          "color": "#FFA15A",
          "pattern": {
           "shape": ""
          }
         },
         "name": "negative",
         "offsetgroup": "negative",
         "orientation": "v",
         "showlegend": true,
         "textposition": "auto",
         "type": "bar",
         "x": [
          "negative"
         ],
         "xaxis": "x",
         "y": [
          975
         ],
         "yaxis": "y"
        },
        {
         "alignmentgroup": "True",
         "hovertemplate": "color=positive<br>x=%{x}<br>y=%{y}<extra></extra>",
         "legendgroup": "positive",
         "marker": {
          "color": "#19d3f3",
          "pattern": {
           "shape": ""
          }
         },
         "name": "positive",
         "offsetgroup": "positive",
         "orientation": "v",
         "showlegend": true,
         "textposition": "auto",
         "type": "bar",
         "x": [
          "positive"
         ],
         "xaxis": "x",
         "y": [
          642
         ],
         "yaxis": "y"
        }
       ],
       "layout": {
        "barmode": "relative",
        "height": 600,
        "legend": {
         "title": {
          "text": "color"
         },
         "tracegroupgap": 0
        },
        "margin": {
         "t": 60
        },
        "template": {
         "data": {
          "bar": [
           {
            "error_x": {
             "color": "#2a3f5f"
            },
            "error_y": {
             "color": "#2a3f5f"
            },
            "marker": {
             "line": {
              "color": "#E5ECF6",
              "width": 0.5
             },
             "pattern": {
              "fillmode": "overlay",
              "size": 10,
              "solidity": 0.2
             }
            },
            "type": "bar"
           }
          ],
          "barpolar": [
           {
            "marker": {
             "line": {
              "color": "#E5ECF6",
              "width": 0.5
             },
             "pattern": {
              "fillmode": "overlay",
              "size": 10,
              "solidity": 0.2
             }
            },
            "type": "barpolar"
           }
          ],
          "carpet": [
           {
            "aaxis": {
             "endlinecolor": "#2a3f5f",
             "gridcolor": "white",
             "linecolor": "white",
             "minorgridcolor": "white",
             "startlinecolor": "#2a3f5f"
            },
            "baxis": {
             "endlinecolor": "#2a3f5f",
             "gridcolor": "white",
             "linecolor": "white",
             "minorgridcolor": "white",
             "startlinecolor": "#2a3f5f"
            },
            "type": "carpet"
           }
          ],
          "choropleth": [
           {
            "colorbar": {
             "outlinewidth": 0,
             "ticks": ""
            },
            "type": "choropleth"
           }
          ],
          "contour": [
           {
            "colorbar": {
             "outlinewidth": 0,
             "ticks": ""
            },
            "colorscale": [
             [
              0,
              "#0d0887"
             ],
             [
              0.1111111111111111,
              "#46039f"
             ],
             [
              0.2222222222222222,
              "#7201a8"
             ],
             [
              0.3333333333333333,
              "#9c179e"
             ],
             [
              0.4444444444444444,
              "#bd3786"
             ],
             [
              0.5555555555555556,
              "#d8576b"
             ],
             [
              0.6666666666666666,
              "#ed7953"
             ],
             [
              0.7777777777777778,
              "#fb9f3a"
             ],
             [
              0.8888888888888888,
              "#fdca26"
             ],
             [
              1,
              "#f0f921"
             ]
            ],
            "type": "contour"
           }
          ],
          "contourcarpet": [
           {
            "colorbar": {
             "outlinewidth": 0,
             "ticks": ""
            },
            "type": "contourcarpet"
           }
          ],
          "heatmap": [
           {
            "colorbar": {
             "outlinewidth": 0,
             "ticks": ""
            },
            "colorscale": [
             [
              0,
              "#0d0887"
             ],
             [
              0.1111111111111111,
              "#46039f"
             ],
             [
              0.2222222222222222,
              "#7201a8"
             ],
             [
              0.3333333333333333,
              "#9c179e"
             ],
             [
              0.4444444444444444,
              "#bd3786"
             ],
             [
              0.5555555555555556,
              "#d8576b"
             ],
             [
              0.6666666666666666,
              "#ed7953"
             ],
             [
              0.7777777777777778,
              "#fb9f3a"
             ],
             [
              0.8888888888888888,
              "#fdca26"
             ],
             [
              1,
              "#f0f921"
             ]
            ],
            "type": "heatmap"
           }
          ],
          "heatmapgl": [
           {
            "colorbar": {
             "outlinewidth": 0,
             "ticks": ""
            },
            "colorscale": [
             [
              0,
              "#0d0887"
             ],
             [
              0.1111111111111111,
              "#46039f"
             ],
             [
              0.2222222222222222,
              "#7201a8"
             ],
             [
              0.3333333333333333,
              "#9c179e"
             ],
             [
              0.4444444444444444,
              "#bd3786"
             ],
             [
              0.5555555555555556,
              "#d8576b"
             ],
             [
              0.6666666666666666,
              "#ed7953"
             ],
             [
              0.7777777777777778,
              "#fb9f3a"
             ],
             [
              0.8888888888888888,
              "#fdca26"
             ],
             [
              1,
              "#f0f921"
             ]
            ],
            "type": "heatmapgl"
           }
          ],
          "histogram": [
           {
            "marker": {
             "pattern": {
              "fillmode": "overlay",
              "size": 10,
              "solidity": 0.2
             }
            },
            "type": "histogram"
           }
          ],
          "histogram2d": [
           {
            "colorbar": {
             "outlinewidth": 0,
             "ticks": ""
            },
            "colorscale": [
             [
              0,
              "#0d0887"
             ],
             [
              0.1111111111111111,
              "#46039f"
             ],
             [
              0.2222222222222222,
              "#7201a8"
             ],
             [
              0.3333333333333333,
              "#9c179e"
             ],
             [
              0.4444444444444444,
              "#bd3786"
             ],
             [
              0.5555555555555556,
              "#d8576b"
             ],
             [
              0.6666666666666666,
              "#ed7953"
             ],
             [
              0.7777777777777778,
              "#fb9f3a"
             ],
             [
              0.8888888888888888,
              "#fdca26"
             ],
             [
              1,
              "#f0f921"
             ]
            ],
            "type": "histogram2d"
           }
          ],
          "histogram2dcontour": [
           {
            "colorbar": {
             "outlinewidth": 0,
             "ticks": ""
            },
            "colorscale": [
             [
              0,
              "#0d0887"
             ],
             [
              0.1111111111111111,
              "#46039f"
             ],
             [
              0.2222222222222222,
              "#7201a8"
             ],
             [
              0.3333333333333333,
              "#9c179e"
             ],
             [
              0.4444444444444444,
              "#bd3786"
             ],
             [
              0.5555555555555556,
              "#d8576b"
             ],
             [
              0.6666666666666666,
              "#ed7953"
             ],
             [
              0.7777777777777778,
              "#fb9f3a"
             ],
             [
              0.8888888888888888,
              "#fdca26"
             ],
             [
              1,
              "#f0f921"
             ]
            ],
            "type": "histogram2dcontour"
           }
          ],
          "mesh3d": [
           {
            "colorbar": {
             "outlinewidth": 0,
             "ticks": ""
            },
            "type": "mesh3d"
           }
          ],
          "parcoords": [
           {
            "line": {
             "colorbar": {
              "outlinewidth": 0,
              "ticks": ""
             }
            },
            "type": "parcoords"
           }
          ],
          "pie": [
           {
            "automargin": true,
            "type": "pie"
           }
          ],
          "scatter": [
           {
            "fillpattern": {
             "fillmode": "overlay",
             "size": 10,
             "solidity": 0.2
            },
            "type": "scatter"
           }
          ],
          "scatter3d": [
           {
            "line": {
             "colorbar": {
              "outlinewidth": 0,
              "ticks": ""
             }
            },
            "marker": {
             "colorbar": {
              "outlinewidth": 0,
              "ticks": ""
             }
            },
            "type": "scatter3d"
           }
          ],
          "scattercarpet": [
           {
            "marker": {
             "colorbar": {
              "outlinewidth": 0,
              "ticks": ""
             }
            },
            "type": "scattercarpet"
           }
          ],
          "scattergeo": [
           {
            "marker": {
             "colorbar": {
              "outlinewidth": 0,
              "ticks": ""
             }
            },
            "type": "scattergeo"
           }
          ],
          "scattergl": [
           {
            "marker": {
             "colorbar": {
              "outlinewidth": 0,
              "ticks": ""
             }
            },
            "type": "scattergl"
           }
          ],
          "scattermapbox": [
           {
            "marker": {
             "colorbar": {
              "outlinewidth": 0,
              "ticks": ""
             }
            },
            "type": "scattermapbox"
           }
          ],
          "scatterpolar": [
           {
            "marker": {
             "colorbar": {
              "outlinewidth": 0,
              "ticks": ""
             }
            },
            "type": "scatterpolar"
           }
          ],
          "scatterpolargl": [
           {
            "marker": {
             "colorbar": {
              "outlinewidth": 0,
              "ticks": ""
             }
            },
            "type": "scatterpolargl"
           }
          ],
          "scatterternary": [
           {
            "marker": {
             "colorbar": {
              "outlinewidth": 0,
              "ticks": ""
             }
            },
            "type": "scatterternary"
           }
          ],
          "surface": [
           {
            "colorbar": {
             "outlinewidth": 0,
             "ticks": ""
            },
            "colorscale": [
             [
              0,
              "#0d0887"
             ],
             [
              0.1111111111111111,
              "#46039f"
             ],
             [
              0.2222222222222222,
              "#7201a8"
             ],
             [
              0.3333333333333333,
              "#9c179e"
             ],
             [
              0.4444444444444444,
              "#bd3786"
             ],
             [
              0.5555555555555556,
              "#d8576b"
             ],
             [
              0.6666666666666666,
              "#ed7953"
             ],
             [
              0.7777777777777778,
              "#fb9f3a"
             ],
             [
              0.8888888888888888,
              "#fdca26"
             ],
             [
              1,
              "#f0f921"
             ]
            ],
            "type": "surface"
           }
          ],
          "table": [
           {
            "cells": {
             "fill": {
              "color": "#EBF0F8"
             },
             "line": {
              "color": "white"
             }
            },
            "header": {
             "fill": {
              "color": "#C8D4E3"
             },
             "line": {
              "color": "white"
             }
            },
            "type": "table"
           }
          ]
         },
         "layout": {
          "annotationdefaults": {
           "arrowcolor": "#2a3f5f",
           "arrowhead": 0,
           "arrowwidth": 1
          },
          "autotypenumbers": "strict",
          "coloraxis": {
           "colorbar": {
            "outlinewidth": 0,
            "ticks": ""
           }
          },
          "colorscale": {
           "diverging": [
            [
             0,
             "#8e0152"
            ],
            [
             0.1,
             "#c51b7d"
            ],
            [
             0.2,
             "#de77ae"
            ],
            [
             0.3,
             "#f1b6da"
            ],
            [
             0.4,
             "#fde0ef"
            ],
            [
             0.5,
             "#f7f7f7"
            ],
            [
             0.6,
             "#e6f5d0"
            ],
            [
             0.7,
             "#b8e186"
            ],
            [
             0.8,
             "#7fbc41"
            ],
            [
             0.9,
             "#4d9221"
            ],
            [
             1,
             "#276419"
            ]
           ],
           "sequential": [
            [
             0,
             "#0d0887"
            ],
            [
             0.1111111111111111,
             "#46039f"
            ],
            [
             0.2222222222222222,
             "#7201a8"
            ],
            [
             0.3333333333333333,
             "#9c179e"
            ],
            [
             0.4444444444444444,
             "#bd3786"
            ],
            [
             0.5555555555555556,
             "#d8576b"
            ],
            [
             0.6666666666666666,
             "#ed7953"
            ],
            [
             0.7777777777777778,
             "#fb9f3a"
            ],
            [
             0.8888888888888888,
             "#fdca26"
            ],
            [
             1,
             "#f0f921"
            ]
           ],
           "sequentialminus": [
            [
             0,
             "#0d0887"
            ],
            [
             0.1111111111111111,
             "#46039f"
            ],
            [
             0.2222222222222222,
             "#7201a8"
            ],
            [
             0.3333333333333333,
             "#9c179e"
            ],
            [
             0.4444444444444444,
             "#bd3786"
            ],
            [
             0.5555555555555556,
             "#d8576b"
            ],
            [
             0.6666666666666666,
             "#ed7953"
            ],
            [
             0.7777777777777778,
             "#fb9f3a"
            ],
            [
             0.8888888888888888,
             "#fdca26"
            ],
            [
             1,
             "#f0f921"
            ]
           ]
          },
          "colorway": [
           "#636efa",
           "#EF553B",
           "#00cc96",
           "#ab63fa",
           "#FFA15A",
           "#19d3f3",
           "#FF6692",
           "#B6E880",
           "#FF97FF",
           "#FECB52"
          ],
          "font": {
           "color": "#2a3f5f"
          },
          "geo": {
           "bgcolor": "white",
           "lakecolor": "white",
           "landcolor": "#E5ECF6",
           "showlakes": true,
           "showland": true,
           "subunitcolor": "white"
          },
          "hoverlabel": {
           "align": "left"
          },
          "hovermode": "closest",
          "mapbox": {
           "style": "light"
          },
          "paper_bgcolor": "white",
          "plot_bgcolor": "#E5ECF6",
          "polar": {
           "angularaxis": {
            "gridcolor": "white",
            "linecolor": "white",
            "ticks": ""
           },
           "bgcolor": "#E5ECF6",
           "radialaxis": {
            "gridcolor": "white",
            "linecolor": "white",
            "ticks": ""
           }
          },
          "scene": {
           "xaxis": {
            "backgroundcolor": "#E5ECF6",
            "gridcolor": "white",
            "gridwidth": 2,
            "linecolor": "white",
            "showbackground": true,
            "ticks": "",
            "zerolinecolor": "white"
           },
           "yaxis": {
            "backgroundcolor": "#E5ECF6",
            "gridcolor": "white",
            "gridwidth": 2,
            "linecolor": "white",
            "showbackground": true,
            "ticks": "",
            "zerolinecolor": "white"
           },
           "zaxis": {
            "backgroundcolor": "#E5ECF6",
            "gridcolor": "white",
            "gridwidth": 2,
            "linecolor": "white",
            "showbackground": true,
            "ticks": "",
            "zerolinecolor": "white"
           }
          },
          "shapedefaults": {
           "line": {
            "color": "#2a3f5f"
           }
          },
          "ternary": {
           "aaxis": {
            "gridcolor": "white",
            "linecolor": "white",
            "ticks": ""
           },
           "baxis": {
            "gridcolor": "white",
            "linecolor": "white",
            "ticks": ""
           },
           "bgcolor": "#E5ECF6",
           "caxis": {
            "gridcolor": "white",
            "linecolor": "white",
            "ticks": ""
           }
          },
          "title": {
           "x": 0.05
          },
          "xaxis": {
           "automargin": true,
           "gridcolor": "white",
           "linecolor": "white",
           "ticks": "",
           "title": {
            "standoff": 15
           },
           "zerolinecolor": "white",
           "zerolinewidth": 2
          },
          "yaxis": {
           "automargin": true,
           "gridcolor": "white",
           "linecolor": "white",
           "ticks": "",
           "title": {
            "standoff": 15
           },
           "zerolinecolor": "white",
           "zerolinewidth": 2
          }
         }
        },
        "title": {
         "font": {
          "size": 24
         },
         "text": "Sentiment Distribution - Original Text"
        },
        "width": 800,
        "xaxis": {
         "anchor": "y",
         "domain": [
          0,
          1
         ],
         "title": {
          "text": "Sentiment"
         }
        },
        "yaxis": {
         "anchor": "x",
         "domain": [
          0,
          1
         ],
         "title": {
          "text": "Count"
         }
        }
       }
      }
     },
     "metadata": {},
     "output_type": "display_data"
    },
    {
     "data": {
      "application/vnd.plotly.v1+json": {
       "config": {
        "plotlyServerURL": "https://plot.ly"
       },
       "data": [
        {
         "alignmentgroup": "True",
         "hovertemplate": "color=neutral<br>x=%{x}<br>y=%{y}<extra></extra>",
         "legendgroup": "neutral",
         "marker": {
          "color": "#ab63fa",
          "pattern": {
           "shape": ""
          }
         },
         "name": "neutral",
         "offsetgroup": "neutral",
         "orientation": "v",
         "showlegend": true,
         "textposition": "auto",
         "type": "bar",
         "x": [
          "neutral"
         ],
         "xaxis": "x",
         "y": [
          5737
         ],
         "yaxis": "y"
        },
        {
         "alignmentgroup": "True",
         "hovertemplate": "color=negative<br>x=%{x}<br>y=%{y}<extra></extra>",
         "legendgroup": "negative",
         "marker": {
          "color": "#FFA15A",
          "pattern": {
           "shape": ""
          }
         },
         "name": "negative",
         "offsetgroup": "negative",
         "orientation": "v",
         "showlegend": true,
         "textposition": "auto",
         "type": "bar",
         "x": [
          "negative"
         ],
         "xaxis": "x",
         "y": [
          2818
         ],
         "yaxis": "y"
        },
        {
         "alignmentgroup": "True",
         "hovertemplate": "color=positive<br>x=%{x}<br>y=%{y}<extra></extra>",
         "legendgroup": "positive",
         "marker": {
          "color": "#19d3f3",
          "pattern": {
           "shape": ""
          }
         },
         "name": "positive",
         "offsetgroup": "positive",
         "orientation": "v",
         "showlegend": true,
         "textposition": "auto",
         "type": "bar",
         "x": [
          "positive"
         ],
         "xaxis": "x",
         "y": [
          842
         ],
         "yaxis": "y"
        }
       ],
       "layout": {
        "barmode": "relative",
        "height": 600,
        "legend": {
         "title": {
          "text": "color"
         },
         "tracegroupgap": 0
        },
        "margin": {
         "t": 60
        },
        "template": {
         "data": {
          "bar": [
           {
            "error_x": {
             "color": "#2a3f5f"
            },
            "error_y": {
             "color": "#2a3f5f"
            },
            "marker": {
             "line": {
              "color": "#E5ECF6",
              "width": 0.5
             },
             "pattern": {
              "fillmode": "overlay",
              "size": 10,
              "solidity": 0.2
             }
            },
            "type": "bar"
           }
          ],
          "barpolar": [
           {
            "marker": {
             "line": {
              "color": "#E5ECF6",
              "width": 0.5
             },
             "pattern": {
              "fillmode": "overlay",
              "size": 10,
              "solidity": 0.2
             }
            },
            "type": "barpolar"
           }
          ],
          "carpet": [
           {
            "aaxis": {
             "endlinecolor": "#2a3f5f",
             "gridcolor": "white",
             "linecolor": "white",
             "minorgridcolor": "white",
             "startlinecolor": "#2a3f5f"
            },
            "baxis": {
             "endlinecolor": "#2a3f5f",
             "gridcolor": "white",
             "linecolor": "white",
             "minorgridcolor": "white",
             "startlinecolor": "#2a3f5f"
            },
            "type": "carpet"
           }
          ],
          "choropleth": [
           {
            "colorbar": {
             "outlinewidth": 0,
             "ticks": ""
            },
            "type": "choropleth"
           }
          ],
          "contour": [
           {
            "colorbar": {
             "outlinewidth": 0,
             "ticks": ""
            },
            "colorscale": [
             [
              0,
              "#0d0887"
             ],
             [
              0.1111111111111111,
              "#46039f"
             ],
             [
              0.2222222222222222,
              "#7201a8"
             ],
             [
              0.3333333333333333,
              "#9c179e"
             ],
             [
              0.4444444444444444,
              "#bd3786"
             ],
             [
              0.5555555555555556,
              "#d8576b"
             ],
             [
              0.6666666666666666,
              "#ed7953"
             ],
             [
              0.7777777777777778,
              "#fb9f3a"
             ],
             [
              0.8888888888888888,
              "#fdca26"
             ],
             [
              1,
              "#f0f921"
             ]
            ],
            "type": "contour"
           }
          ],
          "contourcarpet": [
           {
            "colorbar": {
             "outlinewidth": 0,
             "ticks": ""
            },
            "type": "contourcarpet"
           }
          ],
          "heatmap": [
           {
            "colorbar": {
             "outlinewidth": 0,
             "ticks": ""
            },
            "colorscale": [
             [
              0,
              "#0d0887"
             ],
             [
              0.1111111111111111,
              "#46039f"
             ],
             [
              0.2222222222222222,
              "#7201a8"
             ],
             [
              0.3333333333333333,
              "#9c179e"
             ],
             [
              0.4444444444444444,
              "#bd3786"
             ],
             [
              0.5555555555555556,
              "#d8576b"
             ],
             [
              0.6666666666666666,
              "#ed7953"
             ],
             [
              0.7777777777777778,
              "#fb9f3a"
             ],
             [
              0.8888888888888888,
              "#fdca26"
             ],
             [
              1,
              "#f0f921"
             ]
            ],
            "type": "heatmap"
           }
          ],
          "heatmapgl": [
           {
            "colorbar": {
             "outlinewidth": 0,
             "ticks": ""
            },
            "colorscale": [
             [
              0,
              "#0d0887"
             ],
             [
              0.1111111111111111,
              "#46039f"
             ],
             [
              0.2222222222222222,
              "#7201a8"
             ],
             [
              0.3333333333333333,
              "#9c179e"
             ],
             [
              0.4444444444444444,
              "#bd3786"
             ],
             [
              0.5555555555555556,
              "#d8576b"
             ],
             [
              0.6666666666666666,
              "#ed7953"
             ],
             [
              0.7777777777777778,
              "#fb9f3a"
             ],
             [
              0.8888888888888888,
              "#fdca26"
             ],
             [
              1,
              "#f0f921"
             ]
            ],
            "type": "heatmapgl"
           }
          ],
          "histogram": [
           {
            "marker": {
             "pattern": {
              "fillmode": "overlay",
              "size": 10,
              "solidity": 0.2
             }
            },
            "type": "histogram"
           }
          ],
          "histogram2d": [
           {
            "colorbar": {
             "outlinewidth": 0,
             "ticks": ""
            },
            "colorscale": [
             [
              0,
              "#0d0887"
             ],
             [
              0.1111111111111111,
              "#46039f"
             ],
             [
              0.2222222222222222,
              "#7201a8"
             ],
             [
              0.3333333333333333,
              "#9c179e"
             ],
             [
              0.4444444444444444,
              "#bd3786"
             ],
             [
              0.5555555555555556,
              "#d8576b"
             ],
             [
              0.6666666666666666,
              "#ed7953"
             ],
             [
              0.7777777777777778,
              "#fb9f3a"
             ],
             [
              0.8888888888888888,
              "#fdca26"
             ],
             [
              1,
              "#f0f921"
             ]
            ],
            "type": "histogram2d"
           }
          ],
          "histogram2dcontour": [
           {
            "colorbar": {
             "outlinewidth": 0,
             "ticks": ""
            },
            "colorscale": [
             [
              0,
              "#0d0887"
             ],
             [
              0.1111111111111111,
              "#46039f"
             ],
             [
              0.2222222222222222,
              "#7201a8"
             ],
             [
              0.3333333333333333,
              "#9c179e"
             ],
             [
              0.4444444444444444,
              "#bd3786"
             ],
             [
              0.5555555555555556,
              "#d8576b"
             ],
             [
              0.6666666666666666,
              "#ed7953"
             ],
             [
              0.7777777777777778,
              "#fb9f3a"
             ],
             [
              0.8888888888888888,
              "#fdca26"
             ],
             [
              1,
              "#f0f921"
             ]
            ],
            "type": "histogram2dcontour"
           }
          ],
          "mesh3d": [
           {
            "colorbar": {
             "outlinewidth": 0,
             "ticks": ""
            },
            "type": "mesh3d"
           }
          ],
          "parcoords": [
           {
            "line": {
             "colorbar": {
              "outlinewidth": 0,
              "ticks": ""
             }
            },
            "type": "parcoords"
           }
          ],
          "pie": [
           {
            "automargin": true,
            "type": "pie"
           }
          ],
          "scatter": [
           {
            "fillpattern": {
             "fillmode": "overlay",
             "size": 10,
             "solidity": 0.2
            },
            "type": "scatter"
           }
          ],
          "scatter3d": [
           {
            "line": {
             "colorbar": {
              "outlinewidth": 0,
              "ticks": ""
             }
            },
            "marker": {
             "colorbar": {
              "outlinewidth": 0,
              "ticks": ""
             }
            },
            "type": "scatter3d"
           }
          ],
          "scattercarpet": [
           {
            "marker": {
             "colorbar": {
              "outlinewidth": 0,
              "ticks": ""
             }
            },
            "type": "scattercarpet"
           }
          ],
          "scattergeo": [
           {
            "marker": {
             "colorbar": {
              "outlinewidth": 0,
              "ticks": ""
             }
            },
            "type": "scattergeo"
           }
          ],
          "scattergl": [
           {
            "marker": {
             "colorbar": {
              "outlinewidth": 0,
              "ticks": ""
             }
            },
            "type": "scattergl"
           }
          ],
          "scattermapbox": [
           {
            "marker": {
             "colorbar": {
              "outlinewidth": 0,
              "ticks": ""
             }
            },
            "type": "scattermapbox"
           }
          ],
          "scatterpolar": [
           {
            "marker": {
             "colorbar": {
              "outlinewidth": 0,
              "ticks": ""
             }
            },
            "type": "scatterpolar"
           }
          ],
          "scatterpolargl": [
           {
            "marker": {
             "colorbar": {
              "outlinewidth": 0,
              "ticks": ""
             }
            },
            "type": "scatterpolargl"
           }
          ],
          "scatterternary": [
           {
            "marker": {
             "colorbar": {
              "outlinewidth": 0,
              "ticks": ""
             }
            },
            "type": "scatterternary"
           }
          ],
          "surface": [
           {
            "colorbar": {
             "outlinewidth": 0,
             "ticks": ""
            },
            "colorscale": [
             [
              0,
              "#0d0887"
             ],
             [
              0.1111111111111111,
              "#46039f"
             ],
             [
              0.2222222222222222,
              "#7201a8"
             ],
             [
              0.3333333333333333,
              "#9c179e"
             ],
             [
              0.4444444444444444,
              "#bd3786"
             ],
             [
              0.5555555555555556,
              "#d8576b"
             ],
             [
              0.6666666666666666,
              "#ed7953"
             ],
             [
              0.7777777777777778,
              "#fb9f3a"
             ],
             [
              0.8888888888888888,
              "#fdca26"
             ],
             [
              1,
              "#f0f921"
             ]
            ],
            "type": "surface"
           }
          ],
          "table": [
           {
            "cells": {
             "fill": {
              "color": "#EBF0F8"
             },
             "line": {
              "color": "white"
             }
            },
            "header": {
             "fill": {
              "color": "#C8D4E3"
             },
             "line": {
              "color": "white"
             }
            },
            "type": "table"
           }
          ]
         },
         "layout": {
          "annotationdefaults": {
           "arrowcolor": "#2a3f5f",
           "arrowhead": 0,
           "arrowwidth": 1
          },
          "autotypenumbers": "strict",
          "coloraxis": {
           "colorbar": {
            "outlinewidth": 0,
            "ticks": ""
           }
          },
          "colorscale": {
           "diverging": [
            [
             0,
             "#8e0152"
            ],
            [
             0.1,
             "#c51b7d"
            ],
            [
             0.2,
             "#de77ae"
            ],
            [
             0.3,
             "#f1b6da"
            ],
            [
             0.4,
             "#fde0ef"
            ],
            [
             0.5,
             "#f7f7f7"
            ],
            [
             0.6,
             "#e6f5d0"
            ],
            [
             0.7,
             "#b8e186"
            ],
            [
             0.8,
             "#7fbc41"
            ],
            [
             0.9,
             "#4d9221"
            ],
            [
             1,
             "#276419"
            ]
           ],
           "sequential": [
            [
             0,
             "#0d0887"
            ],
            [
             0.1111111111111111,
             "#46039f"
            ],
            [
             0.2222222222222222,
             "#7201a8"
            ],
            [
             0.3333333333333333,
             "#9c179e"
            ],
            [
             0.4444444444444444,
             "#bd3786"
            ],
            [
             0.5555555555555556,
             "#d8576b"
            ],
            [
             0.6666666666666666,
             "#ed7953"
            ],
            [
             0.7777777777777778,
             "#fb9f3a"
            ],
            [
             0.8888888888888888,
             "#fdca26"
            ],
            [
             1,
             "#f0f921"
            ]
           ],
           "sequentialminus": [
            [
             0,
             "#0d0887"
            ],
            [
             0.1111111111111111,
             "#46039f"
            ],
            [
             0.2222222222222222,
             "#7201a8"
            ],
            [
             0.3333333333333333,
             "#9c179e"
            ],
            [
             0.4444444444444444,
             "#bd3786"
            ],
            [
             0.5555555555555556,
             "#d8576b"
            ],
            [
             0.6666666666666666,
             "#ed7953"
            ],
            [
             0.7777777777777778,
             "#fb9f3a"
            ],
            [
             0.8888888888888888,
             "#fdca26"
            ],
            [
             1,
             "#f0f921"
            ]
           ]
          },
          "colorway": [
           "#636efa",
           "#EF553B",
           "#00cc96",
           "#ab63fa",
           "#FFA15A",
           "#19d3f3",
           "#FF6692",
           "#B6E880",
           "#FF97FF",
           "#FECB52"
          ],
          "font": {
           "color": "#2a3f5f"
          },
          "geo": {
           "bgcolor": "white",
           "lakecolor": "white",
           "landcolor": "#E5ECF6",
           "showlakes": true,
           "showland": true,
           "subunitcolor": "white"
          },
          "hoverlabel": {
           "align": "left"
          },
          "hovermode": "closest",
          "mapbox": {
           "style": "light"
          },
          "paper_bgcolor": "white",
          "plot_bgcolor": "#E5ECF6",
          "polar": {
           "angularaxis": {
            "gridcolor": "white",
            "linecolor": "white",
            "ticks": ""
           },
           "bgcolor": "#E5ECF6",
           "radialaxis": {
            "gridcolor": "white",
            "linecolor": "white",
            "ticks": ""
           }
          },
          "scene": {
           "xaxis": {
            "backgroundcolor": "#E5ECF6",
            "gridcolor": "white",
            "gridwidth": 2,
            "linecolor": "white",
            "showbackground": true,
            "ticks": "",
            "zerolinecolor": "white"
           },
           "yaxis": {
            "backgroundcolor": "#E5ECF6",
            "gridcolor": "white",
            "gridwidth": 2,
            "linecolor": "white",
            "showbackground": true,
            "ticks": "",
            "zerolinecolor": "white"
           },
           "zaxis": {
            "backgroundcolor": "#E5ECF6",
            "gridcolor": "white",
            "gridwidth": 2,
            "linecolor": "white",
            "showbackground": true,
            "ticks": "",
            "zerolinecolor": "white"
           }
          },
          "shapedefaults": {
           "line": {
            "color": "#2a3f5f"
           }
          },
          "ternary": {
           "aaxis": {
            "gridcolor": "white",
            "linecolor": "white",
            "ticks": ""
           },
           "baxis": {
            "gridcolor": "white",
            "linecolor": "white",
            "ticks": ""
           },
           "bgcolor": "#E5ECF6",
           "caxis": {
            "gridcolor": "white",
            "linecolor": "white",
            "ticks": ""
           }
          },
          "title": {
           "x": 0.05
          },
          "xaxis": {
           "automargin": true,
           "gridcolor": "white",
           "linecolor": "white",
           "ticks": "",
           "title": {
            "standoff": 15
           },
           "zerolinecolor": "white",
           "zerolinewidth": 2
          },
          "yaxis": {
           "automargin": true,
           "gridcolor": "white",
           "linecolor": "white",
           "ticks": "",
           "title": {
            "standoff": 15
           },
           "zerolinecolor": "white",
           "zerolinewidth": 2
          }
         }
        },
        "title": {
         "font": {
          "size": 24
         },
         "text": "Sentiment Distribution - Cleaned Text"
        },
        "width": 800,
        "xaxis": {
         "anchor": "y",
         "domain": [
          0,
          1
         ],
         "title": {
          "text": "Sentiment"
         }
        },
        "yaxis": {
         "anchor": "x",
         "domain": [
          0,
          1
         ],
         "title": {
          "text": "Count"
         }
        }
       }
      }
     },
     "metadata": {},
     "output_type": "display_data"
    }
   ],
   "source": [
    "Sentiment_Methods.plot_sentiment_analysis(modell_original19, modell_processed19)"
   ]
  },
  {
   "cell_type": "code",
   "execution_count": 32,
   "metadata": {},
   "outputs": [
    {
     "ename": "NameError",
     "evalue": "name 'modell_cleaned19' is not defined",
     "output_type": "error",
     "traceback": [
      "\u001b[1;31m---------------------------------------------------------------------------\u001b[0m",
      "\u001b[1;31mNameError\u001b[0m                                 Traceback (most recent call last)",
      "\u001b[1;32mc:\\Users\\paula\\OneDrive\\Uni\\2. Lernpools Master\\3. Semester\\Soziologie\\Politische-Debatten\\Data_Preprocessing.ipynb Cell 23\u001b[0m line \u001b[0;36m1\n\u001b[1;32m----> <a href='vscode-notebook-cell:/c%3A/Users/paula/OneDrive/Uni/2.%20Lernpools%20Master/3.%20Semester/Soziologie/Politische-Debatten/Data_Preprocessing.ipynb#X33sZmlsZQ%3D%3D?line=0'>1</a>\u001b[0m Sentiment_Methods\u001b[39m.\u001b[39mplot_sentiment_wordclouds (modell_cleaned19)\n\u001b[0;32m      <a href='vscode-notebook-cell:/c%3A/Users/paula/OneDrive/Uni/2.%20Lernpools%20Master/3.%20Semester/Soziologie/Politische-Debatten/Data_Preprocessing.ipynb#X33sZmlsZQ%3D%3D?line=1'>2</a>\u001b[0m Sentiment_Methods\u001b[39m.\u001b[39mplot_sentiment_wordclouds (modell_processed19)\n",
      "\u001b[1;31mNameError\u001b[0m: name 'modell_cleaned19' is not defined"
     ]
    }
   ],
   "source": [
    "Sentiment_Methods.plot_sentiment_wordclouds (modell_cleaned19)\n",
    "Sentiment_Methods.plot_sentiment_wordclouds (modell_processed19)"
   ]
  }
 ],
 "metadata": {
  "kernelspec": {
   "display_name": "soziologie",
   "language": "python",
   "name": "python3"
  },
  "language_info": {
   "codemirror_mode": {
    "name": "ipython",
    "version": 3
   },
   "file_extension": ".py",
   "mimetype": "text/x-python",
   "name": "python",
   "nbconvert_exporter": "python",
   "pygments_lexer": "ipython3",
   "version": "3.11.4"
  },
  "orig_nbformat": 4
 },
 "nbformat": 4,
 "nbformat_minor": 2
}
