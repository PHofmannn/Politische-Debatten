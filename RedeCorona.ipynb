{
 "cells": [
  {
   "cell_type": "code",
   "execution_count": 1,
   "id": "6be85646-abbe-48f8-9d68-fe9726df4877",
   "metadata": {
    "tags": []
   },
   "outputs": [],
   "source": [
    "# Packages\n",
    "import jsonlines\n",
    "import nltk\n",
    "\n",
    "from collections import Counter     # um worte zu zählen\n",
    "import matplotlib.pyplot as mpl     # Für Visualisierung\n",
    "import numpy as np\n",
    "import pandas as pd\n",
    "pd.options.mode.chained_assignment = None \n",
    "\n",
    "from wordcloud import WordCloud, STOPWORDS, ImageColorGenerator\n"
   ]
  },
  {
   "cell_type": "code",
   "execution_count": 2,
   "id": "e47fbce2-c24b-4ff9-a1fe-b7be8ac87bd7",
   "metadata": {
    "tags": []
   },
   "outputs": [],
   "source": [
    "from __future__ import print_function\n",
    "import ipywidgets as widgets\n",
    "\n",
    "#Packages für Datenvisualisierung\n",
    "import plotly\n",
    "import plotly_express as px\n",
    "import plotly.graph_objects as go"
   ]
  },
  {
   "attachments": {},
   "cell_type": "markdown",
   "id": "c450a71b-77fe-47e4-ae9e-4b4d7234dc18",
   "metadata": {},
   "source": [
    "# Loading the Data"
   ]
  },
  {
   "cell_type": "code",
   "execution_count": 4,
   "id": "3bf6e7e5-0bb1-4a20-b6e0-0a0b87a4d900",
   "metadata": {
    "tags": []
   },
   "outputs": [
    {
     "data": {
      "text/plain": [
       "(16, 8)"
      ]
     },
     "execution_count": 4,
     "metadata": {},
     "output_type": "execute_result"
    }
   ],
   "source": [
    "# df Legislaturperiode 2019 (24.10.2017-26.09.21)\n",
    "df19 = pd.read_json('/Users/Paulahofmann/OneDrive/Uni/2. Lernpools Master/3. Semester/Soziologie/Data/speeches_19.jsonl', lines=True)\n",
    "df19['date'] = pd.to_datetime(df19['date'])\n",
    "df19.sort_values(by='date')\n",
    "\n",
    "#Nach Recherche wird zuerst nur Datensatz über die 218.Sitzung gedownloadet. hier insbesondere der Zusatzpunkt 6: \n",
    "df_corona = df19[df19['date']==\"2021-03-25\"]\n",
    "df_corona = df_corona[df_corona['discussion_title']==\"Zusatzpunkt 6 2021-03-25\"]\n",
    "\n",
    "# Zwischenspeichern des Originaldatensatzes\n",
    "df_corona1 = df_corona\n",
    "\n",
    "#Ausgabe der ersten 3 Zeilen\n",
    "df_corona1.head (3)\n",
    "\n",
    "df_corona1.shape"
   ]
  },
  {
   "cell_type": "code",
   "execution_count": 6,
   "id": "65989c09-b22d-4c91-b4d1-1c47edc8b03a",
   "metadata": {
    "tags": []
   },
   "outputs": [
    {
     "data": {
      "text/plain": [
       "(963, 8)"
      ]
     },
     "execution_count": 6,
     "metadata": {},
     "output_type": "execute_result"
    }
   ],
   "source": [
    "#Jeden Satz als einzelne Zeile. Nach \".\" erfolgt Trennung. \n",
    "df_corona['text'] = df_corona['text'].str.split('[.]')\n",
    "df_corona = df_corona.explode('text').reset_index(drop=True)\n",
    "cols = list(df_corona.columns)\n",
    "cols.append(cols.pop(cols.index('name')))\n",
    "df_corona = df_corona[cols]\n",
    "\n",
    "#Ausgabe der ersten 3 Zeilen\n",
    "df_corona.head (3)\n",
    "df_corona.shape"
   ]
  },
  {
   "cell_type": "code",
   "execution_count": 64,
   "id": "1e7f60ec-0812-4415-8066-f5308d04bb3b",
   "metadata": {
    "tags": []
   },
   "outputs": [
    {
     "data": {
      "text/html": [
       "<div>\n",
       "<style scoped>\n",
       "    .dataframe tbody tr th:only-of-type {\n",
       "        vertical-align: middle;\n",
       "    }\n",
       "\n",
       "    .dataframe tbody tr th {\n",
       "        vertical-align: top;\n",
       "    }\n",
       "\n",
       "    .dataframe thead th {\n",
       "        text-align: right;\n",
       "    }\n",
       "</style>\n",
       "<table border=\"1\" class=\"dataframe\">\n",
       "  <thead>\n",
       "    <tr style=\"text-align: right;\">\n",
       "      <th></th>\n",
       "      <th>text</th>\n",
       "      <th>id</th>\n",
       "      <th>period</th>\n",
       "      <th>date</th>\n",
       "      <th>party</th>\n",
       "      <th>redner_id</th>\n",
       "      <th>discussion_title</th>\n",
       "      <th>name</th>\n",
       "      <th>Clean_Text</th>\n",
       "    </tr>\n",
       "  </thead>\n",
       "  <tbody>\n",
       "    <tr>\n",
       "      <th>0</th>\n",
       "      <td>Sehr geehrter Herr Präsident! Liebe Kolleginne...</td>\n",
       "      <td>ID1921800100</td>\n",
       "      <td>19</td>\n",
       "      <td>2021-03-25</td>\n",
       "      <td>CDU/CSU</td>\n",
       "      <td>11001478</td>\n",
       "      <td>Zusatzpunkt 6 2021-03-25</td>\n",
       "      <td>Angela Merkel</td>\n",
       "      <td>sehr geehrter herr präsident! liebe kolleginne...</td>\n",
       "    </tr>\n",
       "    <tr>\n",
       "      <th>1</th>\n",
       "      <td>Das wird er auch in diesem Jahr tun</td>\n",
       "      <td>ID1921800100</td>\n",
       "      <td>19</td>\n",
       "      <td>2021-03-25</td>\n",
       "      <td>CDU/CSU</td>\n",
       "      <td>11001478</td>\n",
       "      <td>Zusatzpunkt 6 2021-03-25</td>\n",
       "      <td>Angela Merkel</td>\n",
       "      <td>das wird er auch in diesem jahr tun</td>\n",
       "    </tr>\n",
       "    <tr>\n",
       "      <th>2</th>\n",
       "      <td>Aber genauso wie beim Europäischen Rat im Mär...</td>\n",
       "      <td>ID1921800100</td>\n",
       "      <td>19</td>\n",
       "      <td>2021-03-25</td>\n",
       "      <td>CDU/CSU</td>\n",
       "      <td>11001478</td>\n",
       "      <td>Zusatzpunkt 6 2021-03-25</td>\n",
       "      <td>Angela Merkel</td>\n",
       "      <td>aber genauso wie beim europäischen rat im mär...</td>\n",
       "    </tr>\n",
       "  </tbody>\n",
       "</table>\n",
       "</div>"
      ],
      "text/plain": [
       "                                                text            id  period  \\\n",
       "0  Sehr geehrter Herr Präsident! Liebe Kolleginne...  ID1921800100      19   \n",
       "1                Das wird er auch in diesem Jahr tun  ID1921800100      19   \n",
       "2   Aber genauso wie beim Europäischen Rat im Mär...  ID1921800100      19   \n",
       "\n",
       "        date    party redner_id          discussion_title           name  \\\n",
       "0 2021-03-25  CDU/CSU  11001478  Zusatzpunkt 6 2021-03-25  Angela Merkel   \n",
       "1 2021-03-25  CDU/CSU  11001478  Zusatzpunkt 6 2021-03-25  Angela Merkel   \n",
       "2 2021-03-25  CDU/CSU  11001478  Zusatzpunkt 6 2021-03-25  Angela Merkel   \n",
       "\n",
       "                                          Clean_Text  \n",
       "0  sehr geehrter herr präsident! liebe kolleginne...  \n",
       "1                das wird er auch in diesem jahr tun  \n",
       "2   aber genauso wie beim europäischen rat im mär...  "
      ]
     },
     "execution_count": 64,
     "metadata": {},
     "output_type": "execute_result"
    }
   ],
   "source": []
  },
  {
   "attachments": {},
   "cell_type": "markdown",
   "id": "e9864a0a-95fd-410d-af5b-8dfebcfa76cd",
   "metadata": {
    "tags": []
   },
   "source": [
    "# Data Processing"
   ]
  },
  {
   "cell_type": "code",
   "execution_count": 7,
   "id": "5fa6d62c-910c-4ae9-8a03-bf348c894203",
   "metadata": {
    "tags": []
   },
   "outputs": [],
   "source": [
    "# Text Preprocessing für Modell, alles kleinschreiben\n",
    "#def clean_text(text):\n",
    "    #text = str.lower(text)\n",
    "    #return text\n",
    "\n",
    "#df_corona[\"Clean_Text\"] = df_corona['text'].map(lambda text: clean_text(text))\n",
    "\n",
    "df_corona[\"Clean_Text\"] = df_corona['text']\n",
    "\n",
    "#df_corona.head (3)"
   ]
  },
  {
   "cell_type": "code",
   "execution_count": 13,
   "id": "0b7d0ddc-6f88-4c22-9817-35801f0f4a5f",
   "metadata": {
    "tags": []
   },
   "outputs": [
    {
     "data": {
      "text/plain": [
       "<Axes: ylabel='party'>"
      ]
     },
     "execution_count": 13,
     "metadata": {},
     "output_type": "execute_result"
    },
    {
     "data": {
      "image/png": "[encoded data removed]",
      "text/plain": [
       "<Figure size 1000x1000 with 1 Axes>"
      ]
     },
     "metadata": {},
     "output_type": "display_data"
    }
   ],
   "source": [
    "#Anzahl an Reden in Panda Data Frame festhalten\n",
    "Series = pd.Series(df_corona1['party'].value_counts())\n",
    "series19 = Series.sort_index(ascending=True)\n",
    "series19.plot.pie(y='party',figsize=(10, 10), autopct='%1.1f%%')\n"
   ]
  },
  {
   "attachments": {},
   "cell_type": "markdown",
   "id": "b04755ea-ae27-41ab-ba36-a9ab838d1cdb",
   "metadata": {},
   "source": [
    "# Sentiment Analyse mit Hugging Face´s Pipeline"
   ]
  },
  {
   "cell_type": "code",
   "execution_count": 14,
   "id": "67ba3a10-d431-40cb-94a3-d4cf83355344",
   "metadata": {
    "tags": []
   },
   "outputs": [],
   "source": [
    "from transformers import pipeline\n",
    "from germansentiment import SentimentModel\n"
   ]
  },
  {
   "cell_type": "code",
   "execution_count": 15,
   "id": "466ea7b0-6c49-42e9-86ca-f9e465da77bc",
   "metadata": {
    "tags": []
   },
   "outputs": [
    {
     "name": "stdout",
     "output_type": "stream",
     "text": [
      " Aber genauso wie beim Europäischen Rat im März vergangenen Jahres, als Europa am Beginn einer weltumspannenden Pandemie stand, deren Wucht uns damals allen völlig neu war, eine Pandemie von ungeahntem Ausmaß, zeigt die Tatsache, dass wir wieder in digitalem Format tagen werden, dass die Pandemie leider bei Weitem noch nicht überwunden ist\n"
     ]
    }
   ],
   "source": [
    "corpus = list(df_corona['Clean_Text'].values)\n",
    "\n",
    "print (corpus [2])"
   ]
  },
  {
   "cell_type": "code",
   "execution_count": null,
   "id": "b585ed47-5d28-43ed-bf2e-e38e1e353c1a",
   "metadata": {
    "tags": []
   },
   "outputs": [],
   "source": [
    "nlp_sentiment = pipeline(\"sentiment-analysis\", model='oliverguhr/german-sentiment-bert')\n",
    "\n",
    "df_corona[\"Sentiment\"] = nlp_sentiment(corpus)\n",
    "\n",
    "# The pipeline's sentiment analysis output consists of a label and a score\n",
    "# I prefer to extract them into separate columns\n"
   ]
  },
  {
   "cell_type": "code",
   "execution_count": null,
   "id": "353a53aa-453b-4719-a1d3-86e387e2b126",
   "metadata": {},
   "outputs": [],
   "source": [
    "df_corona['Sentiment_Label'] = [x.get('label') for x in df_corona['Sentiment']]\n",
    "\n",
    "df_corona['Sentiment_Score'] = [x.get('score') for x in df_corona['Sentiment']]\n",
    "\n",
    "df_corona.head()\n",
    "\n",
    "df_corona['Sentiment_Label'].value_counts()\n",
    "\n",
    "df_corona.to_csv ('Analyse')"
   ]
  },
  {
   "cell_type": "code",
   "execution_count": null,
   "id": "ff4ea4a2-d996-42d9-9623-e30232c62ab7",
   "metadata": {
    "tags": []
   },
   "outputs": [
    {
     "name": "stderr",
     "output_type": "stream",
     "text": [
      "No model was supplied, defaulted to distilbert-base-uncased-finetuned-sst-2-english and revision af0f99b (https://huggingface.co/distilbert-base-uncased-finetuned-sst-2-english).\n",
      "Using a pipeline without specifying a model name and revision in production is not recommended.\n"
     ]
    }
   ],
   "source": []
  },
  {
   "cell_type": "code",
   "execution_count": null,
   "id": "25500749-f1f5-4e44-bf23-2035803649eb",
   "metadata": {
    "tags": []
   },
   "outputs": [],
   "source": []
  }
 ],
 "metadata": {
  "kernelspec": {
   "display_name": "Python 3 (ipykernel)",
   "language": "python",
   "name": "python3"
  },
  "language_info": {
   "codemirror_mode": {
    "name": "ipython",
    "version": 3
   },
   "file_extension": ".py",
   "mimetype": "text/x-python",
   "name": "python",
   "nbconvert_exporter": "python",
   "pygments_lexer": "ipython3",
   "version": "3.11.3"
  }
 },
 "nbformat": 4,
 "nbformat_minor": 5
}
